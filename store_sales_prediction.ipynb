{
 "cells": [
  {
   "cell_type": "code",
   "execution_count": 1,
   "metadata": {},
   "outputs": [
    {
     "name": "stderr",
     "output_type": "stream",
     "text": [
      "The package pingouin is out of date. Your version is 0.5.3, the latest is 0.5.4.\n",
      "Set the environment variable OUTDATED_IGNORE=1 to disable these warnings.\n"
     ]
    }
   ],
   "source": [
    "import itertools\n",
    "import matplotlib.pyplot as plt\n",
    "import numpy as np\n",
    "import optuna \n",
    "import pandas as pd\n",
    "import pickle\n",
    "import re\n",
    "import seaborn as sns\n",
    "import sys\n",
    "sys.path.append('../ds_core_sanpier/ds_core_sanpi/')\n",
    "from catboost import CatBoostRegressor\n",
    "from classifier_utils import classification_metrics\n",
    "from datetime import timedelta\n",
    "from exploratory_data_analyzer import EDA_Preprocessor\n",
    "from itertools import product\n",
    "from lightgbm import LGBMClassifier, LGBMRegressor\n",
    "from regressor_utils import Regressor, regression_metrics\n",
    "from sklearn.ensemble import RandomForestRegressor, ExtraTreesRegressor, GradientBoostingRegressor, BaggingRegressor, AdaBoostRegressor, StackingRegressor, VotingRegressor\n",
    "from statsmodels.tsa.seasonal import seasonal_decompose\n",
    "from statsmodels.tsa.statespace.sarimax import SARIMAX\n",
    "from tqdm import tqdm\n",
    "\n",
    "%load_ext autoreload\n",
    "%autoreload 2"
   ]
  },
  {
   "cell_type": "code",
   "execution_count": 2,
   "metadata": {},
   "outputs": [],
   "source": [
    "pd.set_option('display.max_columns', None)\n",
    "pd.set_option('display.width', 200)"
   ]
  },
  {
   "cell_type": "markdown",
   "metadata": {},
   "source": [
    "# Load"
   ]
  },
  {
   "cell_type": "code",
   "execution_count": 3,
   "metadata": {},
   "outputs": [
    {
     "name": "stdout",
     "output_type": "stream",
     "text": [
      "(3000888, 6)\n"
     ]
    },
    {
     "data": {
      "text/html": [
       "<div>\n",
       "<style scoped>\n",
       "    .dataframe tbody tr th:only-of-type {\n",
       "        vertical-align: middle;\n",
       "    }\n",
       "\n",
       "    .dataframe tbody tr th {\n",
       "        vertical-align: top;\n",
       "    }\n",
       "\n",
       "    .dataframe thead th {\n",
       "        text-align: right;\n",
       "    }\n",
       "</style>\n",
       "<table border=\"1\" class=\"dataframe\">\n",
       "  <thead>\n",
       "    <tr style=\"text-align: right;\">\n",
       "      <th></th>\n",
       "      <th>id</th>\n",
       "      <th>date</th>\n",
       "      <th>store_nbr</th>\n",
       "      <th>family</th>\n",
       "      <th>sales</th>\n",
       "      <th>onpromotion</th>\n",
       "    </tr>\n",
       "  </thead>\n",
       "  <tbody>\n",
       "    <tr>\n",
       "      <th>3000887</th>\n",
       "      <td>3000887</td>\n",
       "      <td>2017-08-15</td>\n",
       "      <td>9</td>\n",
       "      <td>SEAFOOD</td>\n",
       "      <td>16.0</td>\n",
       "      <td>0</td>\n",
       "    </tr>\n",
       "  </tbody>\n",
       "</table>\n",
       "</div>"
      ],
      "text/plain": [
       "              id       date  store_nbr   family  sales  onpromotion\n",
       "3000887  3000887 2017-08-15          9  SEAFOOD   16.0            0"
      ]
     },
     "execution_count": 3,
     "metadata": {},
     "output_type": "execute_result"
    }
   ],
   "source": [
    "# training data\n",
    "df_train = pd.read_csv(\"./data/train.csv\", sep=\",\")\n",
    "df_train['date'] = pd.to_datetime(df_train['date'])\n",
    "print(df_train.shape)\n",
    "df_train.tail(1)"
   ]
  },
  {
   "cell_type": "code",
   "execution_count": 4,
   "metadata": {},
   "outputs": [
    {
     "name": "stdout",
     "output_type": "stream",
     "text": [
      "(28512, 5)\n"
     ]
    },
    {
     "data": {
      "text/html": [
       "<div>\n",
       "<style scoped>\n",
       "    .dataframe tbody tr th:only-of-type {\n",
       "        vertical-align: middle;\n",
       "    }\n",
       "\n",
       "    .dataframe tbody tr th {\n",
       "        vertical-align: top;\n",
       "    }\n",
       "\n",
       "    .dataframe thead th {\n",
       "        text-align: right;\n",
       "    }\n",
       "</style>\n",
       "<table border=\"1\" class=\"dataframe\">\n",
       "  <thead>\n",
       "    <tr style=\"text-align: right;\">\n",
       "      <th></th>\n",
       "      <th>id</th>\n",
       "      <th>date</th>\n",
       "      <th>store_nbr</th>\n",
       "      <th>family</th>\n",
       "      <th>onpromotion</th>\n",
       "    </tr>\n",
       "  </thead>\n",
       "  <tbody>\n",
       "    <tr>\n",
       "      <th>0</th>\n",
       "      <td>3000888</td>\n",
       "      <td>2017-08-16</td>\n",
       "      <td>1</td>\n",
       "      <td>AUTOMOTIVE</td>\n",
       "      <td>0</td>\n",
       "    </tr>\n",
       "  </tbody>\n",
       "</table>\n",
       "</div>"
      ],
      "text/plain": [
       "        id       date  store_nbr      family  onpromotion\n",
       "0  3000888 2017-08-16          1  AUTOMOTIVE            0"
      ]
     },
     "execution_count": 4,
     "metadata": {},
     "output_type": "execute_result"
    }
   ],
   "source": [
    "# test data\n",
    "df_test = pd.read_csv(\"./data/test.csv\", sep=\",\")\n",
    "df_test['date'] = pd.to_datetime(df_test['date'])\n",
    "print(df_test.shape)\n",
    "df_test.head(1)"
   ]
  },
  {
   "cell_type": "code",
   "execution_count": 5,
   "metadata": {},
   "outputs": [
    {
     "name": "stdout",
     "output_type": "stream",
     "text": [
      "(54, 5)\n"
     ]
    },
    {
     "data": {
      "text/html": [
       "<div>\n",
       "<style scoped>\n",
       "    .dataframe tbody tr th:only-of-type {\n",
       "        vertical-align: middle;\n",
       "    }\n",
       "\n",
       "    .dataframe tbody tr th {\n",
       "        vertical-align: top;\n",
       "    }\n",
       "\n",
       "    .dataframe thead th {\n",
       "        text-align: right;\n",
       "    }\n",
       "</style>\n",
       "<table border=\"1\" class=\"dataframe\">\n",
       "  <thead>\n",
       "    <tr style=\"text-align: right;\">\n",
       "      <th></th>\n",
       "      <th>store_nbr</th>\n",
       "      <th>city</th>\n",
       "      <th>state</th>\n",
       "      <th>type</th>\n",
       "      <th>cluster</th>\n",
       "    </tr>\n",
       "  </thead>\n",
       "  <tbody>\n",
       "    <tr>\n",
       "      <th>0</th>\n",
       "      <td>1</td>\n",
       "      <td>Quito</td>\n",
       "      <td>Pichincha</td>\n",
       "      <td>D</td>\n",
       "      <td>13</td>\n",
       "    </tr>\n",
       "  </tbody>\n",
       "</table>\n",
       "</div>"
      ],
      "text/plain": [
       "   store_nbr   city      state type  cluster\n",
       "0          1  Quito  Pichincha    D       13"
      ]
     },
     "execution_count": 5,
     "metadata": {},
     "output_type": "execute_result"
    }
   ],
   "source": [
    "# store data\n",
    "df_store = pd.read_csv(\"./data/stores.csv\", sep=\",\")\n",
    "print(df_store.shape)\n",
    "df_store.head(1)"
   ]
  },
  {
   "cell_type": "code",
   "execution_count": 6,
   "metadata": {},
   "outputs": [
    {
     "name": "stdout",
     "output_type": "stream",
     "text": [
      "(83488, 3)\n"
     ]
    },
    {
     "data": {
      "text/html": [
       "<div>\n",
       "<style scoped>\n",
       "    .dataframe tbody tr th:only-of-type {\n",
       "        vertical-align: middle;\n",
       "    }\n",
       "\n",
       "    .dataframe tbody tr th {\n",
       "        vertical-align: top;\n",
       "    }\n",
       "\n",
       "    .dataframe thead th {\n",
       "        text-align: right;\n",
       "    }\n",
       "</style>\n",
       "<table border=\"1\" class=\"dataframe\">\n",
       "  <thead>\n",
       "    <tr style=\"text-align: right;\">\n",
       "      <th></th>\n",
       "      <th>date</th>\n",
       "      <th>store_nbr</th>\n",
       "      <th>transactions</th>\n",
       "    </tr>\n",
       "  </thead>\n",
       "  <tbody>\n",
       "    <tr>\n",
       "      <th>0</th>\n",
       "      <td>2013-01-01</td>\n",
       "      <td>25</td>\n",
       "      <td>770</td>\n",
       "    </tr>\n",
       "  </tbody>\n",
       "</table>\n",
       "</div>"
      ],
      "text/plain": [
       "        date  store_nbr  transactions\n",
       "0 2013-01-01         25           770"
      ]
     },
     "execution_count": 6,
     "metadata": {},
     "output_type": "execute_result"
    }
   ],
   "source": [
    "# transactions data\n",
    "df_transactions = pd.read_csv(\"./data/transactions.csv\", sep=\",\")\n",
    "df_transactions['date'] = pd.to_datetime(df_transactions['date'])\n",
    "print(df_transactions.shape)\n",
    "df_transactions.head(1)"
   ]
  },
  {
   "cell_type": "code",
   "execution_count": 7,
   "metadata": {},
   "outputs": [
    {
     "name": "stdout",
     "output_type": "stream",
     "text": [
      "(1218, 2)\n"
     ]
    },
    {
     "data": {
      "text/html": [
       "<div>\n",
       "<style scoped>\n",
       "    .dataframe tbody tr th:only-of-type {\n",
       "        vertical-align: middle;\n",
       "    }\n",
       "\n",
       "    .dataframe tbody tr th {\n",
       "        vertical-align: top;\n",
       "    }\n",
       "\n",
       "    .dataframe thead th {\n",
       "        text-align: right;\n",
       "    }\n",
       "</style>\n",
       "<table border=\"1\" class=\"dataframe\">\n",
       "  <thead>\n",
       "    <tr style=\"text-align: right;\">\n",
       "      <th></th>\n",
       "      <th>date</th>\n",
       "      <th>dcoilwtico</th>\n",
       "    </tr>\n",
       "  </thead>\n",
       "  <tbody>\n",
       "    <tr>\n",
       "      <th>0</th>\n",
       "      <td>2013-01-01</td>\n",
       "      <td>NaN</td>\n",
       "    </tr>\n",
       "  </tbody>\n",
       "</table>\n",
       "</div>"
      ],
      "text/plain": [
       "        date  dcoilwtico\n",
       "0 2013-01-01         NaN"
      ]
     },
     "execution_count": 7,
     "metadata": {},
     "output_type": "execute_result"
    }
   ],
   "source": [
    "# oil data\n",
    "df_oil = pd.read_csv(\"./data/oil.csv\", sep=\",\")\n",
    "df_oil['date'] = pd.to_datetime(df_oil['date'])\n",
    "print(df_oil.shape)\n",
    "df_oil.head(1)"
   ]
  },
  {
   "cell_type": "code",
   "execution_count": 8,
   "metadata": {},
   "outputs": [
    {
     "name": "stdout",
     "output_type": "stream",
     "text": [
      "(350, 6)\n"
     ]
    },
    {
     "data": {
      "text/html": [
       "<div>\n",
       "<style scoped>\n",
       "    .dataframe tbody tr th:only-of-type {\n",
       "        vertical-align: middle;\n",
       "    }\n",
       "\n",
       "    .dataframe tbody tr th {\n",
       "        vertical-align: top;\n",
       "    }\n",
       "\n",
       "    .dataframe thead th {\n",
       "        text-align: right;\n",
       "    }\n",
       "</style>\n",
       "<table border=\"1\" class=\"dataframe\">\n",
       "  <thead>\n",
       "    <tr style=\"text-align: right;\">\n",
       "      <th></th>\n",
       "      <th>date</th>\n",
       "      <th>type</th>\n",
       "      <th>locale</th>\n",
       "      <th>locale_name</th>\n",
       "      <th>description</th>\n",
       "      <th>transferred</th>\n",
       "    </tr>\n",
       "  </thead>\n",
       "  <tbody>\n",
       "    <tr>\n",
       "      <th>0</th>\n",
       "      <td>2012-03-02</td>\n",
       "      <td>Holiday</td>\n",
       "      <td>Local</td>\n",
       "      <td>Manta</td>\n",
       "      <td>Fundacion de Manta</td>\n",
       "      <td>False</td>\n",
       "    </tr>\n",
       "  </tbody>\n",
       "</table>\n",
       "</div>"
      ],
      "text/plain": [
       "        date     type locale locale_name         description  transferred\n",
       "0 2012-03-02  Holiday  Local       Manta  Fundacion de Manta        False"
      ]
     },
     "execution_count": 8,
     "metadata": {},
     "output_type": "execute_result"
    }
   ],
   "source": [
    "# holiday data\n",
    "df_holiday = pd.read_csv(\"./data/holidays_events.csv\", sep=\",\")\n",
    "df_holiday['date'] = pd.to_datetime(df_holiday['date'])\n",
    "print(df_holiday.shape)\n",
    "df_holiday.head(1)"
   ]
  },
  {
   "cell_type": "markdown",
   "metadata": {},
   "source": [
    "# First Glance"
   ]
  },
  {
   "cell_type": "markdown",
   "metadata": {},
   "source": [
    "## Train Data"
   ]
  },
  {
   "cell_type": "code",
   "execution_count": 9,
   "metadata": {},
   "outputs": [
    {
     "data": {
      "text/html": [
       "<div>\n",
       "<style scoped>\n",
       "    .dataframe tbody tr th:only-of-type {\n",
       "        vertical-align: middle;\n",
       "    }\n",
       "\n",
       "    .dataframe tbody tr th {\n",
       "        vertical-align: top;\n",
       "    }\n",
       "\n",
       "    .dataframe thead th {\n",
       "        text-align: right;\n",
       "    }\n",
       "</style>\n",
       "<table border=\"1\" class=\"dataframe\">\n",
       "  <thead>\n",
       "    <tr style=\"text-align: right;\">\n",
       "      <th></th>\n",
       "      <th>id</th>\n",
       "      <th>date</th>\n",
       "      <th>store_nbr</th>\n",
       "      <th>family</th>\n",
       "      <th>sales</th>\n",
       "      <th>onpromotion</th>\n",
       "    </tr>\n",
       "  </thead>\n",
       "  <tbody>\n",
       "    <tr>\n",
       "      <th>0</th>\n",
       "      <td>0</td>\n",
       "      <td>2013-01-01</td>\n",
       "      <td>1</td>\n",
       "      <td>AUTOMOTIVE</td>\n",
       "      <td>0.0</td>\n",
       "      <td>0</td>\n",
       "    </tr>\n",
       "    <tr>\n",
       "      <th>1</th>\n",
       "      <td>1</td>\n",
       "      <td>2013-01-01</td>\n",
       "      <td>1</td>\n",
       "      <td>BABY CARE</td>\n",
       "      <td>0.0</td>\n",
       "      <td>0</td>\n",
       "    </tr>\n",
       "    <tr>\n",
       "      <th>2</th>\n",
       "      <td>2</td>\n",
       "      <td>2013-01-01</td>\n",
       "      <td>1</td>\n",
       "      <td>BEAUTY</td>\n",
       "      <td>0.0</td>\n",
       "      <td>0</td>\n",
       "    </tr>\n",
       "    <tr>\n",
       "      <th>3</th>\n",
       "      <td>3</td>\n",
       "      <td>2013-01-01</td>\n",
       "      <td>1</td>\n",
       "      <td>BEVERAGES</td>\n",
       "      <td>0.0</td>\n",
       "      <td>0</td>\n",
       "    </tr>\n",
       "    <tr>\n",
       "      <th>4</th>\n",
       "      <td>4</td>\n",
       "      <td>2013-01-01</td>\n",
       "      <td>1</td>\n",
       "      <td>BOOKS</td>\n",
       "      <td>0.0</td>\n",
       "      <td>0</td>\n",
       "    </tr>\n",
       "  </tbody>\n",
       "</table>\n",
       "</div>"
      ],
      "text/plain": [
       "   id       date  store_nbr      family  sales  onpromotion\n",
       "0   0 2013-01-01          1  AUTOMOTIVE    0.0            0\n",
       "1   1 2013-01-01          1   BABY CARE    0.0            0\n",
       "2   2 2013-01-01          1      BEAUTY    0.0            0\n",
       "3   3 2013-01-01          1   BEVERAGES    0.0            0\n",
       "4   4 2013-01-01          1       BOOKS    0.0            0"
      ]
     },
     "execution_count": 9,
     "metadata": {},
     "output_type": "execute_result"
    }
   ],
   "source": [
    "df_train.head()"
   ]
  },
  {
   "cell_type": "code",
   "execution_count": 10,
   "metadata": {},
   "outputs": [
    {
     "name": "stdout",
     "output_type": "stream",
     "text": [
      "True\n"
     ]
    }
   ],
   "source": [
    "# index is same as id\n",
    "print(all(df_train.id == df_train.index))\n",
    "df_train.drop(columns=[\"id\"], inplace=True)"
   ]
  },
  {
   "cell_type": "code",
   "execution_count": 11,
   "metadata": {},
   "outputs": [
    {
     "name": "stdout",
     "output_type": "stream",
     "text": [
      "<class 'pandas.core.frame.DataFrame'>\n",
      "RangeIndex: 3000888 entries, 0 to 3000887\n",
      "Data columns (total 5 columns):\n",
      " #   Column       Non-Null Count    Dtype         \n",
      "---  ------       --------------    -----         \n",
      " 0   date         3000888 non-null  datetime64[ns]\n",
      " 1   store_nbr    3000888 non-null  int64         \n",
      " 2   family       3000888 non-null  object        \n",
      " 3   sales        3000888 non-null  float64       \n",
      " 4   onpromotion  3000888 non-null  int64         \n",
      "dtypes: datetime64[ns](1), float64(1), int64(2), object(1)\n",
      "memory usage: 114.5+ MB\n"
     ]
    }
   ],
   "source": [
    "# info\n",
    "df_train.info(verbose=True, show_counts=True)"
   ]
  },
  {
   "cell_type": "code",
   "execution_count": 12,
   "metadata": {},
   "outputs": [
    {
     "data": {
      "text/plain": [
       "(54,\n",
       " array([ 1, 10, 11, 12, 13, 14, 15, 16, 17, 18, 19,  2, 20, 21, 22, 23, 24,\n",
       "        25, 26, 27, 28, 29,  3, 30, 31, 32, 33, 34, 35, 36, 37, 38, 39,  4,\n",
       "        40, 41, 42, 43, 44, 45, 46, 47, 48, 49,  5, 50, 51, 52, 53, 54,  6,\n",
       "         7,  8,  9], dtype=int64))"
      ]
     },
     "execution_count": 12,
     "metadata": {},
     "output_type": "execute_result"
    }
   ],
   "source": [
    "# store \n",
    "df_train.store_nbr.nunique(), df_train.store_nbr.unique()"
   ]
  },
  {
   "cell_type": "code",
   "execution_count": 13,
   "metadata": {},
   "outputs": [
    {
     "data": {
      "text/plain": [
       "(33,\n",
       " array(['AUTOMOTIVE', 'BABY CARE', 'BEAUTY', 'BEVERAGES', 'BOOKS',\n",
       "        'BREAD/BAKERY', 'CELEBRATION', 'CLEANING', 'DAIRY', 'DELI', 'EGGS',\n",
       "        'FROZEN FOODS', 'GROCERY I', 'GROCERY II', 'HARDWARE',\n",
       "        'HOME AND KITCHEN I', 'HOME AND KITCHEN II', 'HOME APPLIANCES',\n",
       "        'HOME CARE', 'LADIESWEAR', 'LAWN AND GARDEN', 'LINGERIE',\n",
       "        'LIQUOR,WINE,BEER', 'MAGAZINES', 'MEATS', 'PERSONAL CARE',\n",
       "        'PET SUPPLIES', 'PLAYERS AND ELECTRONICS', 'POULTRY',\n",
       "        'PREPARED FOODS', 'PRODUCE', 'SCHOOL AND OFFICE SUPPLIES',\n",
       "        'SEAFOOD'], dtype=object))"
      ]
     },
     "execution_count": 13,
     "metadata": {},
     "output_type": "execute_result"
    }
   ],
   "source": [
    "# family\n",
    "df_train.family.nunique(), df_train.family.unique()"
   ]
  },
  {
   "cell_type": "code",
   "execution_count": 14,
   "metadata": {},
   "outputs": [
    {
     "data": {
      "text/plain": [
       "(onpromotion\n",
       " 0    2389559\n",
       " 1     174551\n",
       " 2      79386\n",
       " 3      45862\n",
       " 4      31659\n",
       " Name: count, dtype: int64,\n",
       " 741)"
      ]
     },
     "execution_count": 14,
     "metadata": {},
     "output_type": "execute_result"
    }
   ],
   "source": [
    "# onpromotion\n",
    "df_train.onpromotion.value_counts()[:5], df_train.onpromotion.max()"
   ]
  },
  {
   "cell_type": "code",
   "execution_count": 15,
   "metadata": {},
   "outputs": [
    {
     "data": {
      "text/plain": [
       "(Timestamp('2013-01-01 00:00:00'), Timestamp('2017-08-15 00:00:00'))"
      ]
     },
     "execution_count": 15,
     "metadata": {},
     "output_type": "execute_result"
    }
   ],
   "source": [
    "# min / max date\n",
    "df_train.date.min(), df_train.date.max()"
   ]
  },
  {
   "cell_type": "code",
   "execution_count": 16,
   "metadata": {},
   "outputs": [
    {
     "data": {
      "text/plain": [
       "(1684, 1685)"
      ]
     },
     "execution_count": 16,
     "metadata": {},
     "output_type": "execute_result"
    }
   ],
   "source": [
    "# days\n",
    "df_train.date.nunique(), 365*4 + 30*7 + 15"
   ]
  },
  {
   "cell_type": "code",
   "execution_count": 17,
   "metadata": {},
   "outputs": [
    {
     "data": {
      "text/plain": [
       "((3000888, 5), 3000888)"
      ]
     },
     "execution_count": 17,
     "metadata": {},
     "output_type": "execute_result"
    }
   ],
   "source": [
    "# number of stores * number of product families * number of days\n",
    "df_train.shape, df_train.store_nbr.nunique()*df_train.family.nunique()*df_train.date.nunique()"
   ]
  },
  {
   "cell_type": "code",
   "execution_count": 18,
   "metadata": {},
   "outputs": [
    {
     "data": {
      "text/plain": [
       "1688"
      ]
     },
     "execution_count": 18,
     "metadata": {},
     "output_type": "execute_result"
    }
   ],
   "source": [
    "# NOTE: training data is missing some days: dates where all stores were closed?\n",
    "len(pd.date_range(start='2013-01-01', end='2017-08-15'))"
   ]
  },
  {
   "cell_type": "code",
   "execution_count": 19,
   "metadata": {},
   "outputs": [
    {
     "name": "stdout",
     "output_type": "stream",
     "text": [
      "(3008016, 3)\n"
     ]
    },
    {
     "data": {
      "text/html": [
       "<div>\n",
       "<style scoped>\n",
       "    .dataframe tbody tr th:only-of-type {\n",
       "        vertical-align: middle;\n",
       "    }\n",
       "\n",
       "    .dataframe tbody tr th {\n",
       "        vertical-align: top;\n",
       "    }\n",
       "\n",
       "    .dataframe thead th {\n",
       "        text-align: right;\n",
       "    }\n",
       "</style>\n",
       "<table border=\"1\" class=\"dataframe\">\n",
       "  <thead>\n",
       "    <tr style=\"text-align: right;\">\n",
       "      <th></th>\n",
       "      <th>date</th>\n",
       "      <th>store_nbr</th>\n",
       "      <th>family</th>\n",
       "    </tr>\n",
       "  </thead>\n",
       "  <tbody>\n",
       "    <tr>\n",
       "      <th>0</th>\n",
       "      <td>2013-01-01</td>\n",
       "      <td>1</td>\n",
       "      <td>AUTOMOTIVE</td>\n",
       "    </tr>\n",
       "  </tbody>\n",
       "</table>\n",
       "</div>"
      ],
      "text/plain": [
       "        date  store_nbr      family\n",
       "0 2013-01-01          1  AUTOMOTIVE"
      ]
     },
     "execution_count": 19,
     "metadata": {},
     "output_type": "execute_result"
    }
   ],
   "source": [
    "# create a df for full date range\n",
    "date_range = pd.date_range(start='2013-01-01', end='2017-08-15')\n",
    "stores = df_train['store_nbr'].unique()\n",
    "families = df_train['family'].unique()\n",
    "all_dates = pd.MultiIndex.from_product([date_range, stores, families], names=['date', 'store_nbr', 'family'])\n",
    "df_complete = pd.DataFrame(index=all_dates).reset_index()\n",
    "print(df_complete.shape)\n",
    "df_complete.head(1)"
   ]
  },
  {
   "cell_type": "code",
   "execution_count": 20,
   "metadata": {},
   "outputs": [
    {
     "name": "stdout",
     "output_type": "stream",
     "text": [
      "(3000888, 5)\n",
      "(3008016, 5)\n"
     ]
    }
   ],
   "source": [
    "# complete the train data\n",
    "print(df_train.shape)\n",
    "df_train = df_complete.merge(df_train, on=['date', 'store_nbr', 'family'], how=\"left\")\n",
    "df_train[\"sales\"] = df_train[\"sales\"].fillna(0)\n",
    "df_train[\"onpromotion\"] = df_train[\"onpromotion\"].fillna(0)\n",
    "print(df_train.shape)"
   ]
  },
  {
   "cell_type": "code",
   "execution_count": 21,
   "metadata": {},
   "outputs": [
    {
     "name": "stdout",
     "output_type": "stream",
     "text": [
      "0.0 124717.0\n"
     ]
    },
    {
     "data": {
      "text/plain": [
       "sales\n",
       "0.0    946258\n",
       "1.0    115291\n",
       "2.0     85959\n",
       "3.0     68575\n",
       "4.0     57846\n",
       "5.0     49853\n",
       "Name: count, dtype: int64"
      ]
     },
     "execution_count": 21,
     "metadata": {},
     "output_type": "execute_result"
    }
   ],
   "source": [
    "# target: sales\n",
    "print(df_train.sales.min(), df_train.sales.max())\n",
    "df_train.sales.value_counts()[:5]"
   ]
  },
  {
   "cell_type": "code",
   "execution_count": 22,
   "metadata": {},
   "outputs": [
    {
     "data": {
      "image/png": "[encoded data removed]",
      "text/plain": [
       "<Figure size 1000x500 with 1 Axes>"
      ]
     },
     "metadata": {},
     "output_type": "display_data"
    }
   ],
   "source": [
    "# sales\n",
    "plt.figure(figsize=(10, 5))\n",
    "plt.plot(df_train['date'], df_train['sales'])\n",
    "plt.title('Time Series Line Plot')\n",
    "plt.xlabel('Date')\n",
    "plt.ylabel('Value')\n",
    "plt.grid(True)\n",
    "plt.show()"
   ]
  },
  {
   "cell_type": "markdown",
   "metadata": {},
   "source": [
    "## Test Data"
   ]
  },
  {
   "cell_type": "code",
   "execution_count": 23,
   "metadata": {},
   "outputs": [
    {
     "data": {
      "text/html": [
       "<div>\n",
       "<style scoped>\n",
       "    .dataframe tbody tr th:only-of-type {\n",
       "        vertical-align: middle;\n",
       "    }\n",
       "\n",
       "    .dataframe tbody tr th {\n",
       "        vertical-align: top;\n",
       "    }\n",
       "\n",
       "    .dataframe thead th {\n",
       "        text-align: right;\n",
       "    }\n",
       "</style>\n",
       "<table border=\"1\" class=\"dataframe\">\n",
       "  <thead>\n",
       "    <tr style=\"text-align: right;\">\n",
       "      <th></th>\n",
       "      <th>id</th>\n",
       "      <th>date</th>\n",
       "      <th>store_nbr</th>\n",
       "      <th>family</th>\n",
       "      <th>onpromotion</th>\n",
       "    </tr>\n",
       "  </thead>\n",
       "  <tbody>\n",
       "    <tr>\n",
       "      <th>0</th>\n",
       "      <td>3000888</td>\n",
       "      <td>2017-08-16</td>\n",
       "      <td>1</td>\n",
       "      <td>AUTOMOTIVE</td>\n",
       "      <td>0</td>\n",
       "    </tr>\n",
       "    <tr>\n",
       "      <th>1</th>\n",
       "      <td>3000889</td>\n",
       "      <td>2017-08-16</td>\n",
       "      <td>1</td>\n",
       "      <td>BABY CARE</td>\n",
       "      <td>0</td>\n",
       "    </tr>\n",
       "    <tr>\n",
       "      <th>2</th>\n",
       "      <td>3000890</td>\n",
       "      <td>2017-08-16</td>\n",
       "      <td>1</td>\n",
       "      <td>BEAUTY</td>\n",
       "      <td>2</td>\n",
       "    </tr>\n",
       "    <tr>\n",
       "      <th>3</th>\n",
       "      <td>3000891</td>\n",
       "      <td>2017-08-16</td>\n",
       "      <td>1</td>\n",
       "      <td>BEVERAGES</td>\n",
       "      <td>20</td>\n",
       "    </tr>\n",
       "    <tr>\n",
       "      <th>4</th>\n",
       "      <td>3000892</td>\n",
       "      <td>2017-08-16</td>\n",
       "      <td>1</td>\n",
       "      <td>BOOKS</td>\n",
       "      <td>0</td>\n",
       "    </tr>\n",
       "  </tbody>\n",
       "</table>\n",
       "</div>"
      ],
      "text/plain": [
       "        id       date  store_nbr      family  onpromotion\n",
       "0  3000888 2017-08-16          1  AUTOMOTIVE            0\n",
       "1  3000889 2017-08-16          1   BABY CARE            0\n",
       "2  3000890 2017-08-16          1      BEAUTY            2\n",
       "3  3000891 2017-08-16          1   BEVERAGES           20\n",
       "4  3000892 2017-08-16          1       BOOKS            0"
      ]
     },
     "execution_count": 23,
     "metadata": {},
     "output_type": "execute_result"
    }
   ],
   "source": [
    "df_test.head()"
   ]
  },
  {
   "cell_type": "code",
   "execution_count": 24,
   "metadata": {},
   "outputs": [],
   "source": [
    "# id vs index\n",
    "all((df_test.id - 3000888) == df_test.index)\n",
    "df_test.drop(columns=[\"id\"], inplace=True)"
   ]
  },
  {
   "cell_type": "code",
   "execution_count": 25,
   "metadata": {},
   "outputs": [
    {
     "data": {
      "text/plain": [
       "(Timestamp('2017-08-16 00:00:00'), Timestamp('2017-08-31 00:00:00'), 16)"
      ]
     },
     "execution_count": 25,
     "metadata": {},
     "output_type": "execute_result"
    }
   ],
   "source": [
    "# min / max date\n",
    "df_test.date.min(), df_test.date.max(), df_test.date.nunique()"
   ]
  },
  {
   "cell_type": "code",
   "execution_count": 26,
   "metadata": {},
   "outputs": [
    {
     "data": {
      "text/plain": [
       "((28512, 4), 28512, 28512)"
      ]
     },
     "execution_count": 26,
     "metadata": {},
     "output_type": "execute_result"
    }
   ],
   "source": [
    "# number of stores * number of product families * number of days\n",
    "df_test.shape, df_test.store_nbr.nunique()*df_test.family.nunique()*df_test.date.nunique(), \\\n",
    "df_train.store_nbr.nunique()*df_train.family.nunique()*df_test.date.nunique() "
   ]
  },
  {
   "cell_type": "markdown",
   "metadata": {},
   "source": [
    "## Store Data"
   ]
  },
  {
   "cell_type": "code",
   "execution_count": 27,
   "metadata": {},
   "outputs": [
    {
     "data": {
      "text/html": [
       "<div>\n",
       "<style scoped>\n",
       "    .dataframe tbody tr th:only-of-type {\n",
       "        vertical-align: middle;\n",
       "    }\n",
       "\n",
       "    .dataframe tbody tr th {\n",
       "        vertical-align: top;\n",
       "    }\n",
       "\n",
       "    .dataframe thead th {\n",
       "        text-align: right;\n",
       "    }\n",
       "</style>\n",
       "<table border=\"1\" class=\"dataframe\">\n",
       "  <thead>\n",
       "    <tr style=\"text-align: right;\">\n",
       "      <th></th>\n",
       "      <th>store_nbr</th>\n",
       "      <th>city</th>\n",
       "      <th>state</th>\n",
       "      <th>type</th>\n",
       "      <th>cluster</th>\n",
       "    </tr>\n",
       "  </thead>\n",
       "  <tbody>\n",
       "    <tr>\n",
       "      <th>0</th>\n",
       "      <td>1</td>\n",
       "      <td>Quito</td>\n",
       "      <td>Pichincha</td>\n",
       "      <td>D</td>\n",
       "      <td>13</td>\n",
       "    </tr>\n",
       "    <tr>\n",
       "      <th>1</th>\n",
       "      <td>2</td>\n",
       "      <td>Quito</td>\n",
       "      <td>Pichincha</td>\n",
       "      <td>D</td>\n",
       "      <td>13</td>\n",
       "    </tr>\n",
       "    <tr>\n",
       "      <th>2</th>\n",
       "      <td>3</td>\n",
       "      <td>Quito</td>\n",
       "      <td>Pichincha</td>\n",
       "      <td>D</td>\n",
       "      <td>8</td>\n",
       "    </tr>\n",
       "    <tr>\n",
       "      <th>3</th>\n",
       "      <td>4</td>\n",
       "      <td>Quito</td>\n",
       "      <td>Pichincha</td>\n",
       "      <td>D</td>\n",
       "      <td>9</td>\n",
       "    </tr>\n",
       "    <tr>\n",
       "      <th>4</th>\n",
       "      <td>5</td>\n",
       "      <td>Santo Domingo</td>\n",
       "      <td>Santo Domingo de los Tsachilas</td>\n",
       "      <td>D</td>\n",
       "      <td>4</td>\n",
       "    </tr>\n",
       "  </tbody>\n",
       "</table>\n",
       "</div>"
      ],
      "text/plain": [
       "   store_nbr           city                           state type  cluster\n",
       "0          1          Quito                       Pichincha    D       13\n",
       "1          2          Quito                       Pichincha    D       13\n",
       "2          3          Quito                       Pichincha    D        8\n",
       "3          4          Quito                       Pichincha    D        9\n",
       "4          5  Santo Domingo  Santo Domingo de los Tsachilas    D        4"
      ]
     },
     "execution_count": 27,
     "metadata": {},
     "output_type": "execute_result"
    }
   ],
   "source": [
    "df_store.head()"
   ]
  },
  {
   "cell_type": "code",
   "execution_count": 28,
   "metadata": {},
   "outputs": [
    {
     "name": "stdout",
     "output_type": "stream",
     "text": [
      "54 22 16\n"
     ]
    },
    {
     "data": {
      "text/plain": [
       "(city\n",
       " Quito            18\n",
       " Guayaquil         8\n",
       " Cuenca            3\n",
       " Santo Domingo     3\n",
       " Manta             2\n",
       " Name: count, dtype: int64,\n",
       " state\n",
       " Pichincha                         19\n",
       " Guayas                            11\n",
       " Santo Domingo de los Tsachilas     3\n",
       " Azuay                              3\n",
       " Manabi                             3\n",
       " Name: count, dtype: int64)"
      ]
     },
     "execution_count": 28,
     "metadata": {},
     "output_type": "execute_result"
    }
   ],
   "source": [
    "# city & state\n",
    "print(len(df_store), df_store.city.nunique(), df_store.state.nunique())\n",
    "df_store.city.value_counts()[:5], df_store.state.value_counts()[:5]"
   ]
  },
  {
   "cell_type": "code",
   "execution_count": 29,
   "metadata": {},
   "outputs": [
    {
     "name": "stdout",
     "output_type": "stream",
     "text": [
      "5\n"
     ]
    },
    {
     "data": {
      "text/plain": [
       "type\n",
       "D    18\n",
       "C    15\n",
       "A     9\n",
       "B     8\n",
       "E     4\n",
       "Name: count, dtype: int64"
      ]
     },
     "execution_count": 29,
     "metadata": {},
     "output_type": "execute_result"
    }
   ],
   "source": [
    "# type\n",
    "print(df_store.type.nunique())\n",
    "df_store.type.value_counts()[:5]"
   ]
  },
  {
   "cell_type": "code",
   "execution_count": 30,
   "metadata": {},
   "outputs": [
    {
     "name": "stdout",
     "output_type": "stream",
     "text": [
      "17\n"
     ]
    },
    {
     "data": {
      "text/plain": [
       "cluster\n",
       "3     7\n",
       "6     6\n",
       "10    6\n",
       "15    5\n",
       "13    4\n",
       "Name: count, dtype: int64"
      ]
     },
     "execution_count": 30,
     "metadata": {},
     "output_type": "execute_result"
    }
   ],
   "source": [
    "# cluster\n",
    "print(df_store.cluster.nunique())\n",
    "df_store.cluster.value_counts()[:5]"
   ]
  },
  {
   "cell_type": "code",
   "execution_count": 31,
   "metadata": {},
   "outputs": [
    {
     "data": {
      "text/plain": [
       "state                           city           store_nbr\n",
       "Azuay                           Cuenca         37           1\n",
       "                                               39           1\n",
       "                                               42           1\n",
       "Bolivar                         Guaranda       19           1\n",
       "Chimborazo                      Riobamba       14           1\n",
       "Cotopaxi                        Latacunga      12           1\n",
       "                                               13           1\n",
       "El Oro                          Machala        40           1\n",
       "                                               41           1\n",
       "Esmeraldas                      Esmeraldas     43           1\n",
       "Guayas                          Daule          27           1\n",
       "                                Guayaquil      24           1\n",
       "                                               26           1\n",
       "                                               28           1\n",
       "                                               29           1\n",
       "                                               30           1\n",
       "                                               32           1\n",
       "                                               34           1\n",
       "                                               51           1\n",
       "                                Libertad       36           1\n",
       "                                Playas         35           1\n",
       "Imbabura                        Ibarra         15           1\n",
       "Loja                            Loja           38           1\n",
       "Los Rios                        Babahoyo       31           1\n",
       "                                Quevedo        33           1\n",
       "Manabi                          El Carmen      54           1\n",
       "                                Manta          52           1\n",
       "                                               53           1\n",
       "Pastaza                         Puyo           22           1\n",
       "Pichincha                       Cayambe        11           1\n",
       "                                Quito          1            1\n",
       "                                               2            1\n",
       "                                               3            1\n",
       "                                               4            1\n",
       "                                               6            1\n",
       "                                               7            1\n",
       "                                               8            1\n",
       "                                               9            1\n",
       "                                               10           1\n",
       "                                               17           1\n",
       "                                               18           1\n",
       "                                               20           1\n",
       "                                               44           1\n",
       "                                               45           1\n",
       "                                               46           1\n",
       "                                               47           1\n",
       "                                               48           1\n",
       "                                               49           1\n",
       "Santa Elena                     Salinas        25           1\n",
       "Santo Domingo de los Tsachilas  Santo Domingo  5            1\n",
       "                                               16           1\n",
       "                                               21           1\n",
       "Tungurahua                      Ambato         23           1\n",
       "                                               50           1\n",
       "Name: count, dtype: int64"
      ]
     },
     "execution_count": 31,
     "metadata": {},
     "output_type": "execute_result"
    }
   ],
   "source": [
    "# NOTE: state and city doesn't provide any more granular info than store number\n",
    "df_store[[\"state\", \"city\", \"store_nbr\"]].value_counts().sort_index()"
   ]
  },
  {
   "cell_type": "code",
   "execution_count": 32,
   "metadata": {},
   "outputs": [
    {
     "data": {
      "text/plain": [
       "type  cluster  store_nbr\n",
       "A     5        44           1\n",
       "      11       45           1\n",
       "               49           1\n",
       "               52           1\n",
       "      14       46           1\n",
       "               47           1\n",
       "               48           1\n",
       "               50           1\n",
       "      17       51           1\n",
       "B     6        9            1\n",
       "               11           1\n",
       "               20           1\n",
       "               21           1\n",
       "               34           1\n",
       "               39           1\n",
       "      10       31           1\n",
       "      16       18           1\n",
       "C     3        16           1\n",
       "               30           1\n",
       "               32           1\n",
       "               33           1\n",
       "               35           1\n",
       "               40           1\n",
       "               54           1\n",
       "      7        14           1\n",
       "               22           1\n",
       "      12       17           1\n",
       "      15       10           1\n",
       "               12           1\n",
       "               13           1\n",
       "               15           1\n",
       "               19           1\n",
       "D     1        24           1\n",
       "               25           1\n",
       "               27           1\n",
       "      2        37           1\n",
       "               42           1\n",
       "      4        5            1\n",
       "               38           1\n",
       "               41           1\n",
       "      8        3            1\n",
       "               7            1\n",
       "               8            1\n",
       "      9        4            1\n",
       "               23           1\n",
       "      10       26           1\n",
       "      13       1            1\n",
       "               2            1\n",
       "               6            1\n",
       "               53           1\n",
       "E     10       28           1\n",
       "               29           1\n",
       "               36           1\n",
       "               43           1\n",
       "Name: count, dtype: int64"
      ]
     },
     "execution_count": 32,
     "metadata": {},
     "output_type": "execute_result"
    }
   ],
   "source": [
    "# NOTE: type and cluster doesn't provide any more granular info than store number\n",
    "df_store[[\"type\", \"cluster\", \"store_nbr\"]].value_counts().sort_index()"
   ]
  },
  {
   "cell_type": "markdown",
   "metadata": {},
   "source": [
    "## Transactions Data"
   ]
  },
  {
   "cell_type": "code",
   "execution_count": 33,
   "metadata": {},
   "outputs": [
    {
     "data": {
      "text/html": [
       "<div>\n",
       "<style scoped>\n",
       "    .dataframe tbody tr th:only-of-type {\n",
       "        vertical-align: middle;\n",
       "    }\n",
       "\n",
       "    .dataframe tbody tr th {\n",
       "        vertical-align: top;\n",
       "    }\n",
       "\n",
       "    .dataframe thead th {\n",
       "        text-align: right;\n",
       "    }\n",
       "</style>\n",
       "<table border=\"1\" class=\"dataframe\">\n",
       "  <thead>\n",
       "    <tr style=\"text-align: right;\">\n",
       "      <th></th>\n",
       "      <th>date</th>\n",
       "      <th>store_nbr</th>\n",
       "      <th>transactions</th>\n",
       "    </tr>\n",
       "  </thead>\n",
       "  <tbody>\n",
       "    <tr>\n",
       "      <th>0</th>\n",
       "      <td>2013-01-01</td>\n",
       "      <td>25</td>\n",
       "      <td>770</td>\n",
       "    </tr>\n",
       "    <tr>\n",
       "      <th>1</th>\n",
       "      <td>2013-01-02</td>\n",
       "      <td>1</td>\n",
       "      <td>2111</td>\n",
       "    </tr>\n",
       "    <tr>\n",
       "      <th>2</th>\n",
       "      <td>2013-01-02</td>\n",
       "      <td>2</td>\n",
       "      <td>2358</td>\n",
       "    </tr>\n",
       "    <tr>\n",
       "      <th>3</th>\n",
       "      <td>2013-01-02</td>\n",
       "      <td>3</td>\n",
       "      <td>3487</td>\n",
       "    </tr>\n",
       "    <tr>\n",
       "      <th>4</th>\n",
       "      <td>2013-01-02</td>\n",
       "      <td>4</td>\n",
       "      <td>1922</td>\n",
       "    </tr>\n",
       "  </tbody>\n",
       "</table>\n",
       "</div>"
      ],
      "text/plain": [
       "        date  store_nbr  transactions\n",
       "0 2013-01-01         25           770\n",
       "1 2013-01-02          1          2111\n",
       "2 2013-01-02          2          2358\n",
       "3 2013-01-02          3          3487\n",
       "4 2013-01-02          4          1922"
      ]
     },
     "execution_count": 33,
     "metadata": {},
     "output_type": "execute_result"
    }
   ],
   "source": [
    "df_transactions.head()"
   ]
  },
  {
   "cell_type": "code",
   "execution_count": 34,
   "metadata": {},
   "outputs": [
    {
     "name": "stdout",
     "output_type": "stream",
     "text": [
      "<class 'pandas.core.frame.DataFrame'>\n",
      "RangeIndex: 83488 entries, 0 to 83487\n",
      "Data columns (total 3 columns):\n",
      " #   Column        Non-Null Count  Dtype         \n",
      "---  ------        --------------  -----         \n",
      " 0   date          83488 non-null  datetime64[ns]\n",
      " 1   store_nbr     83488 non-null  int64         \n",
      " 2   transactions  83488 non-null  int64         \n",
      "dtypes: datetime64[ns](1), int64(2)\n",
      "memory usage: 1.9 MB\n"
     ]
    }
   ],
   "source": [
    "# info\n",
    "df_transactions.info(verbose=True, show_counts=True)"
   ]
  },
  {
   "cell_type": "code",
   "execution_count": 35,
   "metadata": {},
   "outputs": [
    {
     "data": {
      "text/plain": [
       "(Timestamp('2013-01-01 00:00:00'), Timestamp('2017-08-15 00:00:00'))"
      ]
     },
     "execution_count": 35,
     "metadata": {},
     "output_type": "execute_result"
    }
   ],
   "source": [
    "# min / max date\n",
    "# NOTE: no date & info for the test data!?\n",
    "df_transactions.date.min(), df_transactions.date.max()"
   ]
  },
  {
   "cell_type": "code",
   "execution_count": 36,
   "metadata": {},
   "outputs": [
    {
     "data": {
      "text/plain": [
       "((83488, 3), 1682, 54)"
      ]
     },
     "execution_count": 36,
     "metadata": {},
     "output_type": "execute_result"
    }
   ],
   "source": [
    "# number of days and stores\n",
    "df_transactions.shape, df_transactions.date.nunique(), df_transactions.store_nbr.nunique()"
   ]
  },
  {
   "cell_type": "code",
   "execution_count": 37,
   "metadata": {},
   "outputs": [
    {
     "data": {
      "text/plain": [
       "91152"
      ]
     },
     "execution_count": 37,
     "metadata": {},
     "output_type": "execute_result"
    }
   ],
   "source": [
    "# NOTE: some of the days and some stores are missing, we can assume no transaction happening for those days (maybe closed!)\n",
    "df_train.date.nunique() * df_train.store_nbr.nunique()"
   ]
  },
  {
   "cell_type": "code",
   "execution_count": 38,
   "metadata": {},
   "outputs": [
    {
     "name": "stdout",
     "output_type": "stream",
     "text": [
      "(91152, 2)\n"
     ]
    },
    {
     "data": {
      "text/html": [
       "<div>\n",
       "<style scoped>\n",
       "    .dataframe tbody tr th:only-of-type {\n",
       "        vertical-align: middle;\n",
       "    }\n",
       "\n",
       "    .dataframe tbody tr th {\n",
       "        vertical-align: top;\n",
       "    }\n",
       "\n",
       "    .dataframe thead th {\n",
       "        text-align: right;\n",
       "    }\n",
       "</style>\n",
       "<table border=\"1\" class=\"dataframe\">\n",
       "  <thead>\n",
       "    <tr style=\"text-align: right;\">\n",
       "      <th></th>\n",
       "      <th>date</th>\n",
       "      <th>store_nbr</th>\n",
       "    </tr>\n",
       "  </thead>\n",
       "  <tbody>\n",
       "    <tr>\n",
       "      <th>0</th>\n",
       "      <td>2013-01-01</td>\n",
       "      <td>1</td>\n",
       "    </tr>\n",
       "  </tbody>\n",
       "</table>\n",
       "</div>"
      ],
      "text/plain": [
       "        date  store_nbr\n",
       "0 2013-01-01          1"
      ]
     },
     "execution_count": 38,
     "metadata": {},
     "output_type": "execute_result"
    }
   ],
   "source": [
    "# create a df for full date range\n",
    "date_range = pd.date_range(start='2013-01-01', end='2017-08-15')\n",
    "stores = df_train['store_nbr'].unique()\n",
    "all_dates = pd.MultiIndex.from_product([date_range, stores], names=['date', 'store_nbr'])\n",
    "df_complete = pd.DataFrame(index=all_dates).reset_index()\n",
    "print(df_complete.shape)\n",
    "df_complete.head(1)"
   ]
  },
  {
   "cell_type": "code",
   "execution_count": 39,
   "metadata": {},
   "outputs": [
    {
     "name": "stdout",
     "output_type": "stream",
     "text": [
      "(83488, 3)\n",
      "(91152, 3)\n"
     ]
    }
   ],
   "source": [
    "# complete the transactions data\n",
    "print(df_transactions.shape)\n",
    "df_transactions = df_complete.merge(df_transactions, on=['date', 'store_nbr'], how=\"left\")\n",
    "df_transactions[\"transactions\"] = df_transactions[\"transactions\"].fillna(0)\n",
    "print(df_transactions.shape)"
   ]
  },
  {
   "cell_type": "code",
   "execution_count": 40,
   "metadata": {},
   "outputs": [
    {
     "data": {
      "text/html": [
       "<div>\n",
       "<style scoped>\n",
       "    .dataframe tbody tr th:only-of-type {\n",
       "        vertical-align: middle;\n",
       "    }\n",
       "\n",
       "    .dataframe tbody tr th {\n",
       "        vertical-align: top;\n",
       "    }\n",
       "\n",
       "    .dataframe thead th {\n",
       "        text-align: right;\n",
       "    }\n",
       "</style>\n",
       "<table border=\"1\" class=\"dataframe\">\n",
       "  <thead>\n",
       "    <tr style=\"text-align: right;\">\n",
       "      <th></th>\n",
       "      <th>date</th>\n",
       "      <th>store_nbr</th>\n",
       "      <th>sales</th>\n",
       "      <th>transactions</th>\n",
       "    </tr>\n",
       "  </thead>\n",
       "  <tbody>\n",
       "    <tr>\n",
       "      <th>150</th>\n",
       "      <td>2013-01-03</td>\n",
       "      <td>43</td>\n",
       "      <td>5206.77900</td>\n",
       "      <td>1334.0</td>\n",
       "    </tr>\n",
       "    <tr>\n",
       "      <th>151</th>\n",
       "      <td>2013-01-03</td>\n",
       "      <td>44</td>\n",
       "      <td>20447.05700</td>\n",
       "      <td>3618.0</td>\n",
       "    </tr>\n",
       "    <tr>\n",
       "      <th>152</th>\n",
       "      <td>2013-01-03</td>\n",
       "      <td>45</td>\n",
       "      <td>17377.98097</td>\n",
       "      <td>3314.0</td>\n",
       "    </tr>\n",
       "    <tr>\n",
       "      <th>153</th>\n",
       "      <td>2013-01-03</td>\n",
       "      <td>46</td>\n",
       "      <td>15751.35500</td>\n",
       "      <td>3438.0</td>\n",
       "    </tr>\n",
       "    <tr>\n",
       "      <th>154</th>\n",
       "      <td>2013-01-03</td>\n",
       "      <td>47</td>\n",
       "      <td>18340.20500</td>\n",
       "      <td>3660.0</td>\n",
       "    </tr>\n",
       "  </tbody>\n",
       "</table>\n",
       "</div>"
      ],
      "text/plain": [
       "          date  store_nbr        sales  transactions\n",
       "150 2013-01-03         43   5206.77900        1334.0\n",
       "151 2013-01-03         44  20447.05700        3618.0\n",
       "152 2013-01-03         45  17377.98097        3314.0\n",
       "153 2013-01-03         46  15751.35500        3438.0\n",
       "154 2013-01-03         47  18340.20500        3660.0"
      ]
     },
     "execution_count": 40,
     "metadata": {},
     "output_type": "execute_result"
    }
   ],
   "source": [
    "# check if transactions can be generatable from train data\n",
    "# NOTE: answer is no!\n",
    "df_train_sales = df_train.groupby([\"date\", \"store_nbr\"]).agg({\"sales\": \"sum\"}).reset_index()\n",
    "df_train_sales = df_train_sales.merge(df_transactions, on=[\"date\", \"store_nbr\"], how=\"left\")\n",
    "df_train_sales[150:155]"
   ]
  },
  {
   "cell_type": "code",
   "execution_count": 41,
   "metadata": {},
   "outputs": [
    {
     "name": "stdout",
     "output_type": "stream",
     "text": [
      "<class 'pandas.core.frame.DataFrame'>\n",
      "RangeIndex: 91152 entries, 0 to 91151\n",
      "Data columns (total 3 columns):\n",
      " #   Column        Non-Null Count  Dtype         \n",
      "---  ------        --------------  -----         \n",
      " 0   date          91152 non-null  datetime64[ns]\n",
      " 1   store_nbr     91152 non-null  int64         \n",
      " 2   transactions  91152 non-null  float64       \n",
      "dtypes: datetime64[ns](1), float64(1), int64(1)\n",
      "memory usage: 2.1 MB\n"
     ]
    }
   ],
   "source": [
    "# info\n",
    "df_transactions.info(verbose=True, show_counts=True)"
   ]
  },
  {
   "cell_type": "markdown",
   "metadata": {},
   "source": [
    "## Oil Data"
   ]
  },
  {
   "cell_type": "code",
   "execution_count": 42,
   "metadata": {},
   "outputs": [
    {
     "data": {
      "text/html": [
       "<div>\n",
       "<style scoped>\n",
       "    .dataframe tbody tr th:only-of-type {\n",
       "        vertical-align: middle;\n",
       "    }\n",
       "\n",
       "    .dataframe tbody tr th {\n",
       "        vertical-align: top;\n",
       "    }\n",
       "\n",
       "    .dataframe thead th {\n",
       "        text-align: right;\n",
       "    }\n",
       "</style>\n",
       "<table border=\"1\" class=\"dataframe\">\n",
       "  <thead>\n",
       "    <tr style=\"text-align: right;\">\n",
       "      <th></th>\n",
       "      <th>date</th>\n",
       "      <th>dcoilwtico</th>\n",
       "    </tr>\n",
       "  </thead>\n",
       "  <tbody>\n",
       "    <tr>\n",
       "      <th>0</th>\n",
       "      <td>2013-01-01</td>\n",
       "      <td>NaN</td>\n",
       "    </tr>\n",
       "    <tr>\n",
       "      <th>1</th>\n",
       "      <td>2013-01-02</td>\n",
       "      <td>93.14</td>\n",
       "    </tr>\n",
       "    <tr>\n",
       "      <th>2</th>\n",
       "      <td>2013-01-03</td>\n",
       "      <td>92.97</td>\n",
       "    </tr>\n",
       "    <tr>\n",
       "      <th>3</th>\n",
       "      <td>2013-01-04</td>\n",
       "      <td>93.12</td>\n",
       "    </tr>\n",
       "    <tr>\n",
       "      <th>4</th>\n",
       "      <td>2013-01-07</td>\n",
       "      <td>93.20</td>\n",
       "    </tr>\n",
       "  </tbody>\n",
       "</table>\n",
       "</div>"
      ],
      "text/plain": [
       "        date  dcoilwtico\n",
       "0 2013-01-01         NaN\n",
       "1 2013-01-02       93.14\n",
       "2 2013-01-03       92.97\n",
       "3 2013-01-04       93.12\n",
       "4 2013-01-07       93.20"
      ]
     },
     "execution_count": 42,
     "metadata": {},
     "output_type": "execute_result"
    }
   ],
   "source": [
    "df_oil.head()"
   ]
  },
  {
   "cell_type": "code",
   "execution_count": 43,
   "metadata": {},
   "outputs": [
    {
     "name": "stdout",
     "output_type": "stream",
     "text": [
      "<class 'pandas.core.frame.DataFrame'>\n",
      "RangeIndex: 1218 entries, 0 to 1217\n",
      "Data columns (total 2 columns):\n",
      " #   Column      Non-Null Count  Dtype         \n",
      "---  ------      --------------  -----         \n",
      " 0   date        1218 non-null   datetime64[ns]\n",
      " 1   dcoilwtico  1175 non-null   float64       \n",
      "dtypes: datetime64[ns](1), float64(1)\n",
      "memory usage: 19.2 KB\n"
     ]
    }
   ],
   "source": [
    "# info\n",
    "df_oil.info(verbose=True, show_counts=True)"
   ]
  },
  {
   "cell_type": "code",
   "execution_count": 44,
   "metadata": {},
   "outputs": [
    {
     "data": {
      "text/plain": [
       "(Timestamp('2013-01-01 00:00:00'), Timestamp('2017-08-31 00:00:00'))"
      ]
     },
     "execution_count": 44,
     "metadata": {},
     "output_type": "execute_result"
    }
   ],
   "source": [
    "# min / max date\n",
    "df_oil.date.min(), df_oil.date.max()"
   ]
  },
  {
   "cell_type": "code",
   "execution_count": 45,
   "metadata": {},
   "outputs": [
    {
     "name": "stdout",
     "output_type": "stream",
     "text": [
      "(1704, 1)\n"
     ]
    },
    {
     "data": {
      "text/html": [
       "<div>\n",
       "<style scoped>\n",
       "    .dataframe tbody tr th:only-of-type {\n",
       "        vertical-align: middle;\n",
       "    }\n",
       "\n",
       "    .dataframe tbody tr th {\n",
       "        vertical-align: top;\n",
       "    }\n",
       "\n",
       "    .dataframe thead th {\n",
       "        text-align: right;\n",
       "    }\n",
       "</style>\n",
       "<table border=\"1\" class=\"dataframe\">\n",
       "  <thead>\n",
       "    <tr style=\"text-align: right;\">\n",
       "      <th></th>\n",
       "      <th>date</th>\n",
       "    </tr>\n",
       "  </thead>\n",
       "  <tbody>\n",
       "    <tr>\n",
       "      <th>0</th>\n",
       "      <td>2013-01-01</td>\n",
       "    </tr>\n",
       "  </tbody>\n",
       "</table>\n",
       "</div>"
      ],
      "text/plain": [
       "        date\n",
       "0 2013-01-01"
      ]
     },
     "execution_count": 45,
     "metadata": {},
     "output_type": "execute_result"
    }
   ],
   "source": [
    "# NOTE: some days are missing, some price values are also missing\n",
    "# NOTE: assume the price is not changing for those days\n",
    "# create a df for full date range\n",
    "date_range = pd.date_range(start='2013-01-01', end='2017-08-31')\n",
    "all_dates = pd.MultiIndex.from_product([date_range], names=['date'])\n",
    "df_complete = pd.DataFrame(index=all_dates).reset_index()\n",
    "print(df_complete.shape)\n",
    "df_complete.head(1)"
   ]
  },
  {
   "cell_type": "code",
   "execution_count": 46,
   "metadata": {},
   "outputs": [
    {
     "name": "stdout",
     "output_type": "stream",
     "text": [
      "(1218, 2)\n",
      "(1704, 2)\n"
     ]
    }
   ],
   "source": [
    "# complete the oil price data\n",
    "print(df_oil.shape)\n",
    "df_oil = df_complete.merge(df_oil, on=['date'], how=\"left\")\n",
    "df_oil[\"dcoilwtico\"] = df_oil[\"dcoilwtico\"].ffill().bfill()\n",
    "print(df_oil.shape)"
   ]
  },
  {
   "cell_type": "code",
   "execution_count": 47,
   "metadata": {},
   "outputs": [
    {
     "data": {
      "text/html": [
       "<div>\n",
       "<style scoped>\n",
       "    .dataframe tbody tr th:only-of-type {\n",
       "        vertical-align: middle;\n",
       "    }\n",
       "\n",
       "    .dataframe tbody tr th {\n",
       "        vertical-align: top;\n",
       "    }\n",
       "\n",
       "    .dataframe thead th {\n",
       "        text-align: right;\n",
       "    }\n",
       "</style>\n",
       "<table border=\"1\" class=\"dataframe\">\n",
       "  <thead>\n",
       "    <tr style=\"text-align: right;\">\n",
       "      <th></th>\n",
       "      <th>date</th>\n",
       "      <th>dcoilwtico</th>\n",
       "    </tr>\n",
       "  </thead>\n",
       "  <tbody>\n",
       "    <tr>\n",
       "      <th>0</th>\n",
       "      <td>2013-01-01</td>\n",
       "      <td>93.14</td>\n",
       "    </tr>\n",
       "    <tr>\n",
       "      <th>1</th>\n",
       "      <td>2013-01-02</td>\n",
       "      <td>93.14</td>\n",
       "    </tr>\n",
       "    <tr>\n",
       "      <th>2</th>\n",
       "      <td>2013-01-03</td>\n",
       "      <td>92.97</td>\n",
       "    </tr>\n",
       "    <tr>\n",
       "      <th>3</th>\n",
       "      <td>2013-01-04</td>\n",
       "      <td>93.12</td>\n",
       "    </tr>\n",
       "    <tr>\n",
       "      <th>4</th>\n",
       "      <td>2013-01-05</td>\n",
       "      <td>93.12</td>\n",
       "    </tr>\n",
       "  </tbody>\n",
       "</table>\n",
       "</div>"
      ],
      "text/plain": [
       "        date  dcoilwtico\n",
       "0 2013-01-01       93.14\n",
       "1 2013-01-02       93.14\n",
       "2 2013-01-03       92.97\n",
       "3 2013-01-04       93.12\n",
       "4 2013-01-05       93.12"
      ]
     },
     "execution_count": 47,
     "metadata": {},
     "output_type": "execute_result"
    }
   ],
   "source": [
    "df_oil.head()"
   ]
  },
  {
   "cell_type": "markdown",
   "metadata": {},
   "source": [
    "## Holiday Data"
   ]
  },
  {
   "cell_type": "code",
   "execution_count": 48,
   "metadata": {},
   "outputs": [
    {
     "data": {
      "text/html": [
       "<div>\n",
       "<style scoped>\n",
       "    .dataframe tbody tr th:only-of-type {\n",
       "        vertical-align: middle;\n",
       "    }\n",
       "\n",
       "    .dataframe tbody tr th {\n",
       "        vertical-align: top;\n",
       "    }\n",
       "\n",
       "    .dataframe thead th {\n",
       "        text-align: right;\n",
       "    }\n",
       "</style>\n",
       "<table border=\"1\" class=\"dataframe\">\n",
       "  <thead>\n",
       "    <tr style=\"text-align: right;\">\n",
       "      <th></th>\n",
       "      <th>date</th>\n",
       "      <th>type</th>\n",
       "      <th>locale</th>\n",
       "      <th>locale_name</th>\n",
       "      <th>description</th>\n",
       "      <th>transferred</th>\n",
       "    </tr>\n",
       "  </thead>\n",
       "  <tbody>\n",
       "    <tr>\n",
       "      <th>345</th>\n",
       "      <td>2017-12-22</td>\n",
       "      <td>Additional</td>\n",
       "      <td>National</td>\n",
       "      <td>Ecuador</td>\n",
       "      <td>Navidad-3</td>\n",
       "      <td>False</td>\n",
       "    </tr>\n",
       "    <tr>\n",
       "      <th>346</th>\n",
       "      <td>2017-12-23</td>\n",
       "      <td>Additional</td>\n",
       "      <td>National</td>\n",
       "      <td>Ecuador</td>\n",
       "      <td>Navidad-2</td>\n",
       "      <td>False</td>\n",
       "    </tr>\n",
       "    <tr>\n",
       "      <th>347</th>\n",
       "      <td>2017-12-24</td>\n",
       "      <td>Additional</td>\n",
       "      <td>National</td>\n",
       "      <td>Ecuador</td>\n",
       "      <td>Navidad-1</td>\n",
       "      <td>False</td>\n",
       "    </tr>\n",
       "    <tr>\n",
       "      <th>348</th>\n",
       "      <td>2017-12-25</td>\n",
       "      <td>Holiday</td>\n",
       "      <td>National</td>\n",
       "      <td>Ecuador</td>\n",
       "      <td>Navidad</td>\n",
       "      <td>False</td>\n",
       "    </tr>\n",
       "    <tr>\n",
       "      <th>349</th>\n",
       "      <td>2017-12-26</td>\n",
       "      <td>Additional</td>\n",
       "      <td>National</td>\n",
       "      <td>Ecuador</td>\n",
       "      <td>Navidad+1</td>\n",
       "      <td>False</td>\n",
       "    </tr>\n",
       "  </tbody>\n",
       "</table>\n",
       "</div>"
      ],
      "text/plain": [
       "          date        type    locale locale_name description  transferred\n",
       "345 2017-12-22  Additional  National     Ecuador   Navidad-3        False\n",
       "346 2017-12-23  Additional  National     Ecuador   Navidad-2        False\n",
       "347 2017-12-24  Additional  National     Ecuador   Navidad-1        False\n",
       "348 2017-12-25     Holiday  National     Ecuador     Navidad        False\n",
       "349 2017-12-26  Additional  National     Ecuador   Navidad+1        False"
      ]
     },
     "execution_count": 48,
     "metadata": {},
     "output_type": "execute_result"
    }
   ],
   "source": [
    "df_holiday.tail()"
   ]
  },
  {
   "cell_type": "code",
   "execution_count": 49,
   "metadata": {},
   "outputs": [
    {
     "name": "stdout",
     "output_type": "stream",
     "text": [
      "<class 'pandas.core.frame.DataFrame'>\n",
      "RangeIndex: 350 entries, 0 to 349\n",
      "Data columns (total 6 columns):\n",
      " #   Column       Non-Null Count  Dtype         \n",
      "---  ------       --------------  -----         \n",
      " 0   date         350 non-null    datetime64[ns]\n",
      " 1   type         350 non-null    object        \n",
      " 2   locale       350 non-null    object        \n",
      " 3   locale_name  350 non-null    object        \n",
      " 4   description  350 non-null    object        \n",
      " 5   transferred  350 non-null    bool          \n",
      "dtypes: bool(1), datetime64[ns](1), object(4)\n",
      "memory usage: 14.1+ KB\n"
     ]
    }
   ],
   "source": [
    "# info\n",
    "df_holiday.info()"
   ]
  },
  {
   "cell_type": "code",
   "execution_count": 50,
   "metadata": {},
   "outputs": [
    {
     "data": {
      "text/html": [
       "<div>\n",
       "<style scoped>\n",
       "    .dataframe tbody tr th:only-of-type {\n",
       "        vertical-align: middle;\n",
       "    }\n",
       "\n",
       "    .dataframe tbody tr th {\n",
       "        vertical-align: top;\n",
       "    }\n",
       "\n",
       "    .dataframe thead th {\n",
       "        text-align: right;\n",
       "    }\n",
       "</style>\n",
       "<table border=\"1\" class=\"dataframe\">\n",
       "  <thead>\n",
       "    <tr style=\"text-align: right;\">\n",
       "      <th></th>\n",
       "      <th>date</th>\n",
       "      <th>type</th>\n",
       "      <th>locale</th>\n",
       "      <th>transferred</th>\n",
       "    </tr>\n",
       "  </thead>\n",
       "  <tbody>\n",
       "    <tr>\n",
       "      <th>0</th>\n",
       "      <td>2012-03-02</td>\n",
       "      <td>Holiday</td>\n",
       "      <td>Local</td>\n",
       "      <td>False</td>\n",
       "    </tr>\n",
       "  </tbody>\n",
       "</table>\n",
       "</div>"
      ],
      "text/plain": [
       "        date     type locale  transferred\n",
       "0 2012-03-02  Holiday  Local        False"
      ]
     },
     "execution_count": 50,
     "metadata": {},
     "output_type": "execute_result"
    }
   ],
   "source": [
    "# drop unnecessary columns\n",
    "df_holiday.drop(columns=[\"description\", \"locale_name\"], inplace=True)\n",
    "df_holiday.head(1)"
   ]
  },
  {
   "cell_type": "code",
   "execution_count": 51,
   "metadata": {},
   "outputs": [
    {
     "data": {
      "text/plain": [
       "transferred\n",
       "False    338\n",
       "True      12\n",
       "Name: count, dtype: int64"
      ]
     },
     "execution_count": 51,
     "metadata": {},
     "output_type": "execute_result"
    }
   ],
   "source": [
    "# transferred\n",
    "df_holiday.transferred.value_counts()"
   ]
  },
  {
   "cell_type": "code",
   "execution_count": 52,
   "metadata": {},
   "outputs": [
    {
     "name": "stdout",
     "output_type": "stream",
     "text": [
      "(338, 3)\n"
     ]
    },
    {
     "data": {
      "text/plain": [
       "type\n",
       "Holiday       209\n",
       "Event          56\n",
       "Additional     51\n",
       "Transfer       12\n",
       "Bridge          5\n",
       "Work Day        5\n",
       "Name: count, dtype: int64"
      ]
     },
     "execution_count": 52,
     "metadata": {},
     "output_type": "execute_result"
    }
   ],
   "source": [
    "# NOTE: let's get rid of transferred holidays, which become normal days\n",
    "df_holiday = df_holiday[~df_holiday.transferred].reset_index(drop=True)\n",
    "df_holiday.drop(columns=[\"transferred\"], inplace=True)\n",
    "print(df_holiday.shape)\n",
    "df_holiday.type.value_counts()"
   ]
  },
  {
   "cell_type": "code",
   "execution_count": 53,
   "metadata": {},
   "outputs": [
    {
     "data": {
      "text/plain": [
       "type\n",
       "Holiday       209\n",
       "Event          56\n",
       "Additional     51\n",
       "Transfer       12\n",
       "Bridge          5\n",
       "Work Day        5\n",
       "Name: count, dtype: int64"
      ]
     },
     "execution_count": 53,
     "metadata": {},
     "output_type": "execute_result"
    }
   ],
   "source": [
    "# type\n",
    "df_holiday.type.value_counts()"
   ]
  },
  {
   "cell_type": "code",
   "execution_count": 54,
   "metadata": {},
   "outputs": [
    {
     "data": {
      "text/plain": [
       "locale\n",
       "National    166\n",
       "Local       148\n",
       "Regional     24\n",
       "Name: count, dtype: int64"
      ]
     },
     "execution_count": 54,
     "metadata": {},
     "output_type": "execute_result"
    }
   ],
   "source": [
    "# locale\n",
    "df_holiday.locale.value_counts()"
   ]
  },
  {
   "cell_type": "code",
   "execution_count": 55,
   "metadata": {},
   "outputs": [
    {
     "name": "stdout",
     "output_type": "stream",
     "text": [
      "(1704, 1)\n"
     ]
    },
    {
     "data": {
      "text/html": [
       "<div>\n",
       "<style scoped>\n",
       "    .dataframe tbody tr th:only-of-type {\n",
       "        vertical-align: middle;\n",
       "    }\n",
       "\n",
       "    .dataframe tbody tr th {\n",
       "        vertical-align: top;\n",
       "    }\n",
       "\n",
       "    .dataframe thead th {\n",
       "        text-align: right;\n",
       "    }\n",
       "</style>\n",
       "<table border=\"1\" class=\"dataframe\">\n",
       "  <thead>\n",
       "    <tr style=\"text-align: right;\">\n",
       "      <th></th>\n",
       "      <th>date</th>\n",
       "    </tr>\n",
       "  </thead>\n",
       "  <tbody>\n",
       "    <tr>\n",
       "      <th>0</th>\n",
       "      <td>2013-01-01</td>\n",
       "    </tr>\n",
       "  </tbody>\n",
       "</table>\n",
       "</div>"
      ],
      "text/plain": [
       "        date\n",
       "0 2013-01-01"
      ]
     },
     "execution_count": 55,
     "metadata": {},
     "output_type": "execute_result"
    }
   ],
   "source": [
    "# create a df for full date range\n",
    "date_range = pd.date_range(start='2013-01-01', end='2017-08-31')\n",
    "all_dates = pd.MultiIndex.from_product([date_range], names=['date'])\n",
    "df_complete = pd.DataFrame(index=all_dates).reset_index()\n",
    "print(df_complete.shape)\n",
    "df_complete.head(1)"
   ]
  },
  {
   "cell_type": "code",
   "execution_count": 56,
   "metadata": {},
   "outputs": [
    {
     "data": {
      "text/plain": [
       "(300, (338, 3))"
      ]
     },
     "execution_count": 56,
     "metadata": {},
     "output_type": "execute_result"
    }
   ],
   "source": [
    "# NOTE: repetetive holidays\n",
    "df_holiday.date.nunique(), df_holiday.shape"
   ]
  },
  {
   "cell_type": "code",
   "execution_count": 57,
   "metadata": {},
   "outputs": [
    {
     "data": {
      "text/plain": [
       "(300, 3)"
      ]
     },
     "execution_count": 57,
     "metadata": {},
     "output_type": "execute_result"
    }
   ],
   "source": [
    "# keep last column\n",
    "df_holiday.drop_duplicates(subset=[\"date\"], keep=\"last\", inplace=True)\n",
    "df_holiday.shape"
   ]
  },
  {
   "cell_type": "code",
   "execution_count": 58,
   "metadata": {},
   "outputs": [
    {
     "name": "stdout",
     "output_type": "stream",
     "text": [
      "(300, 3)\n",
      "(1704, 3)\n"
     ]
    },
    {
     "data": {
      "text/html": [
       "<div>\n",
       "<style scoped>\n",
       "    .dataframe tbody tr th:only-of-type {\n",
       "        vertical-align: middle;\n",
       "    }\n",
       "\n",
       "    .dataframe tbody tr th {\n",
       "        vertical-align: top;\n",
       "    }\n",
       "\n",
       "    .dataframe thead th {\n",
       "        text-align: right;\n",
       "    }\n",
       "</style>\n",
       "<table border=\"1\" class=\"dataframe\">\n",
       "  <thead>\n",
       "    <tr style=\"text-align: right;\">\n",
       "      <th></th>\n",
       "      <th>date</th>\n",
       "      <th>type</th>\n",
       "      <th>locale</th>\n",
       "    </tr>\n",
       "  </thead>\n",
       "  <tbody>\n",
       "    <tr>\n",
       "      <th>0</th>\n",
       "      <td>2013-01-01</td>\n",
       "      <td>Holiday</td>\n",
       "      <td>National</td>\n",
       "    </tr>\n",
       "  </tbody>\n",
       "</table>\n",
       "</div>"
      ],
      "text/plain": [
       "        date     type    locale\n",
       "0 2013-01-01  Holiday  National"
      ]
     },
     "execution_count": 58,
     "metadata": {},
     "output_type": "execute_result"
    }
   ],
   "source": [
    "# complete the holidays data\n",
    "print(df_holiday.shape)\n",
    "df_holiday = df_complete.merge(df_holiday, on=['date'], how=\"left\")\n",
    "df_holiday[\"type\"] = df_holiday[\"type\"].fillna(\"Else\")\n",
    "df_holiday[\"locale\"] = df_holiday[\"locale\"].fillna(\"Else\")\n",
    "print(df_holiday.shape)\n",
    "df_holiday.head(1)"
   ]
  },
  {
   "cell_type": "markdown",
   "metadata": {},
   "source": [
    "# Engineering Features"
   ]
  },
  {
   "cell_type": "code",
   "execution_count": 59,
   "metadata": {},
   "outputs": [
    {
     "data": {
      "text/plain": [
       "(3036528, 5)"
      ]
     },
     "execution_count": 59,
     "metadata": {},
     "output_type": "execute_result"
    }
   ],
   "source": [
    "# copy\n",
    "df_all = pd.concat([df_train, df_test])\n",
    "df_all.shape"
   ]
  },
  {
   "cell_type": "code",
   "execution_count": 60,
   "metadata": {},
   "outputs": [],
   "source": [
    "# convert dates\n",
    "df_all['date'] = pd.to_datetime(df_all['date'])\n",
    "df_transactions['date'] = pd.to_datetime(df_transactions['date'])\n",
    "df_oil['date'] = pd.to_datetime(df_oil['date'])\n",
    "df_holiday['date'] = pd.to_datetime(df_holiday['date'])"
   ]
  },
  {
   "cell_type": "code",
   "execution_count": 61,
   "metadata": {},
   "outputs": [
    {
     "data": {
      "text/plain": [
       "'\\n# merge store data directly\\ndf_all = df_all.merge(df_store, on=\"store_nbr\", how=\"left\")\\nprint(df_all.shape)\\ndf_all.head()\\n'"
      ]
     },
     "execution_count": 61,
     "metadata": {},
     "output_type": "execute_result"
    }
   ],
   "source": [
    "\"\"\"\n",
    "# merge store data directly\n",
    "df_all = df_all.merge(df_store, on=\"store_nbr\", how=\"left\")\n",
    "print(df_all.shape)\n",
    "df_all.head()\n",
    "\"\"\""
   ]
  },
  {
   "cell_type": "code",
   "execution_count": 62,
   "metadata": {},
   "outputs": [],
   "source": [
    "# NOTE: comments\n",
    "#   1. historical change: sales 2013 to 2017\n",
    "#   2. sales vs time (month / year)\n",
    "#   3. sales vs stores\n",
    "#   4. sales vs family\n",
    "#   5. sales vs oil price\n",
    "#   6. sales vs holiday (before / after)"
   ]
  },
  {
   "cell_type": "markdown",
   "metadata": {},
   "source": [
    "## Date"
   ]
  },
  {
   "cell_type": "code",
   "execution_count": 63,
   "metadata": {},
   "outputs": [],
   "source": [
    "def historical_statistics(df_stat, df_orig, groupby_cols, target_col, drop=True):\n",
    "    # set dates\n",
    "    if 'month' not in df_stat.columns:\n",
    "        df_stat['month'] = df_stat['date'].dt.month\n",
    "        df_stat['year'] = df_stat['date'].dt.year\n",
    "\n",
    "    # monthly and yearly statistics of target column\n",
    "    for i in [\"month\", \"year\"]:\n",
    "        stats = df_stat.groupby(groupby_cols + [i])[target_col].agg(['mean', 'min', 'max', 'std']).reset_index()\n",
    "        stats.columns = groupby_cols + [i, f'{i}ly_mean_{target_col}', f'{i}ly_min_{target_col}', f'{i}ly_max_{target_col}', f'{i}ly_std_{target_col}']\n",
    "        df_orig = df_orig.merge(stats, on=groupby_cols + [i], how='left')\n",
    "    if drop:\n",
    "        df_orig.drop(columns=[target_col, \"month\", \"year\"], inplace=True)\n",
    "    return df_orig\n",
    "\n",
    "def date_engineering(df, target, max_stat_year, stat_cols):\n",
    "    # time of the year\n",
    "    df['dayofweek'] = df['date'].dt.dayofweek\n",
    "    df['month'] = df['date'].dt.month\n",
    "    df['year'] = df['date'].dt.year\n",
    "    df['dayofyear'] = df['date'].dt.dayofyear\n",
    "    df['is_weekend'] = df['dayofweek'].apply(lambda x: 1 if x >= 5 else 0)\n",
    "\n",
    "    # cyclic encoding of months: capture the continuity over time (e.g., the similarity between december and january)\n",
    "    df['month_sin'] = np.sin(2 * np.pi * df['month'] / 12)\n",
    "    df['month_cos'] = np.cos(2 * np.pi * df['month'] / 12)\n",
    "\n",
    "    # seasonal Features\n",
    "    df['is_spring'] = df['month'].isin([3, 4, 5]).astype(int)\n",
    "    df['is_summer'] = df['month'].isin([6, 7, 8]).astype(int)\n",
    "    df['is_fall'] = df['month'].isin([9, 10, 11]).astype(int)\n",
    "    df['is_winter'] = df['month'].isin([12, 1, 2]).astype(int)\n",
    "\n",
    "    # target statistics\n",
    "    train_df = df[df['year'] < max_stat_year]\n",
    "    df = historical_statistics(train_df, df, stat_cols, target, drop=False)\n",
    "    \n",
    "    df = pd.get_dummies(df, columns=['year', 'month', 'dayofweek'], prefix=['year', 'month', 'dayofweek'])\n",
    "    return df"
   ]
  },
  {
   "cell_type": "markdown",
   "metadata": {},
   "source": [
    "## Timeseries"
   ]
  },
  {
   "cell_type": "code",
   "execution_count": 68,
   "metadata": {},
   "outputs": [],
   "source": [
    "def timeseries_engineering(group, target, shifters=[], diff=True):\n",
    "    # rolling window\n",
    "    for offset in [3, 5, 7, 14, 31]:\n",
    "        for stat in ['mean', 'std']:\n",
    "            if len(shifters) > 0:\n",
    "                for shift_i in shifters:\n",
    "                    group[f'rolling_{stat}_{offset}_{target}_shifted_{shift_i}'] = group[target].transform(lambda x: x.shift(shift_i).rolling(window=offset).agg(stat))\n",
    "            else:\n",
    "                group[f'rolling_{stat}_{offset}_{target}'] = group[target].transform(lambda x: x.rolling(window=offset).agg(stat))  \n",
    "        if diff:            \n",
    "            if len(shifters) > 0:\n",
    "                for i, shift_i in enumerate(sorted(shifters)[:-1]):\n",
    "                    group[f'diff_rolling_mean_{offset}_{target}_{shift_i}_vs_{sorted(shifters)[i+1]}'] = group[f'rolling_{stat}_{offset}_{target}_shifted_{shift_i}'] - group[f'rolling_{stat}_{offset}_{target}_shifted_{sorted(shifters)[i+1]}']\n",
    "            else:\n",
    "                group[f'diff_rolling_mean_{offset}_{target}'] = group[target] - group[f'rolling_mean_{offset}_{target}']\n",
    "        else:\n",
    "            if len(shifters) > 0:\n",
    "                for shift_i in sorted(shifters)[:-1]:\n",
    "                    group[f'ratio_rolling_mean_{offset}_{target}_{shift_i}_vs_{sorted(shifters)[i+1]}'] = group[f'rolling_{stat}_{offset}_{target}_shifted_{shift_i}'] / group[f'rolling_{stat}_{offset}_{target}_shifted_{sorted(shifters)[i+1]}']\n",
    "            else:\n",
    "                group[f'ratio_rolling_mean_{offset}_{target}'] = group[target] / group[f'rolling_mean_{offset}_{target}']\n",
    "\n",
    "    # exponential weighted\n",
    "    for alpha in [0.3, 0.5, 0.8]:\n",
    "        if len(shifters) > 0:\n",
    "            for shift_i in shifters:\n",
    "                group[f'ewm_alpha_{alpha}_{target}_shifted_{shift_i}'] = group[target].transform(lambda x: x.shift(shift_i).ewm(alpha=alpha).mean())\n",
    "        else:\n",
    "            group[f'ewm_alpha_{alpha}_{target}'] = group[target].transform(lambda x: x.ewm(alpha=alpha).mean()) \n",
    "    \n",
    "    # seasonal decompose\n",
    "    for offset in [31]:\n",
    "        if len(shifters) > 0:\n",
    "            for shift_i in shifters:\n",
    "                sd_year = seasonal_decompose(group[target].shift(shift_i).fillna(0), model='additive', period=offset)\n",
    "                group[f'trend_{offset}_{target}_shifted_{shift_i}'], group[f'seasonal_{offset}_{target}_shifted_{shift_i}'], group[f'resid_{offset}_{target}_shifted_{shift_i}'] = sd_year.trend, sd_year.seasonal, sd_year.resid\n",
    "        else:\n",
    "            sd_result = seasonal_decompose(group[target], model='additive', period=offset)\n",
    "            group[f'trend_{offset}_{target}'], group[f'seasonal_{offset}_{target}'], group[f'resid_{offset}_{target}'] = sd_result.trend, sd_result.seasonal, sd_result.resid\n",
    "    \n",
    "    # fourier transform\n",
    "    if len(shifters) > 0:\n",
    "        for shift_i in shifters:\n",
    "            fft_result = np.fft.fft(group[target].shift(shift_i).fillna(0))\n",
    "            for i in range(1, 4):\n",
    "                group[f'fft_real_{i}_{target}_shifted_{shift_i}'] = np.real(fft_result[i])\n",
    "                group[f'fft_imag_{i}_{target}_shifted_{shift_i}'] = np.imag(fft_result[i])\n",
    "    else:\n",
    "        fft_result = np.fft.fft(group[target])\n",
    "        for i in range(1, 4):\n",
    "            group[f'fft_real_{i}_{target}'] = np.real(fft_result[i])\n",
    "            group[f'fft_imag_{i}_{target}'] = np.imag(fft_result[i])\n",
    "\n",
    "    # fill missing columns\n",
    "    group = group.transform(lambda x: x.interpolate(method='bfill').ffill()).fillna(method='bfill')\n",
    "    return group"
   ]
  },
  {
   "cell_type": "markdown",
   "metadata": {},
   "source": [
    "## Oil"
   ]
  },
  {
   "cell_type": "code",
   "execution_count": 65,
   "metadata": {},
   "outputs": [
    {
     "name": "stdout",
     "output_type": "stream",
     "text": [
      "(1704, 2)\n"
     ]
    },
    {
     "data": {
      "text/html": [
       "<div>\n",
       "<style scoped>\n",
       "    .dataframe tbody tr th:only-of-type {\n",
       "        vertical-align: middle;\n",
       "    }\n",
       "\n",
       "    .dataframe tbody tr th {\n",
       "        vertical-align: top;\n",
       "    }\n",
       "\n",
       "    .dataframe thead th {\n",
       "        text-align: right;\n",
       "    }\n",
       "</style>\n",
       "<table border=\"1\" class=\"dataframe\">\n",
       "  <thead>\n",
       "    <tr style=\"text-align: right;\">\n",
       "      <th></th>\n",
       "      <th>date</th>\n",
       "      <th>dcoilwtico</th>\n",
       "    </tr>\n",
       "  </thead>\n",
       "  <tbody>\n",
       "    <tr>\n",
       "      <th>0</th>\n",
       "      <td>2013-01-01</td>\n",
       "      <td>93.14</td>\n",
       "    </tr>\n",
       "  </tbody>\n",
       "</table>\n",
       "</div>"
      ],
      "text/plain": [
       "        date  dcoilwtico\n",
       "0 2013-01-01       93.14"
      ]
     },
     "execution_count": 65,
     "metadata": {},
     "output_type": "execute_result"
    }
   ],
   "source": [
    "# original oil data\n",
    "print(df_oil.shape)\n",
    "df_oil.head(1)"
   ]
  },
  {
   "cell_type": "code",
   "execution_count": 69,
   "metadata": {},
   "outputs": [
    {
     "name": "stdout",
     "output_type": "stream",
     "text": [
      "(1704, 29)\n"
     ]
    },
    {
     "data": {
      "text/html": [
       "<div>\n",
       "<style scoped>\n",
       "    .dataframe tbody tr th:only-of-type {\n",
       "        vertical-align: middle;\n",
       "    }\n",
       "\n",
       "    .dataframe tbody tr th {\n",
       "        vertical-align: top;\n",
       "    }\n",
       "\n",
       "    .dataframe thead th {\n",
       "        text-align: right;\n",
       "    }\n",
       "</style>\n",
       "<table border=\"1\" class=\"dataframe\">\n",
       "  <thead>\n",
       "    <tr style=\"text-align: right;\">\n",
       "      <th></th>\n",
       "      <th>date</th>\n",
       "      <th>dcoilwtico</th>\n",
       "      <th>rolling_mean_3_dcoilwtico</th>\n",
       "      <th>rolling_std_3_dcoilwtico</th>\n",
       "      <th>ratio_rolling_mean_3_dcoilwtico</th>\n",
       "      <th>rolling_mean_5_dcoilwtico</th>\n",
       "      <th>rolling_std_5_dcoilwtico</th>\n",
       "      <th>ratio_rolling_mean_5_dcoilwtico</th>\n",
       "      <th>rolling_mean_7_dcoilwtico</th>\n",
       "      <th>rolling_std_7_dcoilwtico</th>\n",
       "      <th>ratio_rolling_mean_7_dcoilwtico</th>\n",
       "      <th>rolling_mean_14_dcoilwtico</th>\n",
       "      <th>rolling_std_14_dcoilwtico</th>\n",
       "      <th>ratio_rolling_mean_14_dcoilwtico</th>\n",
       "      <th>rolling_mean_31_dcoilwtico</th>\n",
       "      <th>rolling_std_31_dcoilwtico</th>\n",
       "      <th>ratio_rolling_mean_31_dcoilwtico</th>\n",
       "      <th>ewm_alpha_0.3_dcoilwtico</th>\n",
       "      <th>ewm_alpha_0.5_dcoilwtico</th>\n",
       "      <th>ewm_alpha_0.8_dcoilwtico</th>\n",
       "      <th>trend_31_dcoilwtico</th>\n",
       "      <th>seasonal_31_dcoilwtico</th>\n",
       "      <th>resid_31_dcoilwtico</th>\n",
       "      <th>fft_real_1_dcoilwtico</th>\n",
       "      <th>fft_imag_1_dcoilwtico</th>\n",
       "      <th>fft_real_2_dcoilwtico</th>\n",
       "      <th>fft_imag_2_dcoilwtico</th>\n",
       "      <th>fft_real_3_dcoilwtico</th>\n",
       "      <th>fft_imag_3_dcoilwtico</th>\n",
       "    </tr>\n",
       "  </thead>\n",
       "  <tbody>\n",
       "    <tr>\n",
       "      <th>0</th>\n",
       "      <td>2013-01-01</td>\n",
       "      <td>93.14</td>\n",
       "      <td>93.083333</td>\n",
       "      <td>0.09815</td>\n",
       "      <td>0.998782</td>\n",
       "      <td>93.098</td>\n",
       "      <td>0.07225</td>\n",
       "      <td>1.000236</td>\n",
       "      <td>93.115714</td>\n",
       "      <td>0.070204</td>\n",
       "      <td>1.000905</td>\n",
       "      <td>93.355714</td>\n",
       "      <td>0.36704</td>\n",
       "      <td>1.009794</td>\n",
       "      <td>94.632258</td>\n",
       "      <td>1.480276</td>\n",
       "      <td>1.031889</td>\n",
       "      <td>93.14</td>\n",
       "      <td>93.14</td>\n",
       "      <td>93.14</td>\n",
       "      <td>94.632258</td>\n",
       "      <td>-0.207685</td>\n",
       "      <td>-0.614771</td>\n",
       "      <td>8082.393262</td>\n",
       "      <td>-27063.383864</td>\n",
       "      <td>-5384.231197</td>\n",
       "      <td>-2440.506954</td>\n",
       "      <td>662.249546</td>\n",
       "      <td>-2509.532773</td>\n",
       "    </tr>\n",
       "  </tbody>\n",
       "</table>\n",
       "</div>"
      ],
      "text/plain": [
       "        date  dcoilwtico  rolling_mean_3_dcoilwtico  rolling_std_3_dcoilwtico  ratio_rolling_mean_3_dcoilwtico  rolling_mean_5_dcoilwtico  rolling_std_5_dcoilwtico  ratio_rolling_mean_5_dcoilwtico  \\\n",
       "0 2013-01-01       93.14                  93.083333                   0.09815                         0.998782                     93.098                   0.07225                         1.000236   \n",
       "\n",
       "   rolling_mean_7_dcoilwtico  rolling_std_7_dcoilwtico  ratio_rolling_mean_7_dcoilwtico  rolling_mean_14_dcoilwtico  rolling_std_14_dcoilwtico  ratio_rolling_mean_14_dcoilwtico  \\\n",
       "0                  93.115714                  0.070204                         1.000905                   93.355714                    0.36704                          1.009794   \n",
       "\n",
       "   rolling_mean_31_dcoilwtico  rolling_std_31_dcoilwtico  ratio_rolling_mean_31_dcoilwtico  ewm_alpha_0.3_dcoilwtico  ewm_alpha_0.5_dcoilwtico  ewm_alpha_0.8_dcoilwtico  trend_31_dcoilwtico  \\\n",
       "0                   94.632258                   1.480276                          1.031889                     93.14                     93.14                     93.14            94.632258   \n",
       "\n",
       "   seasonal_31_dcoilwtico  resid_31_dcoilwtico  fft_real_1_dcoilwtico  fft_imag_1_dcoilwtico  fft_real_2_dcoilwtico  fft_imag_2_dcoilwtico  fft_real_3_dcoilwtico  fft_imag_3_dcoilwtico  \n",
       "0               -0.207685            -0.614771            8082.393262          -27063.383864           -5384.231197           -2440.506954             662.249546           -2509.532773  "
      ]
     },
     "execution_count": 69,
     "metadata": {},
     "output_type": "execute_result"
    }
   ],
   "source": [
    "# timeseries engineer of oil data\n",
    "df_oil = timeseries_engineering(df_oil, \"dcoilwtico\", [], False)\n",
    "print(df_oil.shape)\n",
    "df_oil.head(1)"
   ]
  },
  {
   "cell_type": "code",
   "execution_count": 70,
   "metadata": {},
   "outputs": [
    {
     "name": "stdout",
     "output_type": "stream",
     "text": [
      "(3036528, 33)\n"
     ]
    },
    {
     "data": {
      "text/html": [
       "<div>\n",
       "<style scoped>\n",
       "    .dataframe tbody tr th:only-of-type {\n",
       "        vertical-align: middle;\n",
       "    }\n",
       "\n",
       "    .dataframe tbody tr th {\n",
       "        vertical-align: top;\n",
       "    }\n",
       "\n",
       "    .dataframe thead th {\n",
       "        text-align: right;\n",
       "    }\n",
       "</style>\n",
       "<table border=\"1\" class=\"dataframe\">\n",
       "  <thead>\n",
       "    <tr style=\"text-align: right;\">\n",
       "      <th></th>\n",
       "      <th>date</th>\n",
       "      <th>store_nbr</th>\n",
       "      <th>family</th>\n",
       "      <th>sales</th>\n",
       "      <th>onpromotion</th>\n",
       "      <th>dcoilwtico</th>\n",
       "      <th>rolling_mean_3_dcoilwtico</th>\n",
       "      <th>rolling_std_3_dcoilwtico</th>\n",
       "      <th>ratio_rolling_mean_3_dcoilwtico</th>\n",
       "      <th>rolling_mean_5_dcoilwtico</th>\n",
       "      <th>rolling_std_5_dcoilwtico</th>\n",
       "      <th>ratio_rolling_mean_5_dcoilwtico</th>\n",
       "      <th>rolling_mean_7_dcoilwtico</th>\n",
       "      <th>rolling_std_7_dcoilwtico</th>\n",
       "      <th>ratio_rolling_mean_7_dcoilwtico</th>\n",
       "      <th>rolling_mean_14_dcoilwtico</th>\n",
       "      <th>rolling_std_14_dcoilwtico</th>\n",
       "      <th>ratio_rolling_mean_14_dcoilwtico</th>\n",
       "      <th>rolling_mean_31_dcoilwtico</th>\n",
       "      <th>rolling_std_31_dcoilwtico</th>\n",
       "      <th>ratio_rolling_mean_31_dcoilwtico</th>\n",
       "      <th>ewm_alpha_0.3_dcoilwtico</th>\n",
       "      <th>ewm_alpha_0.5_dcoilwtico</th>\n",
       "      <th>ewm_alpha_0.8_dcoilwtico</th>\n",
       "      <th>trend_31_dcoilwtico</th>\n",
       "      <th>seasonal_31_dcoilwtico</th>\n",
       "      <th>resid_31_dcoilwtico</th>\n",
       "      <th>fft_real_1_dcoilwtico</th>\n",
       "      <th>fft_imag_1_dcoilwtico</th>\n",
       "      <th>fft_real_2_dcoilwtico</th>\n",
       "      <th>fft_imag_2_dcoilwtico</th>\n",
       "      <th>fft_real_3_dcoilwtico</th>\n",
       "      <th>fft_imag_3_dcoilwtico</th>\n",
       "    </tr>\n",
       "  </thead>\n",
       "  <tbody>\n",
       "    <tr>\n",
       "      <th>0</th>\n",
       "      <td>2013-01-01</td>\n",
       "      <td>1</td>\n",
       "      <td>AUTOMOTIVE</td>\n",
       "      <td>0.0</td>\n",
       "      <td>0.0</td>\n",
       "      <td>93.14</td>\n",
       "      <td>93.083333</td>\n",
       "      <td>0.09815</td>\n",
       "      <td>0.998782</td>\n",
       "      <td>93.098</td>\n",
       "      <td>0.07225</td>\n",
       "      <td>1.000236</td>\n",
       "      <td>93.115714</td>\n",
       "      <td>0.070204</td>\n",
       "      <td>1.000905</td>\n",
       "      <td>93.355714</td>\n",
       "      <td>0.36704</td>\n",
       "      <td>1.009794</td>\n",
       "      <td>94.632258</td>\n",
       "      <td>1.480276</td>\n",
       "      <td>1.031889</td>\n",
       "      <td>93.14</td>\n",
       "      <td>93.14</td>\n",
       "      <td>93.14</td>\n",
       "      <td>94.632258</td>\n",
       "      <td>-0.207685</td>\n",
       "      <td>-0.614771</td>\n",
       "      <td>8082.393262</td>\n",
       "      <td>-27063.383864</td>\n",
       "      <td>-5384.231197</td>\n",
       "      <td>-2440.506954</td>\n",
       "      <td>662.249546</td>\n",
       "      <td>-2509.532773</td>\n",
       "    </tr>\n",
       "  </tbody>\n",
       "</table>\n",
       "</div>"
      ],
      "text/plain": [
       "        date  store_nbr      family  sales  onpromotion  dcoilwtico  rolling_mean_3_dcoilwtico  rolling_std_3_dcoilwtico  ratio_rolling_mean_3_dcoilwtico  rolling_mean_5_dcoilwtico  \\\n",
       "0 2013-01-01          1  AUTOMOTIVE    0.0          0.0       93.14                  93.083333                   0.09815                         0.998782                     93.098   \n",
       "\n",
       "   rolling_std_5_dcoilwtico  ratio_rolling_mean_5_dcoilwtico  rolling_mean_7_dcoilwtico  rolling_std_7_dcoilwtico  ratio_rolling_mean_7_dcoilwtico  rolling_mean_14_dcoilwtico  \\\n",
       "0                   0.07225                         1.000236                  93.115714                  0.070204                         1.000905                   93.355714   \n",
       "\n",
       "   rolling_std_14_dcoilwtico  ratio_rolling_mean_14_dcoilwtico  rolling_mean_31_dcoilwtico  rolling_std_31_dcoilwtico  ratio_rolling_mean_31_dcoilwtico  ewm_alpha_0.3_dcoilwtico  \\\n",
       "0                    0.36704                          1.009794                   94.632258                   1.480276                          1.031889                     93.14   \n",
       "\n",
       "   ewm_alpha_0.5_dcoilwtico  ewm_alpha_0.8_dcoilwtico  trend_31_dcoilwtico  seasonal_31_dcoilwtico  resid_31_dcoilwtico  fft_real_1_dcoilwtico  fft_imag_1_dcoilwtico  fft_real_2_dcoilwtico  \\\n",
       "0                     93.14                     93.14            94.632258               -0.207685            -0.614771            8082.393262          -27063.383864           -5384.231197   \n",
       "\n",
       "   fft_imag_2_dcoilwtico  fft_real_3_dcoilwtico  fft_imag_3_dcoilwtico  \n",
       "0           -2440.506954             662.249546           -2509.532773  "
      ]
     },
     "execution_count": 70,
     "metadata": {},
     "output_type": "execute_result"
    }
   ],
   "source": [
    "# merge oil data\n",
    "df_all = df_all.merge(df_oil, on=\"date\", how=\"left\")\n",
    "print(df_all.shape)\n",
    "df_all.head(1)"
   ]
  },
  {
   "cell_type": "markdown",
   "metadata": {},
   "source": [
    "## Transactions"
   ]
  },
  {
   "cell_type": "code",
   "execution_count": 71,
   "metadata": {},
   "outputs": [
    {
     "name": "stdout",
     "output_type": "stream",
     "text": [
      "(91152, 3)\n"
     ]
    },
    {
     "data": {
      "text/html": [
       "<div>\n",
       "<style scoped>\n",
       "    .dataframe tbody tr th:only-of-type {\n",
       "        vertical-align: middle;\n",
       "    }\n",
       "\n",
       "    .dataframe tbody tr th {\n",
       "        vertical-align: top;\n",
       "    }\n",
       "\n",
       "    .dataframe thead th {\n",
       "        text-align: right;\n",
       "    }\n",
       "</style>\n",
       "<table border=\"1\" class=\"dataframe\">\n",
       "  <thead>\n",
       "    <tr style=\"text-align: right;\">\n",
       "      <th></th>\n",
       "      <th>date</th>\n",
       "      <th>store_nbr</th>\n",
       "      <th>transactions</th>\n",
       "    </tr>\n",
       "  </thead>\n",
       "  <tbody>\n",
       "    <tr>\n",
       "      <th>0</th>\n",
       "      <td>2013-01-01</td>\n",
       "      <td>1</td>\n",
       "      <td>0.0</td>\n",
       "    </tr>\n",
       "  </tbody>\n",
       "</table>\n",
       "</div>"
      ],
      "text/plain": [
       "        date  store_nbr  transactions\n",
       "0 2013-01-01          1           0.0"
      ]
     },
     "execution_count": 71,
     "metadata": {},
     "output_type": "execute_result"
    }
   ],
   "source": [
    "# original transactions data\n",
    "print(df_transactions.shape)\n",
    "df_transactions.head(1)"
   ]
  },
  {
   "cell_type": "code",
   "execution_count": 72,
   "metadata": {},
   "outputs": [
    {
     "name": "stdout",
     "output_type": "stream",
     "text": [
      "(91152, 10)\n"
     ]
    },
    {
     "data": {
      "text/html": [
       "<div>\n",
       "<style scoped>\n",
       "    .dataframe tbody tr th:only-of-type {\n",
       "        vertical-align: middle;\n",
       "    }\n",
       "\n",
       "    .dataframe tbody tr th {\n",
       "        vertical-align: top;\n",
       "    }\n",
       "\n",
       "    .dataframe thead th {\n",
       "        text-align: right;\n",
       "    }\n",
       "</style>\n",
       "<table border=\"1\" class=\"dataframe\">\n",
       "  <thead>\n",
       "    <tr style=\"text-align: right;\">\n",
       "      <th></th>\n",
       "      <th>date</th>\n",
       "      <th>store_nbr</th>\n",
       "      <th>monthly_mean_transactions</th>\n",
       "      <th>monthly_min_transactions</th>\n",
       "      <th>monthly_max_transactions</th>\n",
       "      <th>monthly_std_transactions</th>\n",
       "      <th>yearly_mean_transactions</th>\n",
       "      <th>yearly_min_transactions</th>\n",
       "      <th>yearly_max_transactions</th>\n",
       "      <th>yearly_std_transactions</th>\n",
       "    </tr>\n",
       "  </thead>\n",
       "  <tbody>\n",
       "    <tr>\n",
       "      <th>0</th>\n",
       "      <td>2013-01-01</td>\n",
       "      <td>1</td>\n",
       "      <td>1478.729032</td>\n",
       "      <td>0.0</td>\n",
       "      <td>2111.0</td>\n",
       "      <td>571.618065</td>\n",
       "      <td>1514.463014</td>\n",
       "      <td>0.0</td>\n",
       "      <td>2848.0</td>\n",
       "      <td>516.824366</td>\n",
       "    </tr>\n",
       "  </tbody>\n",
       "</table>\n",
       "</div>"
      ],
      "text/plain": [
       "        date  store_nbr  monthly_mean_transactions  monthly_min_transactions  monthly_max_transactions  monthly_std_transactions  yearly_mean_transactions  yearly_min_transactions  \\\n",
       "0 2013-01-01          1                1478.729032                       0.0                    2111.0                571.618065               1514.463014                      0.0   \n",
       "\n",
       "   yearly_max_transactions  yearly_std_transactions  \n",
       "0                   2848.0               516.824366  "
      ]
     },
     "execution_count": 72,
     "metadata": {},
     "output_type": "execute_result"
    }
   ],
   "source": [
    "# monthly and yearly transaction statistics for every store\n",
    "df_transactions = historical_statistics(df_transactions, df_transactions, ['store_nbr'], \"transactions\", drop=True)\n",
    "print(df_transactions.shape)\n",
    "df_transactions.head(1)"
   ]
  },
  {
   "cell_type": "code",
   "execution_count": 73,
   "metadata": {},
   "outputs": [
    {
     "name": "stdout",
     "output_type": "stream",
     "text": [
      "(3036528, 41)\n"
     ]
    },
    {
     "data": {
      "text/html": [
       "<div>\n",
       "<style scoped>\n",
       "    .dataframe tbody tr th:only-of-type {\n",
       "        vertical-align: middle;\n",
       "    }\n",
       "\n",
       "    .dataframe tbody tr th {\n",
       "        vertical-align: top;\n",
       "    }\n",
       "\n",
       "    .dataframe thead th {\n",
       "        text-align: right;\n",
       "    }\n",
       "</style>\n",
       "<table border=\"1\" class=\"dataframe\">\n",
       "  <thead>\n",
       "    <tr style=\"text-align: right;\">\n",
       "      <th></th>\n",
       "      <th>date</th>\n",
       "      <th>store_nbr</th>\n",
       "      <th>family</th>\n",
       "      <th>sales</th>\n",
       "      <th>onpromotion</th>\n",
       "      <th>dcoilwtico</th>\n",
       "      <th>rolling_mean_3_dcoilwtico</th>\n",
       "      <th>rolling_std_3_dcoilwtico</th>\n",
       "      <th>ratio_rolling_mean_3_dcoilwtico</th>\n",
       "      <th>rolling_mean_5_dcoilwtico</th>\n",
       "      <th>rolling_std_5_dcoilwtico</th>\n",
       "      <th>ratio_rolling_mean_5_dcoilwtico</th>\n",
       "      <th>rolling_mean_7_dcoilwtico</th>\n",
       "      <th>rolling_std_7_dcoilwtico</th>\n",
       "      <th>ratio_rolling_mean_7_dcoilwtico</th>\n",
       "      <th>rolling_mean_14_dcoilwtico</th>\n",
       "      <th>rolling_std_14_dcoilwtico</th>\n",
       "      <th>ratio_rolling_mean_14_dcoilwtico</th>\n",
       "      <th>rolling_mean_31_dcoilwtico</th>\n",
       "      <th>rolling_std_31_dcoilwtico</th>\n",
       "      <th>ratio_rolling_mean_31_dcoilwtico</th>\n",
       "      <th>ewm_alpha_0.3_dcoilwtico</th>\n",
       "      <th>ewm_alpha_0.5_dcoilwtico</th>\n",
       "      <th>ewm_alpha_0.8_dcoilwtico</th>\n",
       "      <th>trend_31_dcoilwtico</th>\n",
       "      <th>seasonal_31_dcoilwtico</th>\n",
       "      <th>resid_31_dcoilwtico</th>\n",
       "      <th>fft_real_1_dcoilwtico</th>\n",
       "      <th>fft_imag_1_dcoilwtico</th>\n",
       "      <th>fft_real_2_dcoilwtico</th>\n",
       "      <th>fft_imag_2_dcoilwtico</th>\n",
       "      <th>fft_real_3_dcoilwtico</th>\n",
       "      <th>fft_imag_3_dcoilwtico</th>\n",
       "      <th>monthly_mean_transactions</th>\n",
       "      <th>monthly_min_transactions</th>\n",
       "      <th>monthly_max_transactions</th>\n",
       "      <th>monthly_std_transactions</th>\n",
       "      <th>yearly_mean_transactions</th>\n",
       "      <th>yearly_min_transactions</th>\n",
       "      <th>yearly_max_transactions</th>\n",
       "      <th>yearly_std_transactions</th>\n",
       "    </tr>\n",
       "  </thead>\n",
       "  <tbody>\n",
       "    <tr>\n",
       "      <th>0</th>\n",
       "      <td>2013-01-01</td>\n",
       "      <td>1</td>\n",
       "      <td>AUTOMOTIVE</td>\n",
       "      <td>0.0</td>\n",
       "      <td>0.0</td>\n",
       "      <td>93.14</td>\n",
       "      <td>93.083333</td>\n",
       "      <td>0.09815</td>\n",
       "      <td>0.998782</td>\n",
       "      <td>93.098</td>\n",
       "      <td>0.07225</td>\n",
       "      <td>1.000236</td>\n",
       "      <td>93.115714</td>\n",
       "      <td>0.070204</td>\n",
       "      <td>1.000905</td>\n",
       "      <td>93.355714</td>\n",
       "      <td>0.36704</td>\n",
       "      <td>1.009794</td>\n",
       "      <td>94.632258</td>\n",
       "      <td>1.480276</td>\n",
       "      <td>1.031889</td>\n",
       "      <td>93.14</td>\n",
       "      <td>93.14</td>\n",
       "      <td>93.14</td>\n",
       "      <td>94.632258</td>\n",
       "      <td>-0.207685</td>\n",
       "      <td>-0.614771</td>\n",
       "      <td>8082.393262</td>\n",
       "      <td>-27063.383864</td>\n",
       "      <td>-5384.231197</td>\n",
       "      <td>-2440.506954</td>\n",
       "      <td>662.249546</td>\n",
       "      <td>-2509.532773</td>\n",
       "      <td>1478.729032</td>\n",
       "      <td>0.0</td>\n",
       "      <td>2111.0</td>\n",
       "      <td>571.618065</td>\n",
       "      <td>1514.463014</td>\n",
       "      <td>0.0</td>\n",
       "      <td>2848.0</td>\n",
       "      <td>516.824366</td>\n",
       "    </tr>\n",
       "  </tbody>\n",
       "</table>\n",
       "</div>"
      ],
      "text/plain": [
       "        date  store_nbr      family  sales  onpromotion  dcoilwtico  rolling_mean_3_dcoilwtico  rolling_std_3_dcoilwtico  ratio_rolling_mean_3_dcoilwtico  rolling_mean_5_dcoilwtico  \\\n",
       "0 2013-01-01          1  AUTOMOTIVE    0.0          0.0       93.14                  93.083333                   0.09815                         0.998782                     93.098   \n",
       "\n",
       "   rolling_std_5_dcoilwtico  ratio_rolling_mean_5_dcoilwtico  rolling_mean_7_dcoilwtico  rolling_std_7_dcoilwtico  ratio_rolling_mean_7_dcoilwtico  rolling_mean_14_dcoilwtico  \\\n",
       "0                   0.07225                         1.000236                  93.115714                  0.070204                         1.000905                   93.355714   \n",
       "\n",
       "   rolling_std_14_dcoilwtico  ratio_rolling_mean_14_dcoilwtico  rolling_mean_31_dcoilwtico  rolling_std_31_dcoilwtico  ratio_rolling_mean_31_dcoilwtico  ewm_alpha_0.3_dcoilwtico  \\\n",
       "0                    0.36704                          1.009794                   94.632258                   1.480276                          1.031889                     93.14   \n",
       "\n",
       "   ewm_alpha_0.5_dcoilwtico  ewm_alpha_0.8_dcoilwtico  trend_31_dcoilwtico  seasonal_31_dcoilwtico  resid_31_dcoilwtico  fft_real_1_dcoilwtico  fft_imag_1_dcoilwtico  fft_real_2_dcoilwtico  \\\n",
       "0                     93.14                     93.14            94.632258               -0.207685            -0.614771            8082.393262          -27063.383864           -5384.231197   \n",
       "\n",
       "   fft_imag_2_dcoilwtico  fft_real_3_dcoilwtico  fft_imag_3_dcoilwtico  monthly_mean_transactions  monthly_min_transactions  monthly_max_transactions  monthly_std_transactions  \\\n",
       "0           -2440.506954             662.249546           -2509.532773                1478.729032                       0.0                    2111.0                571.618065   \n",
       "\n",
       "   yearly_mean_transactions  yearly_min_transactions  yearly_max_transactions  yearly_std_transactions  \n",
       "0               1514.463014                      0.0                   2848.0               516.824366  "
      ]
     },
     "execution_count": 73,
     "metadata": {},
     "output_type": "execute_result"
    }
   ],
   "source": [
    "# merge transactions into data\n",
    "df_all = df_all.merge(df_transactions, on=[\"store_nbr\", \"date\"], how=\"left\")\n",
    "print(df_all.shape)\n",
    "df_all.head(1)"
   ]
  },
  {
   "cell_type": "markdown",
   "metadata": {},
   "source": [
    "## Holiday"
   ]
  },
  {
   "cell_type": "code",
   "execution_count": 74,
   "metadata": {},
   "outputs": [
    {
     "name": "stdout",
     "output_type": "stream",
     "text": [
      "(1704, 10)\n"
     ]
    },
    {
     "data": {
      "text/html": [
       "<div>\n",
       "<style scoped>\n",
       "    .dataframe tbody tr th:only-of-type {\n",
       "        vertical-align: middle;\n",
       "    }\n",
       "\n",
       "    .dataframe tbody tr th {\n",
       "        vertical-align: top;\n",
       "    }\n",
       "\n",
       "    .dataframe thead th {\n",
       "        text-align: right;\n",
       "    }\n",
       "</style>\n",
       "<table border=\"1\" class=\"dataframe\">\n",
       "  <thead>\n",
       "    <tr style=\"text-align: right;\">\n",
       "      <th></th>\n",
       "      <th>date</th>\n",
       "      <th>type</th>\n",
       "      <th>locale</th>\n",
       "      <th>1_days_before_holiday</th>\n",
       "      <th>3_days_before_holiday</th>\n",
       "      <th>7_days_before_holiday</th>\n",
       "      <th>14_days_before_holiday</th>\n",
       "      <th>31_days_before_holiday</th>\n",
       "      <th>1_days_after_holiday</th>\n",
       "      <th>3_days_after_holiday</th>\n",
       "    </tr>\n",
       "  </thead>\n",
       "  <tbody>\n",
       "    <tr>\n",
       "      <th>0</th>\n",
       "      <td>2013-01-01</td>\n",
       "      <td>Holiday</td>\n",
       "      <td>National</td>\n",
       "      <td>0</td>\n",
       "      <td>0</td>\n",
       "      <td>0</td>\n",
       "      <td>0</td>\n",
       "      <td>0</td>\n",
       "      <td>0</td>\n",
       "      <td>0</td>\n",
       "    </tr>\n",
       "  </tbody>\n",
       "</table>\n",
       "</div>"
      ],
      "text/plain": [
       "        date     type    locale  1_days_before_holiday  3_days_before_holiday  7_days_before_holiday  14_days_before_holiday  31_days_before_holiday  1_days_after_holiday  3_days_after_holiday\n",
       "0 2013-01-01  Holiday  National                      0                      0                      0                       0                       0                     0                     0"
      ]
     },
     "execution_count": 74,
     "metadata": {},
     "output_type": "execute_result"
    }
   ],
   "source": [
    "# mark before, after holdiays\n",
    "def mark_days_around_holidays(df, days_before, days_after):\n",
    "    for day in days_before:\n",
    "        col_name = f'{day}_days_before_holiday'\n",
    "        df[col_name] = 0\n",
    "    \n",
    "    for day in days_after:\n",
    "        col_name = f'{day}_days_after_holiday'\n",
    "        df[col_name] = 0\n",
    "    \n",
    "    for _, row in df.iterrows():\n",
    "        if row['type'] != 'Else':\n",
    "            holiday_date = row['date']\n",
    "            for day in days_before:\n",
    "                before_date = holiday_date - timedelta(days=day)\n",
    "                if before_date in df['date'].values:\n",
    "                    df.loc[df['date'] == before_date, f'{day}_days_before_holiday'] = 1\n",
    "            for day in days_after:\n",
    "                after_date = holiday_date + timedelta(days=day)\n",
    "                if after_date in df['date'].values:\n",
    "                    df.loc[df['date'] == after_date, f'{day}_days_after_holiday'] = 1\n",
    "    \n",
    "    return df\n",
    "\n",
    "df_holiday = mark_days_around_holidays(df_holiday, [1, 3, 7, 14, 31], [1, 3])\n",
    "print(df_holiday.shape)\n",
    "df_holiday.head(1)"
   ]
  },
  {
   "cell_type": "code",
   "execution_count": 75,
   "metadata": {},
   "outputs": [
    {
     "name": "stdout",
     "output_type": "stream",
     "text": [
      "(3036528, 50)\n"
     ]
    },
    {
     "data": {
      "text/html": [
       "<div>\n",
       "<style scoped>\n",
       "    .dataframe tbody tr th:only-of-type {\n",
       "        vertical-align: middle;\n",
       "    }\n",
       "\n",
       "    .dataframe tbody tr th {\n",
       "        vertical-align: top;\n",
       "    }\n",
       "\n",
       "    .dataframe thead th {\n",
       "        text-align: right;\n",
       "    }\n",
       "</style>\n",
       "<table border=\"1\" class=\"dataframe\">\n",
       "  <thead>\n",
       "    <tr style=\"text-align: right;\">\n",
       "      <th></th>\n",
       "      <th>date</th>\n",
       "      <th>store_nbr</th>\n",
       "      <th>family</th>\n",
       "      <th>sales</th>\n",
       "      <th>onpromotion</th>\n",
       "      <th>dcoilwtico</th>\n",
       "      <th>rolling_mean_3_dcoilwtico</th>\n",
       "      <th>rolling_std_3_dcoilwtico</th>\n",
       "      <th>ratio_rolling_mean_3_dcoilwtico</th>\n",
       "      <th>rolling_mean_5_dcoilwtico</th>\n",
       "      <th>rolling_std_5_dcoilwtico</th>\n",
       "      <th>ratio_rolling_mean_5_dcoilwtico</th>\n",
       "      <th>rolling_mean_7_dcoilwtico</th>\n",
       "      <th>rolling_std_7_dcoilwtico</th>\n",
       "      <th>ratio_rolling_mean_7_dcoilwtico</th>\n",
       "      <th>rolling_mean_14_dcoilwtico</th>\n",
       "      <th>rolling_std_14_dcoilwtico</th>\n",
       "      <th>ratio_rolling_mean_14_dcoilwtico</th>\n",
       "      <th>rolling_mean_31_dcoilwtico</th>\n",
       "      <th>rolling_std_31_dcoilwtico</th>\n",
       "      <th>ratio_rolling_mean_31_dcoilwtico</th>\n",
       "      <th>ewm_alpha_0.3_dcoilwtico</th>\n",
       "      <th>ewm_alpha_0.5_dcoilwtico</th>\n",
       "      <th>ewm_alpha_0.8_dcoilwtico</th>\n",
       "      <th>trend_31_dcoilwtico</th>\n",
       "      <th>seasonal_31_dcoilwtico</th>\n",
       "      <th>resid_31_dcoilwtico</th>\n",
       "      <th>fft_real_1_dcoilwtico</th>\n",
       "      <th>fft_imag_1_dcoilwtico</th>\n",
       "      <th>fft_real_2_dcoilwtico</th>\n",
       "      <th>fft_imag_2_dcoilwtico</th>\n",
       "      <th>fft_real_3_dcoilwtico</th>\n",
       "      <th>fft_imag_3_dcoilwtico</th>\n",
       "      <th>monthly_mean_transactions</th>\n",
       "      <th>monthly_min_transactions</th>\n",
       "      <th>monthly_max_transactions</th>\n",
       "      <th>monthly_std_transactions</th>\n",
       "      <th>yearly_mean_transactions</th>\n",
       "      <th>yearly_min_transactions</th>\n",
       "      <th>yearly_max_transactions</th>\n",
       "      <th>yearly_std_transactions</th>\n",
       "      <th>type</th>\n",
       "      <th>locale</th>\n",
       "      <th>1_days_before_holiday</th>\n",
       "      <th>3_days_before_holiday</th>\n",
       "      <th>7_days_before_holiday</th>\n",
       "      <th>14_days_before_holiday</th>\n",
       "      <th>31_days_before_holiday</th>\n",
       "      <th>1_days_after_holiday</th>\n",
       "      <th>3_days_after_holiday</th>\n",
       "    </tr>\n",
       "  </thead>\n",
       "  <tbody>\n",
       "    <tr>\n",
       "      <th>0</th>\n",
       "      <td>2013-01-01</td>\n",
       "      <td>1</td>\n",
       "      <td>AUTOMOTIVE</td>\n",
       "      <td>0.0</td>\n",
       "      <td>0.0</td>\n",
       "      <td>93.14</td>\n",
       "      <td>93.083333</td>\n",
       "      <td>0.09815</td>\n",
       "      <td>0.998782</td>\n",
       "      <td>93.098</td>\n",
       "      <td>0.07225</td>\n",
       "      <td>1.000236</td>\n",
       "      <td>93.115714</td>\n",
       "      <td>0.070204</td>\n",
       "      <td>1.000905</td>\n",
       "      <td>93.355714</td>\n",
       "      <td>0.36704</td>\n",
       "      <td>1.009794</td>\n",
       "      <td>94.632258</td>\n",
       "      <td>1.480276</td>\n",
       "      <td>1.031889</td>\n",
       "      <td>93.14</td>\n",
       "      <td>93.14</td>\n",
       "      <td>93.14</td>\n",
       "      <td>94.632258</td>\n",
       "      <td>-0.207685</td>\n",
       "      <td>-0.614771</td>\n",
       "      <td>8082.393262</td>\n",
       "      <td>-27063.383864</td>\n",
       "      <td>-5384.231197</td>\n",
       "      <td>-2440.506954</td>\n",
       "      <td>662.249546</td>\n",
       "      <td>-2509.532773</td>\n",
       "      <td>1478.729032</td>\n",
       "      <td>0.0</td>\n",
       "      <td>2111.0</td>\n",
       "      <td>571.618065</td>\n",
       "      <td>1514.463014</td>\n",
       "      <td>0.0</td>\n",
       "      <td>2848.0</td>\n",
       "      <td>516.824366</td>\n",
       "      <td>Holiday</td>\n",
       "      <td>National</td>\n",
       "      <td>0</td>\n",
       "      <td>0</td>\n",
       "      <td>0</td>\n",
       "      <td>0</td>\n",
       "      <td>0</td>\n",
       "      <td>0</td>\n",
       "      <td>0</td>\n",
       "    </tr>\n",
       "  </tbody>\n",
       "</table>\n",
       "</div>"
      ],
      "text/plain": [
       "        date  store_nbr      family  sales  onpromotion  dcoilwtico  rolling_mean_3_dcoilwtico  rolling_std_3_dcoilwtico  ratio_rolling_mean_3_dcoilwtico  rolling_mean_5_dcoilwtico  \\\n",
       "0 2013-01-01          1  AUTOMOTIVE    0.0          0.0       93.14                  93.083333                   0.09815                         0.998782                     93.098   \n",
       "\n",
       "   rolling_std_5_dcoilwtico  ratio_rolling_mean_5_dcoilwtico  rolling_mean_7_dcoilwtico  rolling_std_7_dcoilwtico  ratio_rolling_mean_7_dcoilwtico  rolling_mean_14_dcoilwtico  \\\n",
       "0                   0.07225                         1.000236                  93.115714                  0.070204                         1.000905                   93.355714   \n",
       "\n",
       "   rolling_std_14_dcoilwtico  ratio_rolling_mean_14_dcoilwtico  rolling_mean_31_dcoilwtico  rolling_std_31_dcoilwtico  ratio_rolling_mean_31_dcoilwtico  ewm_alpha_0.3_dcoilwtico  \\\n",
       "0                    0.36704                          1.009794                   94.632258                   1.480276                          1.031889                     93.14   \n",
       "\n",
       "   ewm_alpha_0.5_dcoilwtico  ewm_alpha_0.8_dcoilwtico  trend_31_dcoilwtico  seasonal_31_dcoilwtico  resid_31_dcoilwtico  fft_real_1_dcoilwtico  fft_imag_1_dcoilwtico  fft_real_2_dcoilwtico  \\\n",
       "0                     93.14                     93.14            94.632258               -0.207685            -0.614771            8082.393262          -27063.383864           -5384.231197   \n",
       "\n",
       "   fft_imag_2_dcoilwtico  fft_real_3_dcoilwtico  fft_imag_3_dcoilwtico  monthly_mean_transactions  monthly_min_transactions  monthly_max_transactions  monthly_std_transactions  \\\n",
       "0           -2440.506954             662.249546           -2509.532773                1478.729032                       0.0                    2111.0                571.618065   \n",
       "\n",
       "   yearly_mean_transactions  yearly_min_transactions  yearly_max_transactions  yearly_std_transactions     type    locale  1_days_before_holiday  3_days_before_holiday  7_days_before_holiday  \\\n",
       "0               1514.463014                      0.0                   2848.0               516.824366  Holiday  National                      0                      0                      0   \n",
       "\n",
       "   14_days_before_holiday  31_days_before_holiday  1_days_after_holiday  3_days_after_holiday  \n",
       "0                       0                       0                     0                     0  "
      ]
     },
     "execution_count": 75,
     "metadata": {},
     "output_type": "execute_result"
    }
   ],
   "source": [
    "# merge holiday data\n",
    "df_all = df_all.merge(df_holiday, on=\"date\", how=\"left\")\n",
    "print(df_all.shape)\n",
    "df_all.head(1)"
   ]
  },
  {
   "cell_type": "markdown",
   "metadata": {},
   "source": [
    "## Apply "
   ]
  },
  {
   "cell_type": "code",
   "execution_count": 76,
   "metadata": {},
   "outputs": [
    {
     "name": "stdout",
     "output_type": "stream",
     "text": [
      "(2386098, 166)\n",
      "<class 'pandas.core.frame.DataFrame'>\n",
      "Index: 2386098 entries, 365 to 3036527\n",
      "Data columns (total 166 columns):\n",
      " #    Column                                Non-Null Count    Dtype         \n",
      "---   ------                                --------------    -----         \n",
      " 0    date                                  2386098 non-null  datetime64[ns]\n",
      " 1    store_nbr                             2386098 non-null  int64         \n",
      " 2    family                                2386098 non-null  object        \n",
      " 3    sales                                 2386098 non-null  float64       \n",
      " 4    onpromotion                           2386098 non-null  float64       \n",
      " 5    dcoilwtico                            2386098 non-null  float64       \n",
      " 6    rolling_mean_3_dcoilwtico             2386098 non-null  float64       \n",
      " 7    rolling_std_3_dcoilwtico              2386098 non-null  float64       \n",
      " 8    ratio_rolling_mean_3_dcoilwtico       2386098 non-null  float64       \n",
      " 9    rolling_mean_5_dcoilwtico             2386098 non-null  float64       \n",
      " 10   rolling_std_5_dcoilwtico              2386098 non-null  float64       \n",
      " 11   ratio_rolling_mean_5_dcoilwtico       2386098 non-null  float64       \n",
      " 12   rolling_mean_7_dcoilwtico             2386098 non-null  float64       \n",
      " 13   rolling_std_7_dcoilwtico              2386098 non-null  float64       \n",
      " 14   ratio_rolling_mean_7_dcoilwtico       2386098 non-null  float64       \n",
      " 15   rolling_mean_14_dcoilwtico            2386098 non-null  float64       \n",
      " 16   rolling_std_14_dcoilwtico             2386098 non-null  float64       \n",
      " 17   ratio_rolling_mean_14_dcoilwtico      2386098 non-null  float64       \n",
      " 18   rolling_mean_31_dcoilwtico            2386098 non-null  float64       \n",
      " 19   rolling_std_31_dcoilwtico             2386098 non-null  float64       \n",
      " 20   ratio_rolling_mean_31_dcoilwtico      2386098 non-null  float64       \n",
      " 21   ewm_alpha_0.3_dcoilwtico              2386098 non-null  float64       \n",
      " 22   ewm_alpha_0.5_dcoilwtico              2386098 non-null  float64       \n",
      " 23   ewm_alpha_0.8_dcoilwtico              2386098 non-null  float64       \n",
      " 24   trend_31_dcoilwtico                   2386098 non-null  float64       \n",
      " 25   seasonal_31_dcoilwtico                2386098 non-null  float64       \n",
      " 26   resid_31_dcoilwtico                   2386098 non-null  float64       \n",
      " 27   fft_real_1_dcoilwtico                 2386098 non-null  float64       \n",
      " 28   fft_imag_1_dcoilwtico                 2386098 non-null  float64       \n",
      " 29   fft_real_2_dcoilwtico                 2386098 non-null  float64       \n",
      " 30   fft_imag_2_dcoilwtico                 2386098 non-null  float64       \n",
      " 31   fft_real_3_dcoilwtico                 2386098 non-null  float64       \n",
      " 32   fft_imag_3_dcoilwtico                 2386098 non-null  float64       \n",
      " 33   monthly_mean_transactions             2386098 non-null  float64       \n",
      " 34   monthly_min_transactions              2386098 non-null  float64       \n",
      " 35   monthly_max_transactions              2386098 non-null  float64       \n",
      " 36   monthly_std_transactions              2386098 non-null  float64       \n",
      " 37   yearly_mean_transactions              2386098 non-null  float64       \n",
      " 38   yearly_min_transactions               2386098 non-null  float64       \n",
      " 39   yearly_max_transactions               2386098 non-null  float64       \n",
      " 40   yearly_std_transactions               2386098 non-null  float64       \n",
      " 41   type                                  2386098 non-null  object        \n",
      " 42   locale                                2386098 non-null  object        \n",
      " 43   1_days_before_holiday                 2386098 non-null  int64         \n",
      " 44   3_days_before_holiday                 2386098 non-null  int64         \n",
      " 45   7_days_before_holiday                 2386098 non-null  int64         \n",
      " 46   14_days_before_holiday                2386098 non-null  int64         \n",
      " 47   31_days_before_holiday                2386098 non-null  int64         \n",
      " 48   1_days_after_holiday                  2386098 non-null  int64         \n",
      " 49   3_days_after_holiday                  2386098 non-null  int64         \n",
      " 50   dayofyear                             2386098 non-null  int32         \n",
      " 51   is_weekend                            2386098 non-null  int64         \n",
      " 52   month_sin                             2386098 non-null  float64       \n",
      " 53   month_cos                             2386098 non-null  float64       \n",
      " 54   is_spring                             2386098 non-null  int32         \n",
      " 55   is_summer                             2386098 non-null  int32         \n",
      " 56   is_fall                               2386098 non-null  int32         \n",
      " 57   is_winter                             2386098 non-null  int32         \n",
      " 58   monthly_mean_sales                    2386098 non-null  float64       \n",
      " 59   monthly_min_sales                     2386098 non-null  float64       \n",
      " 60   monthly_max_sales                     2386098 non-null  float64       \n",
      " 61   monthly_std_sales                     2386098 non-null  float64       \n",
      " 62   yearly_mean_sales                     2386098 non-null  float64       \n",
      " 63   yearly_min_sales                      2386098 non-null  float64       \n",
      " 64   yearly_max_sales                      2386098 non-null  float64       \n",
      " 65   yearly_std_sales                      2386098 non-null  float64       \n",
      " 66   year_2013                             2386098 non-null  bool          \n",
      " 67   year_2014                             2386098 non-null  bool          \n",
      " 68   year_2015                             2386098 non-null  bool          \n",
      " 69   year_2016                             2386098 non-null  bool          \n",
      " 70   year_2017                             2386098 non-null  bool          \n",
      " 71   month_1                               2386098 non-null  bool          \n",
      " 72   month_2                               2386098 non-null  bool          \n",
      " 73   month_3                               2386098 non-null  bool          \n",
      " 74   month_4                               2386098 non-null  bool          \n",
      " 75   month_5                               2386098 non-null  bool          \n",
      " 76   month_6                               2386098 non-null  bool          \n",
      " 77   month_7                               2386098 non-null  bool          \n",
      " 78   month_8                               2386098 non-null  bool          \n",
      " 79   month_9                               2386098 non-null  bool          \n",
      " 80   month_10                              2386098 non-null  bool          \n",
      " 81   month_11                              2386098 non-null  bool          \n",
      " 82   month_12                              2386098 non-null  bool          \n",
      " 83   dayofweek_0                           2386098 non-null  bool          \n",
      " 84   dayofweek_1                           2386098 non-null  bool          \n",
      " 85   dayofweek_2                           2386098 non-null  bool          \n",
      " 86   dayofweek_3                           2386098 non-null  bool          \n",
      " 87   dayofweek_4                           2386098 non-null  bool          \n",
      " 88   dayofweek_5                           2386098 non-null  bool          \n",
      " 89   dayofweek_6                           2386098 non-null  bool          \n",
      " 90   rolling_mean_3_sales_shifted_16       2386098 non-null  float64       \n",
      " 91   rolling_mean_3_sales_shifted_31       2386098 non-null  float64       \n",
      " 92   rolling_mean_3_sales_shifted_365      2386098 non-null  float64       \n",
      " 93   rolling_std_3_sales_shifted_16        2386098 non-null  float64       \n",
      " 94   rolling_std_3_sales_shifted_31        2386098 non-null  float64       \n",
      " 95   rolling_std_3_sales_shifted_365       2386098 non-null  float64       \n",
      " 96   diff_rolling_mean_3_sales_16_vs_31    2386098 non-null  float64       \n",
      " 97   diff_rolling_mean_3_sales_31_vs_365   2386098 non-null  float64       \n",
      " 98   rolling_mean_5_sales_shifted_16       2386098 non-null  float64       \n",
      " 99   rolling_mean_5_sales_shifted_31       2386098 non-null  float64       \n",
      " 100  rolling_mean_5_sales_shifted_365      2386098 non-null  float64       \n",
      " 101  rolling_std_5_sales_shifted_16        2386098 non-null  float64       \n",
      " 102  rolling_std_5_sales_shifted_31        2386098 non-null  float64       \n",
      " 103  rolling_std_5_sales_shifted_365       2386098 non-null  float64       \n",
      " 104  diff_rolling_mean_5_sales_16_vs_31    2386098 non-null  float64       \n",
      " 105  diff_rolling_mean_5_sales_31_vs_365   2386098 non-null  float64       \n",
      " 106  rolling_mean_7_sales_shifted_16       2386098 non-null  float64       \n",
      " 107  rolling_mean_7_sales_shifted_31       2386098 non-null  float64       \n",
      " 108  rolling_mean_7_sales_shifted_365      2386098 non-null  float64       \n",
      " 109  rolling_std_7_sales_shifted_16        2386098 non-null  float64       \n",
      " 110  rolling_std_7_sales_shifted_31        2386098 non-null  float64       \n",
      " 111  rolling_std_7_sales_shifted_365       2386098 non-null  float64       \n",
      " 112  diff_rolling_mean_7_sales_16_vs_31    2386098 non-null  float64       \n",
      " 113  diff_rolling_mean_7_sales_31_vs_365   2386098 non-null  float64       \n",
      " 114  rolling_mean_14_sales_shifted_16      2386098 non-null  float64       \n",
      " 115  rolling_mean_14_sales_shifted_31      2386098 non-null  float64       \n",
      " 116  rolling_mean_14_sales_shifted_365     2386098 non-null  float64       \n",
      " 117  rolling_std_14_sales_shifted_16       2386098 non-null  float64       \n",
      " 118  rolling_std_14_sales_shifted_31       2386098 non-null  float64       \n",
      " 119  rolling_std_14_sales_shifted_365      2386098 non-null  float64       \n",
      " 120  diff_rolling_mean_14_sales_16_vs_31   2386098 non-null  float64       \n",
      " 121  diff_rolling_mean_14_sales_31_vs_365  2386098 non-null  float64       \n",
      " 122  rolling_mean_31_sales_shifted_16      2386098 non-null  float64       \n",
      " 123  rolling_mean_31_sales_shifted_31      2386098 non-null  float64       \n",
      " 124  rolling_mean_31_sales_shifted_365     2386098 non-null  float64       \n",
      " 125  rolling_std_31_sales_shifted_16       2386098 non-null  float64       \n",
      " 126  rolling_std_31_sales_shifted_31       2386098 non-null  float64       \n",
      " 127  rolling_std_31_sales_shifted_365      2386098 non-null  float64       \n",
      " 128  diff_rolling_mean_31_sales_16_vs_31   2386098 non-null  float64       \n",
      " 129  diff_rolling_mean_31_sales_31_vs_365  2386098 non-null  float64       \n",
      " 130  ewm_alpha_0.3_sales_shifted_16        2386098 non-null  float64       \n",
      " 131  ewm_alpha_0.3_sales_shifted_31        2386098 non-null  float64       \n",
      " 132  ewm_alpha_0.3_sales_shifted_365       2386098 non-null  float64       \n",
      " 133  ewm_alpha_0.5_sales_shifted_16        2386098 non-null  float64       \n",
      " 134  ewm_alpha_0.5_sales_shifted_31        2386098 non-null  float64       \n",
      " 135  ewm_alpha_0.5_sales_shifted_365       2386098 non-null  float64       \n",
      " 136  ewm_alpha_0.8_sales_shifted_16        2386098 non-null  float64       \n",
      " 137  ewm_alpha_0.8_sales_shifted_31        2386098 non-null  float64       \n",
      " 138  ewm_alpha_0.8_sales_shifted_365       2386098 non-null  float64       \n",
      " 139  trend_31_sales_shifted_16             2386098 non-null  float64       \n",
      " 140  seasonal_31_sales_shifted_16          2386098 non-null  float64       \n",
      " 141  resid_31_sales_shifted_16             2386098 non-null  float64       \n",
      " 142  trend_31_sales_shifted_31             2386098 non-null  float64       \n",
      " 143  seasonal_31_sales_shifted_31          2386098 non-null  float64       \n",
      " 144  resid_31_sales_shifted_31             2386098 non-null  float64       \n",
      " 145  trend_31_sales_shifted_365            2386098 non-null  float64       \n",
      " 146  seasonal_31_sales_shifted_365         2386098 non-null  float64       \n",
      " 147  resid_31_sales_shifted_365            2386098 non-null  float64       \n",
      " 148  fft_real_1_sales_shifted_16           2386098 non-null  float64       \n",
      " 149  fft_imag_1_sales_shifted_16           2386098 non-null  float64       \n",
      " 150  fft_real_2_sales_shifted_16           2386098 non-null  float64       \n",
      " 151  fft_imag_2_sales_shifted_16           2386098 non-null  float64       \n",
      " 152  fft_real_3_sales_shifted_16           2386098 non-null  float64       \n",
      " 153  fft_imag_3_sales_shifted_16           2386098 non-null  float64       \n",
      " 154  fft_real_1_sales_shifted_31           2386098 non-null  float64       \n",
      " 155  fft_imag_1_sales_shifted_31           2386098 non-null  float64       \n",
      " 156  fft_real_2_sales_shifted_31           2386098 non-null  float64       \n",
      " 157  fft_imag_2_sales_shifted_31           2386098 non-null  float64       \n",
      " 158  fft_real_3_sales_shifted_31           2386098 non-null  float64       \n",
      " 159  fft_imag_3_sales_shifted_31           2386098 non-null  float64       \n",
      " 160  fft_real_1_sales_shifted_365          2386098 non-null  float64       \n",
      " 161  fft_imag_1_sales_shifted_365          2386098 non-null  float64       \n",
      " 162  fft_real_2_sales_shifted_365          2386098 non-null  float64       \n",
      " 163  fft_imag_2_sales_shifted_365          2386098 non-null  float64       \n",
      " 164  fft_real_3_sales_shifted_365          2386098 non-null  float64       \n",
      " 165  fft_imag_3_sales_shifted_365          2386098 non-null  float64       \n",
      "dtypes: bool(24), datetime64[ns](1), float64(124), int32(5), int64(9), object(3)\n",
      "memory usage: 2.6+ GB\n"
     ]
    }
   ],
   "source": [
    "# engineer training data\n",
    "df_all = date_engineering(df_all, \"sales\", 2018, ['store_nbr', 'family'])\n",
    "df_all = df_all.groupby(['store_nbr', 'family']).apply(lambda x: timeseries_engineering(x, \"sales\", [16,31,365], True)).reset_index(drop=True)\n",
    "df_all = df_all[df_all['date'].dt.year > 2013] # because first year values will be empty for timeseries features\n",
    "\n",
    "print(df_all.shape)\n",
    "df_all.info(verbose=True, show_counts=True)"
   ]
  },
  {
   "cell_type": "markdown",
   "metadata": {},
   "source": [
    "# EDA"
   ]
  },
  {
   "cell_type": "code",
   "execution_count": 77,
   "metadata": {},
   "outputs": [
    {
     "name": "stdout",
     "output_type": "stream",
     "text": [
      "EDA_Preprocessor instance initialized with data:\n",
      " \tKeeping columns: 1\n",
      " \tNumeric features: 125\n",
      " \tCategorical features: 3\n",
      " \tBinary features: 36\n",
      "EDA data is now as follows:\n",
      "<class 'pandas.core.frame.DataFrame'>\n",
      "RangeIndex: 2386098 entries, 0 to 2386097\n",
      "Data columns (total 166 columns):\n",
      " #    Column                                Non-Null Count    Dtype         \n",
      "---   ------                                --------------    -----         \n",
      " 0    date                                  2386098 non-null  datetime64[ns]\n",
      " 1    dayofyear                             2386098 non-null  int32         \n",
      " 2    dcoilwtico                            2386098 non-null  float64       \n",
      " 3    diff_rolling_mean_3_sales_16_vs_31    2386098 non-null  float64       \n",
      " 4    diff_rolling_mean_3_sales_31_vs_365   2386098 non-null  float64       \n",
      " 5    diff_rolling_mean_5_sales_16_vs_31    2386098 non-null  float64       \n",
      " 6    diff_rolling_mean_5_sales_31_vs_365   2386098 non-null  float64       \n",
      " 7    diff_rolling_mean_7_sales_16_vs_31    2386098 non-null  float64       \n",
      " 8    diff_rolling_mean_7_sales_31_vs_365   2386098 non-null  float64       \n",
      " 9    diff_rolling_mean_14_sales_16_vs_31   2386098 non-null  float64       \n",
      " 10   diff_rolling_mean_14_sales_31_vs_365  2386098 non-null  float64       \n",
      " 11   diff_rolling_mean_31_sales_16_vs_31   2386098 non-null  float64       \n",
      " 12   diff_rolling_mean_31_sales_31_vs_365  2386098 non-null  float64       \n",
      " 13   ewm_alpha_03_dcoilwtico               2386098 non-null  float64       \n",
      " 14   ewm_alpha_03_sales_shifted_16         2386098 non-null  float64       \n",
      " 15   ewm_alpha_03_sales_shifted_31         2386098 non-null  float64       \n",
      " 16   ewm_alpha_03_sales_shifted_365        2386098 non-null  float64       \n",
      " 17   ewm_alpha_05_dcoilwtico               2386098 non-null  float64       \n",
      " 18   ewm_alpha_05_sales_shifted_16         2386098 non-null  float64       \n",
      " 19   ewm_alpha_05_sales_shifted_31         2386098 non-null  float64       \n",
      " 20   ewm_alpha_05_sales_shifted_365        2386098 non-null  float64       \n",
      " 21   ewm_alpha_08_dcoilwtico               2386098 non-null  float64       \n",
      " 22   ewm_alpha_08_sales_shifted_16         2386098 non-null  float64       \n",
      " 23   ewm_alpha_08_sales_shifted_31         2386098 non-null  float64       \n",
      " 24   ewm_alpha_08_sales_shifted_365        2386098 non-null  float64       \n",
      " 25   fft_imag_1_dcoilwtico                 2386098 non-null  float64       \n",
      " 26   fft_imag_1_sales_shifted_16           2386098 non-null  float64       \n",
      " 27   fft_imag_1_sales_shifted_31           2386098 non-null  float64       \n",
      " 28   fft_imag_1_sales_shifted_365          2386098 non-null  float64       \n",
      " 29   fft_imag_2_dcoilwtico                 2386098 non-null  float64       \n",
      " 30   fft_imag_2_sales_shifted_16           2386098 non-null  float64       \n",
      " 31   fft_imag_2_sales_shifted_31           2386098 non-null  float64       \n",
      " 32   fft_imag_2_sales_shifted_365          2386098 non-null  float64       \n",
      " 33   fft_imag_3_dcoilwtico                 2386098 non-null  float64       \n",
      " 34   fft_imag_3_sales_shifted_16           2386098 non-null  float64       \n",
      " 35   fft_imag_3_sales_shifted_31           2386098 non-null  float64       \n",
      " 36   fft_imag_3_sales_shifted_365          2386098 non-null  float64       \n",
      " 37   fft_real_1_dcoilwtico                 2386098 non-null  float64       \n",
      " 38   fft_real_1_sales_shifted_16           2386098 non-null  float64       \n",
      " 39   fft_real_1_sales_shifted_31           2386098 non-null  float64       \n",
      " 40   fft_real_1_sales_shifted_365          2386098 non-null  float64       \n",
      " 41   fft_real_2_dcoilwtico                 2386098 non-null  float64       \n",
      " 42   fft_real_2_sales_shifted_16           2386098 non-null  float64       \n",
      " 43   fft_real_2_sales_shifted_31           2386098 non-null  float64       \n",
      " 44   fft_real_2_sales_shifted_365          2386098 non-null  float64       \n",
      " 45   fft_real_3_dcoilwtico                 2386098 non-null  float64       \n",
      " 46   fft_real_3_sales_shifted_16           2386098 non-null  float64       \n",
      " 47   fft_real_3_sales_shifted_31           2386098 non-null  float64       \n",
      " 48   fft_real_3_sales_shifted_365          2386098 non-null  float64       \n",
      " 49   month_cos                             2386098 non-null  float64       \n",
      " 50   month_sin                             2386098 non-null  float64       \n",
      " 51   monthly_max_sales                     2386098 non-null  float64       \n",
      " 52   monthly_max_transactions              2386098 non-null  float64       \n",
      " 53   monthly_mean_sales                    2386098 non-null  float64       \n",
      " 54   monthly_mean_transactions             2386098 non-null  float64       \n",
      " 55   monthly_min_sales                     2386098 non-null  float64       \n",
      " 56   monthly_min_transactions              2386098 non-null  float64       \n",
      " 57   monthly_std_sales                     2386098 non-null  float64       \n",
      " 58   monthly_std_transactions              2386098 non-null  float64       \n",
      " 59   onpromotion                           2386098 non-null  float64       \n",
      " 60   ratio_rolling_mean_3_dcoilwtico       2386098 non-null  float64       \n",
      " 61   ratio_rolling_mean_5_dcoilwtico       2386098 non-null  float64       \n",
      " 62   ratio_rolling_mean_7_dcoilwtico       2386098 non-null  float64       \n",
      " 63   ratio_rolling_mean_14_dcoilwtico      2386098 non-null  float64       \n",
      " 64   ratio_rolling_mean_31_dcoilwtico      2386098 non-null  float64       \n",
      " 65   resid_31_dcoilwtico                   2386098 non-null  float64       \n",
      " 66   resid_31_sales_shifted_16             2386098 non-null  float64       \n",
      " 67   resid_31_sales_shifted_31             2386098 non-null  float64       \n",
      " 68   resid_31_sales_shifted_365            2386098 non-null  float64       \n",
      " 69   rolling_mean_3_dcoilwtico             2386098 non-null  float64       \n",
      " 70   rolling_mean_3_sales_shifted_16       2386098 non-null  float64       \n",
      " 71   rolling_mean_3_sales_shifted_31       2386098 non-null  float64       \n",
      " 72   rolling_mean_3_sales_shifted_365      2386098 non-null  float64       \n",
      " 73   rolling_mean_5_dcoilwtico             2386098 non-null  float64       \n",
      " 74   rolling_mean_5_sales_shifted_16       2386098 non-null  float64       \n",
      " 75   rolling_mean_5_sales_shifted_31       2386098 non-null  float64       \n",
      " 76   rolling_mean_5_sales_shifted_365      2386098 non-null  float64       \n",
      " 77   rolling_mean_7_dcoilwtico             2386098 non-null  float64       \n",
      " 78   rolling_mean_7_sales_shifted_16       2386098 non-null  float64       \n",
      " 79   rolling_mean_7_sales_shifted_31       2386098 non-null  float64       \n",
      " 80   rolling_mean_7_sales_shifted_365      2386098 non-null  float64       \n",
      " 81   rolling_mean_14_dcoilwtico            2386098 non-null  float64       \n",
      " 82   rolling_mean_14_sales_shifted_16      2386098 non-null  float64       \n",
      " 83   rolling_mean_14_sales_shifted_31      2386098 non-null  float64       \n",
      " 84   rolling_mean_14_sales_shifted_365     2386098 non-null  float64       \n",
      " 85   rolling_mean_31_dcoilwtico            2386098 non-null  float64       \n",
      " 86   rolling_mean_31_sales_shifted_16      2386098 non-null  float64       \n",
      " 87   rolling_mean_31_sales_shifted_31      2386098 non-null  float64       \n",
      " 88   rolling_mean_31_sales_shifted_365     2386098 non-null  float64       \n",
      " 89   rolling_std_3_dcoilwtico              2386098 non-null  float64       \n",
      " 90   rolling_std_3_sales_shifted_16        2386098 non-null  float64       \n",
      " 91   rolling_std_3_sales_shifted_31        2386098 non-null  float64       \n",
      " 92   rolling_std_3_sales_shifted_365       2386098 non-null  float64       \n",
      " 93   rolling_std_5_dcoilwtico              2386098 non-null  float64       \n",
      " 94   rolling_std_5_sales_shifted_16        2386098 non-null  float64       \n",
      " 95   rolling_std_5_sales_shifted_31        2386098 non-null  float64       \n",
      " 96   rolling_std_5_sales_shifted_365       2386098 non-null  float64       \n",
      " 97   rolling_std_7_dcoilwtico              2386098 non-null  float64       \n",
      " 98   rolling_std_7_sales_shifted_16        2386098 non-null  float64       \n",
      " 99   rolling_std_7_sales_shifted_31        2386098 non-null  float64       \n",
      " 100  rolling_std_7_sales_shifted_365       2386098 non-null  float64       \n",
      " 101  rolling_std_14_dcoilwtico             2386098 non-null  float64       \n",
      " 102  rolling_std_14_sales_shifted_16       2386098 non-null  float64       \n",
      " 103  rolling_std_14_sales_shifted_31       2386098 non-null  float64       \n",
      " 104  rolling_std_14_sales_shifted_365      2386098 non-null  float64       \n",
      " 105  rolling_std_31_dcoilwtico             2386098 non-null  float64       \n",
      " 106  rolling_std_31_sales_shifted_16       2386098 non-null  float64       \n",
      " 107  rolling_std_31_sales_shifted_31       2386098 non-null  float64       \n",
      " 108  rolling_std_31_sales_shifted_365      2386098 non-null  float64       \n",
      " 109  seasonal_31_dcoilwtico                2386098 non-null  float64       \n",
      " 110  seasonal_31_sales_shifted_16          2386098 non-null  float64       \n",
      " 111  seasonal_31_sales_shifted_31          2386098 non-null  float64       \n",
      " 112  seasonal_31_sales_shifted_365         2386098 non-null  float64       \n",
      " 113  store_nbr                             2386098 non-null  int64         \n",
      " 114  trend_31_dcoilwtico                   2386098 non-null  float64       \n",
      " 115  trend_31_sales_shifted_16             2386098 non-null  float64       \n",
      " 116  trend_31_sales_shifted_31             2386098 non-null  float64       \n",
      " 117  trend_31_sales_shifted_365            2386098 non-null  float64       \n",
      " 118  yearly_max_sales                      2386098 non-null  float64       \n",
      " 119  yearly_max_transactions               2386098 non-null  float64       \n",
      " 120  yearly_mean_sales                     2386098 non-null  float64       \n",
      " 121  yearly_mean_transactions              2386098 non-null  float64       \n",
      " 122  yearly_min_sales                      2386098 non-null  float64       \n",
      " 123  yearly_min_transactions               2386098 non-null  float64       \n",
      " 124  yearly_std_sales                      2386098 non-null  float64       \n",
      " 125  yearly_std_transactions               2386098 non-null  float64       \n",
      " 126  1_days_after_holiday                  2386098 non-null  int64         \n",
      " 127  1_days_before_holiday                 2386098 non-null  int64         \n",
      " 128  3_days_after_holiday                  2386098 non-null  int64         \n",
      " 129  3_days_before_holiday                 2386098 non-null  int64         \n",
      " 130  7_days_before_holiday                 2386098 non-null  int64         \n",
      " 131  14_days_before_holiday                2386098 non-null  int64         \n",
      " 132  31_days_before_holiday                2386098 non-null  int64         \n",
      " 133  dayofweek_0                           2386098 non-null  float64       \n",
      " 134  dayofweek_1                           2386098 non-null  float64       \n",
      " 135  dayofweek_2                           2386098 non-null  float64       \n",
      " 136  dayofweek_3                           2386098 non-null  float64       \n",
      " 137  dayofweek_4                           2386098 non-null  float64       \n",
      " 138  dayofweek_5                           2386098 non-null  float64       \n",
      " 139  dayofweek_6                           2386098 non-null  float64       \n",
      " 140  is_fall                               2386098 non-null  int32         \n",
      " 141  is_spring                             2386098 non-null  int32         \n",
      " 142  is_summer                             2386098 non-null  int32         \n",
      " 143  is_weekend                            2386098 non-null  int64         \n",
      " 144  is_winter                             2386098 non-null  int32         \n",
      " 145  month_1                               2386098 non-null  float64       \n",
      " 146  month_2                               2386098 non-null  float64       \n",
      " 147  month_3                               2386098 non-null  float64       \n",
      " 148  month_4                               2386098 non-null  float64       \n",
      " 149  month_5                               2386098 non-null  float64       \n",
      " 150  month_6                               2386098 non-null  float64       \n",
      " 151  month_7                               2386098 non-null  float64       \n",
      " 152  month_8                               2386098 non-null  float64       \n",
      " 153  month_9                               2386098 non-null  float64       \n",
      " 154  month_10                              2386098 non-null  float64       \n",
      " 155  month_11                              2386098 non-null  float64       \n",
      " 156  month_12                              2386098 non-null  float64       \n",
      " 157  year_2013                             2386098 non-null  float64       \n",
      " 158  year_2014                             2386098 non-null  float64       \n",
      " 159  year_2015                             2386098 non-null  float64       \n",
      " 160  year_2016                             2386098 non-null  float64       \n",
      " 161  year_2017                             2386098 non-null  float64       \n",
      " 162  family                                2386098 non-null  object        \n",
      " 163  locale                                2386098 non-null  object        \n",
      " 164  type                                  2386098 non-null  object        \n",
      " 165  sales                                 2386098 non-null  float64       \n",
      "dtypes: datetime64[ns](1), float64(148), int32(5), int64(9), object(3)\n",
      "memory usage: 2.9+ GB\n",
      "None\n"
     ]
    }
   ],
   "source": [
    "# eda object\n",
    "eda = EDA_Preprocessor(df_all, keep_cols=[\"date\"], drop_cols=[], problem=\"regression\", target_col=\"sales\")"
   ]
  },
  {
   "cell_type": "markdown",
   "metadata": {},
   "source": [
    "## Distributions"
   ]
  },
  {
   "cell_type": "code",
   "execution_count": 78,
   "metadata": {},
   "outputs": [
    {
     "data": {
      "image/png": "[encoded data removed]",
      "text/plain": [
       "<Figure size 2000x700 with 2 Axes>"
      ]
     },
     "metadata": {},
     "output_type": "display_data"
    }
   ],
   "source": [
    "# target vs gaussian\n",
    "eda.distribution_vs_gaussian()"
   ]
  },
  {
   "cell_type": "code",
   "execution_count": 79,
   "metadata": {},
   "outputs": [
    {
     "data": {
      "text/plain": [
       "array([1.00000e-01, 1.00000e-01, 1.00000e-01, 1.00000e-01, 1.50000e+01,\n",
       "       2.24507e+02, 2.20500e+03, 5.97000e+03, 1.24717e+05])"
      ]
     },
     "execution_count": 79,
     "metadata": {},
     "output_type": "execute_result"
    }
   ],
   "source": [
    "# replace 0 with 0.1 for log apprach\n",
    "eda.df[\"sales\"] = eda.df[\"sales\"].replace({0: 0.1})\n",
    "np.nanpercentile(eda.df.sales, [0, 1, 5, 25, 50, 75, 95, 99, 100])"
   ]
  },
  {
   "cell_type": "code",
   "execution_count": 80,
   "metadata": {},
   "outputs": [
    {
     "data": {
      "image/png": "[encoded data removed]",
      "text/plain": [
       "<Figure size 2000x700 with 2 Axes>"
      ]
     },
     "metadata": {},
     "output_type": "display_data"
    }
   ],
   "source": [
    "# log transformation on target\n",
    "eda.target_log_transform()\n",
    "\n",
    "# plot distribution again\n",
    "eda.distribution_vs_gaussian()"
   ]
  },
  {
   "cell_type": "markdown",
   "metadata": {},
   "source": [
    "## Categorical Encoding"
   ]
  },
  {
   "cell_type": "code",
   "execution_count": 81,
   "metadata": {},
   "outputs": [
    {
     "data": {
      "text/plain": [
       "['family', 'locale', 'type']"
      ]
     },
     "execution_count": 81,
     "metadata": {},
     "output_type": "execute_result"
    }
   ],
   "source": [
    "# categorical encoding\n",
    "eda.categorical_cols"
   ]
  },
  {
   "cell_type": "code",
   "execution_count": 82,
   "metadata": {},
   "outputs": [
    {
     "name": "stdout",
     "output_type": "stream",
     "text": [
      "All categorical ones are now under the process of target encoding: 3\n",
      "family is target encoded now!\n",
      "locale is target encoded now!\n",
      "type is target encoded now!\n"
     ]
    },
    {
     "data": {
      "text/html": [
       "<div>\n",
       "<style scoped>\n",
       "    .dataframe tbody tr th:only-of-type {\n",
       "        vertical-align: middle;\n",
       "    }\n",
       "\n",
       "    .dataframe tbody tr th {\n",
       "        vertical-align: top;\n",
       "    }\n",
       "\n",
       "    .dataframe thead th {\n",
       "        text-align: right;\n",
       "    }\n",
       "</style>\n",
       "<table border=\"1\" class=\"dataframe\">\n",
       "  <thead>\n",
       "    <tr style=\"text-align: right;\">\n",
       "      <th></th>\n",
       "      <th>date</th>\n",
       "      <th>dayofyear</th>\n",
       "      <th>dcoilwtico</th>\n",
       "      <th>diff_rolling_mean_3_sales_16_vs_31</th>\n",
       "      <th>diff_rolling_mean_3_sales_31_vs_365</th>\n",
       "      <th>diff_rolling_mean_5_sales_16_vs_31</th>\n",
       "      <th>diff_rolling_mean_5_sales_31_vs_365</th>\n",
       "      <th>diff_rolling_mean_7_sales_16_vs_31</th>\n",
       "      <th>diff_rolling_mean_7_sales_31_vs_365</th>\n",
       "      <th>diff_rolling_mean_14_sales_16_vs_31</th>\n",
       "      <th>diff_rolling_mean_14_sales_31_vs_365</th>\n",
       "      <th>diff_rolling_mean_31_sales_16_vs_31</th>\n",
       "      <th>diff_rolling_mean_31_sales_31_vs_365</th>\n",
       "      <th>ewm_alpha_03_dcoilwtico</th>\n",
       "      <th>ewm_alpha_03_sales_shifted_16</th>\n",
       "      <th>ewm_alpha_03_sales_shifted_31</th>\n",
       "      <th>ewm_alpha_03_sales_shifted_365</th>\n",
       "      <th>ewm_alpha_05_dcoilwtico</th>\n",
       "      <th>ewm_alpha_05_sales_shifted_16</th>\n",
       "      <th>ewm_alpha_05_sales_shifted_31</th>\n",
       "      <th>ewm_alpha_05_sales_shifted_365</th>\n",
       "      <th>ewm_alpha_08_dcoilwtico</th>\n",
       "      <th>ewm_alpha_08_sales_shifted_16</th>\n",
       "      <th>ewm_alpha_08_sales_shifted_31</th>\n",
       "      <th>ewm_alpha_08_sales_shifted_365</th>\n",
       "      <th>fft_imag_1_dcoilwtico</th>\n",
       "      <th>fft_imag_1_sales_shifted_16</th>\n",
       "      <th>fft_imag_1_sales_shifted_31</th>\n",
       "      <th>fft_imag_1_sales_shifted_365</th>\n",
       "      <th>fft_imag_2_dcoilwtico</th>\n",
       "      <th>fft_imag_2_sales_shifted_16</th>\n",
       "      <th>fft_imag_2_sales_shifted_31</th>\n",
       "      <th>fft_imag_2_sales_shifted_365</th>\n",
       "      <th>fft_imag_3_dcoilwtico</th>\n",
       "      <th>fft_imag_3_sales_shifted_16</th>\n",
       "      <th>fft_imag_3_sales_shifted_31</th>\n",
       "      <th>fft_imag_3_sales_shifted_365</th>\n",
       "      <th>fft_real_1_dcoilwtico</th>\n",
       "      <th>fft_real_1_sales_shifted_16</th>\n",
       "      <th>fft_real_1_sales_shifted_31</th>\n",
       "      <th>fft_real_1_sales_shifted_365</th>\n",
       "      <th>fft_real_2_dcoilwtico</th>\n",
       "      <th>fft_real_2_sales_shifted_16</th>\n",
       "      <th>fft_real_2_sales_shifted_31</th>\n",
       "      <th>fft_real_2_sales_shifted_365</th>\n",
       "      <th>fft_real_3_dcoilwtico</th>\n",
       "      <th>fft_real_3_sales_shifted_16</th>\n",
       "      <th>fft_real_3_sales_shifted_31</th>\n",
       "      <th>fft_real_3_sales_shifted_365</th>\n",
       "      <th>month_cos</th>\n",
       "      <th>month_sin</th>\n",
       "      <th>monthly_max_sales</th>\n",
       "      <th>monthly_max_transactions</th>\n",
       "      <th>monthly_mean_sales</th>\n",
       "      <th>monthly_mean_transactions</th>\n",
       "      <th>monthly_min_sales</th>\n",
       "      <th>monthly_min_transactions</th>\n",
       "      <th>monthly_std_sales</th>\n",
       "      <th>monthly_std_transactions</th>\n",
       "      <th>onpromotion</th>\n",
       "      <th>ratio_rolling_mean_3_dcoilwtico</th>\n",
       "      <th>ratio_rolling_mean_5_dcoilwtico</th>\n",
       "      <th>ratio_rolling_mean_7_dcoilwtico</th>\n",
       "      <th>ratio_rolling_mean_14_dcoilwtico</th>\n",
       "      <th>ratio_rolling_mean_31_dcoilwtico</th>\n",
       "      <th>resid_31_dcoilwtico</th>\n",
       "      <th>resid_31_sales_shifted_16</th>\n",
       "      <th>resid_31_sales_shifted_31</th>\n",
       "      <th>resid_31_sales_shifted_365</th>\n",
       "      <th>rolling_mean_3_dcoilwtico</th>\n",
       "      <th>rolling_mean_3_sales_shifted_16</th>\n",
       "      <th>rolling_mean_3_sales_shifted_31</th>\n",
       "      <th>rolling_mean_3_sales_shifted_365</th>\n",
       "      <th>rolling_mean_5_dcoilwtico</th>\n",
       "      <th>rolling_mean_5_sales_shifted_16</th>\n",
       "      <th>rolling_mean_5_sales_shifted_31</th>\n",
       "      <th>rolling_mean_5_sales_shifted_365</th>\n",
       "      <th>rolling_mean_7_dcoilwtico</th>\n",
       "      <th>rolling_mean_7_sales_shifted_16</th>\n",
       "      <th>rolling_mean_7_sales_shifted_31</th>\n",
       "      <th>rolling_mean_7_sales_shifted_365</th>\n",
       "      <th>rolling_mean_14_dcoilwtico</th>\n",
       "      <th>rolling_mean_14_sales_shifted_16</th>\n",
       "      <th>rolling_mean_14_sales_shifted_31</th>\n",
       "      <th>rolling_mean_14_sales_shifted_365</th>\n",
       "      <th>rolling_mean_31_dcoilwtico</th>\n",
       "      <th>rolling_mean_31_sales_shifted_16</th>\n",
       "      <th>rolling_mean_31_sales_shifted_31</th>\n",
       "      <th>rolling_mean_31_sales_shifted_365</th>\n",
       "      <th>rolling_std_3_dcoilwtico</th>\n",
       "      <th>rolling_std_3_sales_shifted_16</th>\n",
       "      <th>rolling_std_3_sales_shifted_31</th>\n",
       "      <th>rolling_std_3_sales_shifted_365</th>\n",
       "      <th>rolling_std_5_dcoilwtico</th>\n",
       "      <th>rolling_std_5_sales_shifted_16</th>\n",
       "      <th>rolling_std_5_sales_shifted_31</th>\n",
       "      <th>rolling_std_5_sales_shifted_365</th>\n",
       "      <th>rolling_std_7_dcoilwtico</th>\n",
       "      <th>rolling_std_7_sales_shifted_16</th>\n",
       "      <th>rolling_std_7_sales_shifted_31</th>\n",
       "      <th>rolling_std_7_sales_shifted_365</th>\n",
       "      <th>rolling_std_14_dcoilwtico</th>\n",
       "      <th>rolling_std_14_sales_shifted_16</th>\n",
       "      <th>rolling_std_14_sales_shifted_31</th>\n",
       "      <th>rolling_std_14_sales_shifted_365</th>\n",
       "      <th>rolling_std_31_dcoilwtico</th>\n",
       "      <th>rolling_std_31_sales_shifted_16</th>\n",
       "      <th>rolling_std_31_sales_shifted_31</th>\n",
       "      <th>rolling_std_31_sales_shifted_365</th>\n",
       "      <th>seasonal_31_dcoilwtico</th>\n",
       "      <th>seasonal_31_sales_shifted_16</th>\n",
       "      <th>seasonal_31_sales_shifted_31</th>\n",
       "      <th>seasonal_31_sales_shifted_365</th>\n",
       "      <th>store_nbr</th>\n",
       "      <th>trend_31_dcoilwtico</th>\n",
       "      <th>trend_31_sales_shifted_16</th>\n",
       "      <th>trend_31_sales_shifted_31</th>\n",
       "      <th>trend_31_sales_shifted_365</th>\n",
       "      <th>yearly_max_sales</th>\n",
       "      <th>yearly_max_transactions</th>\n",
       "      <th>yearly_mean_sales</th>\n",
       "      <th>yearly_mean_transactions</th>\n",
       "      <th>yearly_min_sales</th>\n",
       "      <th>yearly_min_transactions</th>\n",
       "      <th>yearly_std_sales</th>\n",
       "      <th>yearly_std_transactions</th>\n",
       "      <th>1_days_after_holiday</th>\n",
       "      <th>1_days_before_holiday</th>\n",
       "      <th>3_days_after_holiday</th>\n",
       "      <th>3_days_before_holiday</th>\n",
       "      <th>7_days_before_holiday</th>\n",
       "      <th>14_days_before_holiday</th>\n",
       "      <th>31_days_before_holiday</th>\n",
       "      <th>dayofweek_0</th>\n",
       "      <th>dayofweek_1</th>\n",
       "      <th>dayofweek_2</th>\n",
       "      <th>dayofweek_3</th>\n",
       "      <th>dayofweek_4</th>\n",
       "      <th>dayofweek_5</th>\n",
       "      <th>dayofweek_6</th>\n",
       "      <th>is_fall</th>\n",
       "      <th>is_spring</th>\n",
       "      <th>is_summer</th>\n",
       "      <th>is_weekend</th>\n",
       "      <th>is_winter</th>\n",
       "      <th>month_1</th>\n",
       "      <th>month_2</th>\n",
       "      <th>month_3</th>\n",
       "      <th>month_4</th>\n",
       "      <th>month_5</th>\n",
       "      <th>month_6</th>\n",
       "      <th>month_7</th>\n",
       "      <th>month_8</th>\n",
       "      <th>month_9</th>\n",
       "      <th>month_10</th>\n",
       "      <th>month_11</th>\n",
       "      <th>month_12</th>\n",
       "      <th>year_2013</th>\n",
       "      <th>year_2014</th>\n",
       "      <th>year_2015</th>\n",
       "      <th>year_2016</th>\n",
       "      <th>year_2017</th>\n",
       "      <th>family</th>\n",
       "      <th>locale</th>\n",
       "      <th>type</th>\n",
       "      <th>sales</th>\n",
       "      <th>sales_log</th>\n",
       "      <th>family_encoded</th>\n",
       "      <th>locale_encoded</th>\n",
       "      <th>type_encoded</th>\n",
       "    </tr>\n",
       "  </thead>\n",
       "  <tbody>\n",
       "    <tr>\n",
       "      <th>0</th>\n",
       "      <td>2014-01-01</td>\n",
       "      <td>1</td>\n",
       "      <td>98.17</td>\n",
       "      <td>2.664535e-15</td>\n",
       "      <td>-1.598721e-14</td>\n",
       "      <td>0.46718</td>\n",
       "      <td>-0.51275</td>\n",
       "      <td>0.757095</td>\n",
       "      <td>-0.638917</td>\n",
       "      <td>-0.336028</td>\n",
       "      <td>0.137349</td>\n",
       "      <td>-0.153022</td>\n",
       "      <td>0.114177</td>\n",
       "      <td>98.757321</td>\n",
       "      <td>1.194899</td>\n",
       "      <td>0.678629</td>\n",
       "      <td>0.0</td>\n",
       "      <td>98.468036</td>\n",
       "      <td>0.850931</td>\n",
       "      <td>0.298458</td>\n",
       "      <td>0.0</td>\n",
       "      <td>98.207467</td>\n",
       "      <td>0.822969</td>\n",
       "      <td>0.041528</td>\n",
       "      <td>0.0</td>\n",
       "      <td>-27063.383864</td>\n",
       "      <td>861.549983</td>\n",
       "      <td>866.95867</td>\n",
       "      <td>1128.169951</td>\n",
       "      <td>-2440.506954</td>\n",
       "      <td>161.723922</td>\n",
       "      <td>189.308892</td>\n",
       "      <td>980.685047</td>\n",
       "      <td>-2509.532773</td>\n",
       "      <td>10.011959</td>\n",
       "      <td>-19.854426</td>\n",
       "      <td>707.405635</td>\n",
       "      <td>8082.393262</td>\n",
       "      <td>-91.794948</td>\n",
       "      <td>-115.000493</td>\n",
       "      <td>-212.809663</td>\n",
       "      <td>-5384.231197</td>\n",
       "      <td>-228.926966</td>\n",
       "      <td>-280.569317</td>\n",
       "      <td>46.828753</td>\n",
       "      <td>662.249546</td>\n",
       "      <td>209.942802</td>\n",
       "      <td>137.949243</td>\n",
       "      <td>124.185539</td>\n",
       "      <td>0.866025</td>\n",
       "      <td>0.5</td>\n",
       "      <td>17.0</td>\n",
       "      <td>2111.0</td>\n",
       "      <td>3.141935</td>\n",
       "      <td>1478.729032</td>\n",
       "      <td>0.0</td>\n",
       "      <td>0.0</td>\n",
       "      <td>2.636996</td>\n",
       "      <td>571.618065</td>\n",
       "      <td>0.0</td>\n",
       "      <td>0.997527</td>\n",
       "      <td>0.991376</td>\n",
       "      <td>0.989845</td>\n",
       "      <td>0.99138</td>\n",
       "      <td>1.003462</td>\n",
       "      <td>2.539656</td>\n",
       "      <td>-0.492851</td>\n",
       "      <td>-1.904054</td>\n",
       "      <td>-1.127857</td>\n",
       "      <td>98.413333</td>\n",
       "      <td>0.333333</td>\n",
       "      <td>0.333333</td>\n",
       "      <td>1.666667</td>\n",
       "      <td>99.024</td>\n",
       "      <td>1.2</td>\n",
       "      <td>0.8</td>\n",
       "      <td>2.6</td>\n",
       "      <td>99.177143</td>\n",
       "      <td>1.857143</td>\n",
       "      <td>1.0</td>\n",
       "      <td>2.142857</td>\n",
       "      <td>99.023571</td>\n",
       "      <td>1.642857</td>\n",
       "      <td>1.785714</td>\n",
       "      <td>2.142857</td>\n",
       "      <td>97.83129</td>\n",
       "      <td>1.677419</td>\n",
       "      <td>2.032258</td>\n",
       "      <td>2.193548</td>\n",
       "      <td>0.421466</td>\n",
       "      <td>0.57735</td>\n",
       "      <td>0.57735</td>\n",
       "      <td>1.527525</td>\n",
       "      <td>0.887711</td>\n",
       "      <td>1.30384</td>\n",
       "      <td>0.83666</td>\n",
       "      <td>1.81659</td>\n",
       "      <td>0.801181</td>\n",
       "      <td>1.573592</td>\n",
       "      <td>0.816497</td>\n",
       "      <td>1.772811</td>\n",
       "      <td>0.597284</td>\n",
       "      <td>1.336306</td>\n",
       "      <td>1.672335</td>\n",
       "      <td>1.231456</td>\n",
       "      <td>1.389894</td>\n",
       "      <td>1.469401</td>\n",
       "      <td>1.622424</td>\n",
       "      <td>1.600403</td>\n",
       "      <td>-0.331269</td>\n",
       "      <td>-0.345859</td>\n",
       "      <td>0.226635</td>\n",
       "      <td>0.095599</td>\n",
       "      <td>1</td>\n",
       "      <td>95.961613</td>\n",
       "      <td>1.83871</td>\n",
       "      <td>1.677419</td>\n",
       "      <td>1.032258</td>\n",
       "      <td>18.0</td>\n",
       "      <td>2861.0</td>\n",
       "      <td>2.791781</td>\n",
       "      <td>1529.654795</td>\n",
       "      <td>0.0</td>\n",
       "      <td>0.0</td>\n",
       "      <td>2.608195</td>\n",
       "      <td>517.977954</td>\n",
       "      <td>1</td>\n",
       "      <td>0</td>\n",
       "      <td>0</td>\n",
       "      <td>0</td>\n",
       "      <td>0</td>\n",
       "      <td>0</td>\n",
       "      <td>0</td>\n",
       "      <td>0.0</td>\n",
       "      <td>0.0</td>\n",
       "      <td>1.0</td>\n",
       "      <td>0.0</td>\n",
       "      <td>0.0</td>\n",
       "      <td>0.0</td>\n",
       "      <td>0.0</td>\n",
       "      <td>0</td>\n",
       "      <td>0</td>\n",
       "      <td>0</td>\n",
       "      <td>0</td>\n",
       "      <td>1</td>\n",
       "      <td>1.0</td>\n",
       "      <td>0.0</td>\n",
       "      <td>0.0</td>\n",
       "      <td>0.0</td>\n",
       "      <td>0.0</td>\n",
       "      <td>0.0</td>\n",
       "      <td>0.0</td>\n",
       "      <td>0.0</td>\n",
       "      <td>0.0</td>\n",
       "      <td>0.0</td>\n",
       "      <td>0.0</td>\n",
       "      <td>0.0</td>\n",
       "      <td>0.0</td>\n",
       "      <td>1.0</td>\n",
       "      <td>0.0</td>\n",
       "      <td>0.0</td>\n",
       "      <td>0.0</td>\n",
       "      <td>AUTOMOTIVE</td>\n",
       "      <td>National</td>\n",
       "      <td>Holiday</td>\n",
       "      <td>0.1</td>\n",
       "      <td>-2.302585</td>\n",
       "      <td>1.241201</td>\n",
       "      <td>2.373441</td>\n",
       "      <td>2.224266</td>\n",
       "    </tr>\n",
       "  </tbody>\n",
       "</table>\n",
       "</div>"
      ],
      "text/plain": [
       "        date  dayofyear  dcoilwtico  diff_rolling_mean_3_sales_16_vs_31  diff_rolling_mean_3_sales_31_vs_365  diff_rolling_mean_5_sales_16_vs_31  diff_rolling_mean_5_sales_31_vs_365  \\\n",
       "0 2014-01-01          1       98.17                        2.664535e-15                        -1.598721e-14                             0.46718                             -0.51275   \n",
       "\n",
       "   diff_rolling_mean_7_sales_16_vs_31  diff_rolling_mean_7_sales_31_vs_365  diff_rolling_mean_14_sales_16_vs_31  diff_rolling_mean_14_sales_31_vs_365  diff_rolling_mean_31_sales_16_vs_31  \\\n",
       "0                            0.757095                            -0.638917                            -0.336028                              0.137349                            -0.153022   \n",
       "\n",
       "   diff_rolling_mean_31_sales_31_vs_365  ewm_alpha_03_dcoilwtico  ewm_alpha_03_sales_shifted_16  ewm_alpha_03_sales_shifted_31  ewm_alpha_03_sales_shifted_365  ewm_alpha_05_dcoilwtico  \\\n",
       "0                              0.114177                98.757321                       1.194899                       0.678629                             0.0                98.468036   \n",
       "\n",
       "   ewm_alpha_05_sales_shifted_16  ewm_alpha_05_sales_shifted_31  ewm_alpha_05_sales_shifted_365  ewm_alpha_08_dcoilwtico  ewm_alpha_08_sales_shifted_16  ewm_alpha_08_sales_shifted_31  \\\n",
       "0                       0.850931                       0.298458                             0.0                98.207467                       0.822969                       0.041528   \n",
       "\n",
       "   ewm_alpha_08_sales_shifted_365  fft_imag_1_dcoilwtico  fft_imag_1_sales_shifted_16  fft_imag_1_sales_shifted_31  fft_imag_1_sales_shifted_365  fft_imag_2_dcoilwtico  fft_imag_2_sales_shifted_16  \\\n",
       "0                             0.0          -27063.383864                   861.549983                    866.95867                   1128.169951           -2440.506954                   161.723922   \n",
       "\n",
       "   fft_imag_2_sales_shifted_31  fft_imag_2_sales_shifted_365  fft_imag_3_dcoilwtico  fft_imag_3_sales_shifted_16  fft_imag_3_sales_shifted_31  fft_imag_3_sales_shifted_365  fft_real_1_dcoilwtico  \\\n",
       "0                   189.308892                    980.685047           -2509.532773                    10.011959                   -19.854426                    707.405635            8082.393262   \n",
       "\n",
       "   fft_real_1_sales_shifted_16  fft_real_1_sales_shifted_31  fft_real_1_sales_shifted_365  fft_real_2_dcoilwtico  fft_real_2_sales_shifted_16  fft_real_2_sales_shifted_31  \\\n",
       "0                   -91.794948                  -115.000493                   -212.809663           -5384.231197                  -228.926966                  -280.569317   \n",
       "\n",
       "   fft_real_2_sales_shifted_365  fft_real_3_dcoilwtico  fft_real_3_sales_shifted_16  fft_real_3_sales_shifted_31  fft_real_3_sales_shifted_365  month_cos  month_sin  monthly_max_sales  \\\n",
       "0                     46.828753             662.249546                   209.942802                   137.949243                    124.185539   0.866025        0.5               17.0   \n",
       "\n",
       "   monthly_max_transactions  monthly_mean_sales  monthly_mean_transactions  monthly_min_sales  monthly_min_transactions  monthly_std_sales  monthly_std_transactions  onpromotion  \\\n",
       "0                    2111.0            3.141935                1478.729032                0.0                       0.0           2.636996                571.618065          0.0   \n",
       "\n",
       "   ratio_rolling_mean_3_dcoilwtico  ratio_rolling_mean_5_dcoilwtico  ratio_rolling_mean_7_dcoilwtico  ratio_rolling_mean_14_dcoilwtico  ratio_rolling_mean_31_dcoilwtico  resid_31_dcoilwtico  \\\n",
       "0                         0.997527                         0.991376                         0.989845                           0.99138                          1.003462             2.539656   \n",
       "\n",
       "   resid_31_sales_shifted_16  resid_31_sales_shifted_31  resid_31_sales_shifted_365  rolling_mean_3_dcoilwtico  rolling_mean_3_sales_shifted_16  rolling_mean_3_sales_shifted_31  \\\n",
       "0                  -0.492851                  -1.904054                   -1.127857                  98.413333                         0.333333                         0.333333   \n",
       "\n",
       "   rolling_mean_3_sales_shifted_365  rolling_mean_5_dcoilwtico  rolling_mean_5_sales_shifted_16  rolling_mean_5_sales_shifted_31  rolling_mean_5_sales_shifted_365  rolling_mean_7_dcoilwtico  \\\n",
       "0                          1.666667                     99.024                              1.2                              0.8                               2.6                  99.177143   \n",
       "\n",
       "   rolling_mean_7_sales_shifted_16  rolling_mean_7_sales_shifted_31  rolling_mean_7_sales_shifted_365  rolling_mean_14_dcoilwtico  rolling_mean_14_sales_shifted_16  rolling_mean_14_sales_shifted_31  \\\n",
       "0                         1.857143                              1.0                          2.142857                   99.023571                          1.642857                          1.785714   \n",
       "\n",
       "   rolling_mean_14_sales_shifted_365  rolling_mean_31_dcoilwtico  rolling_mean_31_sales_shifted_16  rolling_mean_31_sales_shifted_31  rolling_mean_31_sales_shifted_365  rolling_std_3_dcoilwtico  \\\n",
       "0                           2.142857                    97.83129                          1.677419                          2.032258                           2.193548                  0.421466   \n",
       "\n",
       "   rolling_std_3_sales_shifted_16  rolling_std_3_sales_shifted_31  rolling_std_3_sales_shifted_365  rolling_std_5_dcoilwtico  rolling_std_5_sales_shifted_16  rolling_std_5_sales_shifted_31  \\\n",
       "0                         0.57735                         0.57735                         1.527525                  0.887711                         1.30384                         0.83666   \n",
       "\n",
       "   rolling_std_5_sales_shifted_365  rolling_std_7_dcoilwtico  rolling_std_7_sales_shifted_16  rolling_std_7_sales_shifted_31  rolling_std_7_sales_shifted_365  rolling_std_14_dcoilwtico  \\\n",
       "0                          1.81659                  0.801181                        1.573592                        0.816497                         1.772811                   0.597284   \n",
       "\n",
       "   rolling_std_14_sales_shifted_16  rolling_std_14_sales_shifted_31  rolling_std_14_sales_shifted_365  rolling_std_31_dcoilwtico  rolling_std_31_sales_shifted_16  rolling_std_31_sales_shifted_31  \\\n",
       "0                         1.336306                         1.672335                          1.231456                   1.389894                         1.469401                         1.622424   \n",
       "\n",
       "   rolling_std_31_sales_shifted_365  seasonal_31_dcoilwtico  seasonal_31_sales_shifted_16  seasonal_31_sales_shifted_31  seasonal_31_sales_shifted_365  store_nbr  trend_31_dcoilwtico  \\\n",
       "0                          1.600403               -0.331269                     -0.345859                      0.226635                       0.095599          1            95.961613   \n",
       "\n",
       "   trend_31_sales_shifted_16  trend_31_sales_shifted_31  trend_31_sales_shifted_365  yearly_max_sales  yearly_max_transactions  yearly_mean_sales  yearly_mean_transactions  yearly_min_sales  \\\n",
       "0                    1.83871                   1.677419                    1.032258              18.0                   2861.0           2.791781               1529.654795               0.0   \n",
       "\n",
       "   yearly_min_transactions  yearly_std_sales  yearly_std_transactions  1_days_after_holiday  1_days_before_holiday  3_days_after_holiday  3_days_before_holiday  7_days_before_holiday  \\\n",
       "0                      0.0          2.608195               517.977954                     1                      0                     0                      0                      0   \n",
       "\n",
       "   14_days_before_holiday  31_days_before_holiday  dayofweek_0  dayofweek_1  dayofweek_2  dayofweek_3  dayofweek_4  dayofweek_5  dayofweek_6  is_fall  is_spring  is_summer  is_weekend  is_winter  \\\n",
       "0                       0                       0          0.0          0.0          1.0          0.0          0.0          0.0          0.0        0          0          0           0          1   \n",
       "\n",
       "   month_1  month_2  month_3  month_4  month_5  month_6  month_7  month_8  month_9  month_10  month_11  month_12  year_2013  year_2014  year_2015  year_2016  year_2017      family    locale  \\\n",
       "0      1.0      0.0      0.0      0.0      0.0      0.0      0.0      0.0      0.0       0.0       0.0       0.0        0.0        1.0        0.0        0.0        0.0  AUTOMOTIVE  National   \n",
       "\n",
       "      type  sales  sales_log  family_encoded  locale_encoded  type_encoded  \n",
       "0  Holiday    0.1  -2.302585        1.241201        2.373441      2.224266  "
      ]
     },
     "execution_count": 82,
     "metadata": {},
     "output_type": "execute_result"
    }
   ],
   "source": [
    "# target encode\n",
    "encoder = eda.target_encoding(0, \"encoded\")\n",
    "\n",
    "# save target encoder\n",
    "with open('./model/target_encoder.pkl', 'wb') as f:\n",
    "    pickle.dump(encoder, f)\n",
    "\n",
    "eda.df.head(1)"
   ]
  },
  {
   "cell_type": "markdown",
   "metadata": {},
   "source": [
    "## Correlation Check"
   ]
  },
  {
   "cell_type": "code",
   "execution_count": 83,
   "metadata": {},
   "outputs": [
    {
     "name": "stdout",
     "output_type": "stream",
     "text": [
      "Highly correlated columns are: ['ewm_alpha_03_dcoilwtico', 'ewm_alpha_05_dcoilwtico', 'ewm_alpha_05_sales_shifted_16', 'ewm_alpha_05_sales_shifted_31', 'ewm_alpha_05_sales_shifted_365', 'ewm_alpha_08_dcoilwtico', 'fft_imag_1_sales_shifted_31', 'fft_imag_2_sales_shifted_31', 'fft_imag_3_sales_shifted_31', 'fft_real_3_sales_shifted_31', 'rolling_mean_3_dcoilwtico', 'rolling_mean_5_dcoilwtico', 'rolling_mean_5_sales_shifted_16', 'rolling_mean_5_sales_shifted_31', 'rolling_mean_5_sales_shifted_365', 'rolling_mean_7_dcoilwtico', 'rolling_mean_14_dcoilwtico', 'rolling_mean_31_dcoilwtico', 'trend_31_dcoilwtico', 'trend_31_sales_shifted_31']\n"
     ]
    },
    {
     "data": {
      "text/plain": [
       "(['ewm_alpha_03_dcoilwtico',\n",
       "  'ewm_alpha_05_dcoilwtico',\n",
       "  'ewm_alpha_05_sales_shifted_16',\n",
       "  'ewm_alpha_05_sales_shifted_31',\n",
       "  'ewm_alpha_05_sales_shifted_365',\n",
       "  'ewm_alpha_08_dcoilwtico',\n",
       "  'fft_imag_1_sales_shifted_31',\n",
       "  'fft_imag_2_sales_shifted_31',\n",
       "  'fft_imag_3_sales_shifted_31',\n",
       "  'fft_real_3_sales_shifted_31',\n",
       "  'rolling_mean_3_dcoilwtico',\n",
       "  'rolling_mean_5_dcoilwtico',\n",
       "  'rolling_mean_5_sales_shifted_16',\n",
       "  'rolling_mean_5_sales_shifted_31',\n",
       "  'rolling_mean_5_sales_shifted_365',\n",
       "  'rolling_mean_7_dcoilwtico',\n",
       "  'rolling_mean_14_dcoilwtico',\n",
       "  'rolling_mean_31_dcoilwtico',\n",
       "  'trend_31_dcoilwtico',\n",
       "  'trend_31_sales_shifted_31'],\n",
       " 20)"
      ]
     },
     "execution_count": 83,
     "metadata": {},
     "output_type": "execute_result"
    }
   ],
   "source": [
    "# correlation among the features\n",
    "highly_corr = eda.resolve_correlation(0.99, False)\n",
    "highly_corr, len(highly_corr)"
   ]
  },
  {
   "cell_type": "code",
   "execution_count": 84,
   "metadata": {},
   "outputs": [
    {
     "name": "stdout",
     "output_type": "stream",
     "text": [
      "Data shape: (2386098, 150)\n",
      " \tKeeping columns: 1\n",
      " \tNumeric features: 105\n",
      " \tCategorical features: 3\n",
      " \tBinary features: 36\n"
     ]
    }
   ],
   "source": [
    "# drop features\n",
    "eda.drop_cols(highly_corr)"
   ]
  },
  {
   "cell_type": "code",
   "execution_count": 85,
   "metadata": {},
   "outputs": [
    {
     "data": {
      "text/plain": [
       "[('trend_31_sales_shifted_16', 0.512),\n",
       " ('rolling_mean_31_sales_shifted_16', 0.506),\n",
       " ('rolling_mean_14_sales_shifted_16', 0.505),\n",
       " ('yearly_mean_sales', 0.505),\n",
       " ('rolling_mean_7_sales_shifted_16', 0.504),\n",
       " ('rolling_mean_31_sales_shifted_31', 0.503),\n",
       " ('ewm_alpha_03_sales_shifted_16', 0.502),\n",
       " ('rolling_mean_14_sales_shifted_31', 0.501),\n",
       " ('rolling_mean_7_sales_shifted_31', 0.498),\n",
       " ('ewm_alpha_03_sales_shifted_31', 0.496)]"
      ]
     },
     "execution_count": 85,
     "metadata": {},
     "output_type": "execute_result"
    }
   ],
   "source": [
    "# top 10 pearson correlations wrt. target\n",
    "correlation_list = {}\n",
    "for i in eda.numeric_cols + eda.binary_cols:\n",
    "    correlation_list[i] = round(eda.df[eda.target].corr(eda.df[i]), 3)\n",
    "correlation_list = dict(sorted(correlation_list.items(), key=lambda item: item[1], reverse=True))\n",
    "list(correlation_list.items())[:10]"
   ]
  },
  {
   "cell_type": "code",
   "execution_count": 86,
   "metadata": {},
   "outputs": [
    {
     "name": "stdout",
     "output_type": "stream",
     "text": [
      "<class 'pandas.core.frame.DataFrame'>\n",
      "RangeIndex: 2386098 entries, 0 to 2386097\n",
      "Data columns (total 150 columns):\n",
      " #    Column                                Non-Null Count    Dtype         \n",
      "---   ------                                --------------    -----         \n",
      " 0    date                                  2386098 non-null  datetime64[ns]\n",
      " 1    dayofyear                             2386098 non-null  int32         \n",
      " 2    dcoilwtico                            2386098 non-null  float64       \n",
      " 3    diff_rolling_mean_3_sales_16_vs_31    2386098 non-null  float64       \n",
      " 4    diff_rolling_mean_3_sales_31_vs_365   2386098 non-null  float64       \n",
      " 5    diff_rolling_mean_5_sales_16_vs_31    2386098 non-null  float64       \n",
      " 6    diff_rolling_mean_5_sales_31_vs_365   2386098 non-null  float64       \n",
      " 7    diff_rolling_mean_7_sales_16_vs_31    2386098 non-null  float64       \n",
      " 8    diff_rolling_mean_7_sales_31_vs_365   2386098 non-null  float64       \n",
      " 9    diff_rolling_mean_14_sales_16_vs_31   2386098 non-null  float64       \n",
      " 10   diff_rolling_mean_14_sales_31_vs_365  2386098 non-null  float64       \n",
      " 11   diff_rolling_mean_31_sales_16_vs_31   2386098 non-null  float64       \n",
      " 12   diff_rolling_mean_31_sales_31_vs_365  2386098 non-null  float64       \n",
      " 13   ewm_alpha_03_sales_shifted_16         2386098 non-null  float64       \n",
      " 14   ewm_alpha_03_sales_shifted_31         2386098 non-null  float64       \n",
      " 15   ewm_alpha_03_sales_shifted_365        2386098 non-null  float64       \n",
      " 16   ewm_alpha_08_sales_shifted_16         2386098 non-null  float64       \n",
      " 17   ewm_alpha_08_sales_shifted_31         2386098 non-null  float64       \n",
      " 18   ewm_alpha_08_sales_shifted_365        2386098 non-null  float64       \n",
      " 19   fft_imag_1_dcoilwtico                 2386098 non-null  float64       \n",
      " 20   fft_imag_1_sales_shifted_16           2386098 non-null  float64       \n",
      " 21   fft_imag_1_sales_shifted_365          2386098 non-null  float64       \n",
      " 22   fft_imag_2_dcoilwtico                 2386098 non-null  float64       \n",
      " 23   fft_imag_2_sales_shifted_16           2386098 non-null  float64       \n",
      " 24   fft_imag_2_sales_shifted_365          2386098 non-null  float64       \n",
      " 25   fft_imag_3_dcoilwtico                 2386098 non-null  float64       \n",
      " 26   fft_imag_3_sales_shifted_16           2386098 non-null  float64       \n",
      " 27   fft_imag_3_sales_shifted_365          2386098 non-null  float64       \n",
      " 28   fft_real_1_dcoilwtico                 2386098 non-null  float64       \n",
      " 29   fft_real_1_sales_shifted_16           2386098 non-null  float64       \n",
      " 30   fft_real_1_sales_shifted_31           2386098 non-null  float64       \n",
      " 31   fft_real_1_sales_shifted_365          2386098 non-null  float64       \n",
      " 32   fft_real_2_dcoilwtico                 2386098 non-null  float64       \n",
      " 33   fft_real_2_sales_shifted_16           2386098 non-null  float64       \n",
      " 34   fft_real_2_sales_shifted_31           2386098 non-null  float64       \n",
      " 35   fft_real_2_sales_shifted_365          2386098 non-null  float64       \n",
      " 36   fft_real_3_dcoilwtico                 2386098 non-null  float64       \n",
      " 37   fft_real_3_sales_shifted_16           2386098 non-null  float64       \n",
      " 38   fft_real_3_sales_shifted_365          2386098 non-null  float64       \n",
      " 39   month_cos                             2386098 non-null  float64       \n",
      " 40   month_sin                             2386098 non-null  float64       \n",
      " 41   monthly_max_sales                     2386098 non-null  float64       \n",
      " 42   monthly_max_transactions              2386098 non-null  float64       \n",
      " 43   monthly_mean_sales                    2386098 non-null  float64       \n",
      " 44   monthly_mean_transactions             2386098 non-null  float64       \n",
      " 45   monthly_min_sales                     2386098 non-null  float64       \n",
      " 46   monthly_min_transactions              2386098 non-null  float64       \n",
      " 47   monthly_std_sales                     2386098 non-null  float64       \n",
      " 48   monthly_std_transactions              2386098 non-null  float64       \n",
      " 49   onpromotion                           2386098 non-null  float64       \n",
      " 50   ratio_rolling_mean_3_dcoilwtico       2386098 non-null  float64       \n",
      " 51   ratio_rolling_mean_5_dcoilwtico       2386098 non-null  float64       \n",
      " 52   ratio_rolling_mean_7_dcoilwtico       2386098 non-null  float64       \n",
      " 53   ratio_rolling_mean_14_dcoilwtico      2386098 non-null  float64       \n",
      " 54   ratio_rolling_mean_31_dcoilwtico      2386098 non-null  float64       \n",
      " 55   resid_31_dcoilwtico                   2386098 non-null  float64       \n",
      " 56   resid_31_sales_shifted_16             2386098 non-null  float64       \n",
      " 57   resid_31_sales_shifted_31             2386098 non-null  float64       \n",
      " 58   resid_31_sales_shifted_365            2386098 non-null  float64       \n",
      " 59   rolling_mean_3_sales_shifted_16       2386098 non-null  float64       \n",
      " 60   rolling_mean_3_sales_shifted_31       2386098 non-null  float64       \n",
      " 61   rolling_mean_3_sales_shifted_365      2386098 non-null  float64       \n",
      " 62   rolling_mean_7_sales_shifted_16       2386098 non-null  float64       \n",
      " 63   rolling_mean_7_sales_shifted_31       2386098 non-null  float64       \n",
      " 64   rolling_mean_7_sales_shifted_365      2386098 non-null  float64       \n",
      " 65   rolling_mean_14_sales_shifted_16      2386098 non-null  float64       \n",
      " 66   rolling_mean_14_sales_shifted_31      2386098 non-null  float64       \n",
      " 67   rolling_mean_14_sales_shifted_365     2386098 non-null  float64       \n",
      " 68   rolling_mean_31_sales_shifted_16      2386098 non-null  float64       \n",
      " 69   rolling_mean_31_sales_shifted_31      2386098 non-null  float64       \n",
      " 70   rolling_mean_31_sales_shifted_365     2386098 non-null  float64       \n",
      " 71   rolling_std_3_dcoilwtico              2386098 non-null  float64       \n",
      " 72   rolling_std_3_sales_shifted_16        2386098 non-null  float64       \n",
      " 73   rolling_std_3_sales_shifted_31        2386098 non-null  float64       \n",
      " 74   rolling_std_3_sales_shifted_365       2386098 non-null  float64       \n",
      " 75   rolling_std_5_dcoilwtico              2386098 non-null  float64       \n",
      " 76   rolling_std_5_sales_shifted_16        2386098 non-null  float64       \n",
      " 77   rolling_std_5_sales_shifted_31        2386098 non-null  float64       \n",
      " 78   rolling_std_5_sales_shifted_365       2386098 non-null  float64       \n",
      " 79   rolling_std_7_dcoilwtico              2386098 non-null  float64       \n",
      " 80   rolling_std_7_sales_shifted_16        2386098 non-null  float64       \n",
      " 81   rolling_std_7_sales_shifted_31        2386098 non-null  float64       \n",
      " 82   rolling_std_7_sales_shifted_365       2386098 non-null  float64       \n",
      " 83   rolling_std_14_dcoilwtico             2386098 non-null  float64       \n",
      " 84   rolling_std_14_sales_shifted_16       2386098 non-null  float64       \n",
      " 85   rolling_std_14_sales_shifted_31       2386098 non-null  float64       \n",
      " 86   rolling_std_14_sales_shifted_365      2386098 non-null  float64       \n",
      " 87   rolling_std_31_dcoilwtico             2386098 non-null  float64       \n",
      " 88   rolling_std_31_sales_shifted_16       2386098 non-null  float64       \n",
      " 89   rolling_std_31_sales_shifted_31       2386098 non-null  float64       \n",
      " 90   rolling_std_31_sales_shifted_365      2386098 non-null  float64       \n",
      " 91   seasonal_31_dcoilwtico                2386098 non-null  float64       \n",
      " 92   seasonal_31_sales_shifted_16          2386098 non-null  float64       \n",
      " 93   seasonal_31_sales_shifted_31          2386098 non-null  float64       \n",
      " 94   seasonal_31_sales_shifted_365         2386098 non-null  float64       \n",
      " 95   store_nbr                             2386098 non-null  int64         \n",
      " 96   trend_31_sales_shifted_16             2386098 non-null  float64       \n",
      " 97   trend_31_sales_shifted_365            2386098 non-null  float64       \n",
      " 98   yearly_max_sales                      2386098 non-null  float64       \n",
      " 99   yearly_max_transactions               2386098 non-null  float64       \n",
      " 100  yearly_mean_sales                     2386098 non-null  float64       \n",
      " 101  yearly_mean_transactions              2386098 non-null  float64       \n",
      " 102  yearly_min_sales                      2386098 non-null  float64       \n",
      " 103  yearly_min_transactions               2386098 non-null  float64       \n",
      " 104  yearly_std_sales                      2386098 non-null  float64       \n",
      " 105  yearly_std_transactions               2386098 non-null  float64       \n",
      " 106  1_days_after_holiday                  2386098 non-null  int64         \n",
      " 107  1_days_before_holiday                 2386098 non-null  int64         \n",
      " 108  3_days_after_holiday                  2386098 non-null  int64         \n",
      " 109  3_days_before_holiday                 2386098 non-null  int64         \n",
      " 110  7_days_before_holiday                 2386098 non-null  int64         \n",
      " 111  14_days_before_holiday                2386098 non-null  int64         \n",
      " 112  31_days_before_holiday                2386098 non-null  int64         \n",
      " 113  dayofweek_0                           2386098 non-null  float64       \n",
      " 114  dayofweek_1                           2386098 non-null  float64       \n",
      " 115  dayofweek_2                           2386098 non-null  float64       \n",
      " 116  dayofweek_3                           2386098 non-null  float64       \n",
      " 117  dayofweek_4                           2386098 non-null  float64       \n",
      " 118  dayofweek_5                           2386098 non-null  float64       \n",
      " 119  dayofweek_6                           2386098 non-null  float64       \n",
      " 120  is_fall                               2386098 non-null  int32         \n",
      " 121  is_spring                             2386098 non-null  int32         \n",
      " 122  is_summer                             2386098 non-null  int32         \n",
      " 123  is_weekend                            2386098 non-null  int64         \n",
      " 124  is_winter                             2386098 non-null  int32         \n",
      " 125  month_1                               2386098 non-null  float64       \n",
      " 126  month_2                               2386098 non-null  float64       \n",
      " 127  month_3                               2386098 non-null  float64       \n",
      " 128  month_4                               2386098 non-null  float64       \n",
      " 129  month_5                               2386098 non-null  float64       \n",
      " 130  month_6                               2386098 non-null  float64       \n",
      " 131  month_7                               2386098 non-null  float64       \n",
      " 132  month_8                               2386098 non-null  float64       \n",
      " 133  month_9                               2386098 non-null  float64       \n",
      " 134  month_10                              2386098 non-null  float64       \n",
      " 135  month_11                              2386098 non-null  float64       \n",
      " 136  month_12                              2386098 non-null  float64       \n",
      " 137  year_2013                             2386098 non-null  float64       \n",
      " 138  year_2014                             2386098 non-null  float64       \n",
      " 139  year_2015                             2386098 non-null  float64       \n",
      " 140  year_2016                             2386098 non-null  float64       \n",
      " 141  year_2017                             2386098 non-null  float64       \n",
      " 142  family                                2386098 non-null  object        \n",
      " 143  locale                                2386098 non-null  object        \n",
      " 144  type                                  2386098 non-null  object        \n",
      " 145  sales                                 2386098 non-null  float64       \n",
      " 146  sales_log                             2386098 non-null  float64       \n",
      " 147  family_encoded                        2386098 non-null  float64       \n",
      " 148  locale_encoded                        2386098 non-null  float64       \n",
      " 149  type_encoded                          2386098 non-null  float64       \n",
      "dtypes: datetime64[ns](1), float64(132), int32(5), int64(9), object(3)\n",
      "memory usage: 2.6+ GB\n"
     ]
    }
   ],
   "source": [
    "eda.df.info(verbose=True, show_counts=True)"
   ]
  },
  {
   "cell_type": "markdown",
   "metadata": {},
   "source": [
    "# Model"
   ]
  },
  {
   "cell_type": "code",
   "execution_count": 87,
   "metadata": {},
   "outputs": [
    {
     "data": {
      "text/plain": [
       "(2357586, 28512, 28512)"
      ]
     },
     "execution_count": 87,
     "metadata": {},
     "output_type": "execute_result"
    }
   ],
   "source": [
    "# set indices: training / test\n",
    "split_date = '2017-08-16'\n",
    "train_index = eda.df[eda.df['date'] < split_date].index\n",
    "test_index = eda.df[eda.df['date'] >= split_date].index\n",
    "len(train_index), len(test_index), df_test.shape[0]"
   ]
  },
  {
   "cell_type": "code",
   "execution_count": 88,
   "metadata": {},
   "outputs": [
    {
     "name": "stdout",
     "output_type": "stream",
     "text": [
      "Data is split into X and y:\n",
      " \tX: (2357586, 144) \n",
      " \ty: (2357586,)\n",
      "Regressor initialized\n"
     ]
    }
   ],
   "source": [
    "# regressor\n",
    "regressor = Regressor(eda.df.loc[train_index, :], keep_cols=eda.keep_cols + [\"sales\", \"family\", \"type\", \"locale\"], target=eda.target, transform=\"log\")"
   ]
  },
  {
   "cell_type": "markdown",
   "metadata": {},
   "source": [
    "## Feature Selection"
   ]
  },
  {
   "cell_type": "code",
   "execution_count": 89,
   "metadata": {},
   "outputs": [],
   "source": [
    "# default model\n",
    "model = LGBMRegressor(random_state=42, verbose=-1)"
   ]
  },
  {
   "cell_type": "code",
   "execution_count": 90,
   "metadata": {},
   "outputs": [
    {
     "name": "stdout",
     "output_type": "stream",
     "text": [
      "EDA_Preprocessor instance initialized with data:\n",
      " \tKeeping columns: 5\n",
      " \tNumeric features: 108\n",
      " \tCategorical features: 0\n",
      " \tBinary features: 36\n",
      "EDA data is now as follows:\n",
      "<class 'pandas.core.frame.DataFrame'>\n",
      "RangeIndex: 2357586 entries, 0 to 2357585\n",
      "Data columns (total 150 columns):\n",
      " #    Column                                Non-Null Count    Dtype         \n",
      "---   ------                                --------------    -----         \n",
      " 0    date                                  2357586 non-null  datetime64[ns]\n",
      " 1    sales                                 2357586 non-null  float64       \n",
      " 2    family                                2357586 non-null  object        \n",
      " 3    type                                  2357586 non-null  object        \n",
      " 4    locale                                2357586 non-null  object        \n",
      " 5    dayofyear                             2357586 non-null  int32         \n",
      " 6    dcoilwtico                            2357586 non-null  float64       \n",
      " 7    diff_rolling_mean_3_sales_16_vs_31    2357586 non-null  float64       \n",
      " 8    diff_rolling_mean_3_sales_31_vs_365   2357586 non-null  float64       \n",
      " 9    diff_rolling_mean_5_sales_16_vs_31    2357586 non-null  float64       \n",
      " 10   diff_rolling_mean_5_sales_31_vs_365   2357586 non-null  float64       \n",
      " 11   diff_rolling_mean_7_sales_16_vs_31    2357586 non-null  float64       \n",
      " 12   diff_rolling_mean_7_sales_31_vs_365   2357586 non-null  float64       \n",
      " 13   diff_rolling_mean_14_sales_16_vs_31   2357586 non-null  float64       \n",
      " 14   diff_rolling_mean_14_sales_31_vs_365  2357586 non-null  float64       \n",
      " 15   diff_rolling_mean_31_sales_16_vs_31   2357586 non-null  float64       \n",
      " 16   diff_rolling_mean_31_sales_31_vs_365  2357586 non-null  float64       \n",
      " 17   ewm_alpha_03_sales_shifted_16         2357586 non-null  float64       \n",
      " 18   ewm_alpha_03_sales_shifted_31         2357586 non-null  float64       \n",
      " 19   ewm_alpha_03_sales_shifted_365        2357586 non-null  float64       \n",
      " 20   ewm_alpha_08_sales_shifted_16         2357586 non-null  float64       \n",
      " 21   ewm_alpha_08_sales_shifted_31         2357586 non-null  float64       \n",
      " 22   ewm_alpha_08_sales_shifted_365        2357586 non-null  float64       \n",
      " 23   family_encoded                        2357586 non-null  float64       \n",
      " 24   fft_imag_1_dcoilwtico                 2357586 non-null  float64       \n",
      " 25   fft_imag_1_sales_shifted_16           2357586 non-null  float64       \n",
      " 26   fft_imag_1_sales_shifted_365          2357586 non-null  float64       \n",
      " 27   fft_imag_2_dcoilwtico                 2357586 non-null  float64       \n",
      " 28   fft_imag_2_sales_shifted_16           2357586 non-null  float64       \n",
      " 29   fft_imag_2_sales_shifted_365          2357586 non-null  float64       \n",
      " 30   fft_imag_3_dcoilwtico                 2357586 non-null  float64       \n",
      " 31   fft_imag_3_sales_shifted_16           2357586 non-null  float64       \n",
      " 32   fft_imag_3_sales_shifted_365          2357586 non-null  float64       \n",
      " 33   fft_real_1_dcoilwtico                 2357586 non-null  float64       \n",
      " 34   fft_real_1_sales_shifted_16           2357586 non-null  float64       \n",
      " 35   fft_real_1_sales_shifted_31           2357586 non-null  float64       \n",
      " 36   fft_real_1_sales_shifted_365          2357586 non-null  float64       \n",
      " 37   fft_real_2_dcoilwtico                 2357586 non-null  float64       \n",
      " 38   fft_real_2_sales_shifted_16           2357586 non-null  float64       \n",
      " 39   fft_real_2_sales_shifted_31           2357586 non-null  float64       \n",
      " 40   fft_real_2_sales_shifted_365          2357586 non-null  float64       \n",
      " 41   fft_real_3_dcoilwtico                 2357586 non-null  float64       \n",
      " 42   fft_real_3_sales_shifted_16           2357586 non-null  float64       \n",
      " 43   fft_real_3_sales_shifted_365          2357586 non-null  float64       \n",
      " 44   locale_encoded                        2357586 non-null  float64       \n",
      " 45   month_cos                             2357586 non-null  float64       \n",
      " 46   month_sin                             2357586 non-null  float64       \n",
      " 47   monthly_max_sales                     2357586 non-null  float64       \n",
      " 48   monthly_max_transactions              2357586 non-null  float64       \n",
      " 49   monthly_mean_sales                    2357586 non-null  float64       \n",
      " 50   monthly_mean_transactions             2357586 non-null  float64       \n",
      " 51   monthly_min_sales                     2357586 non-null  float64       \n",
      " 52   monthly_min_transactions              2357586 non-null  float64       \n",
      " 53   monthly_std_sales                     2357586 non-null  float64       \n",
      " 54   monthly_std_transactions              2357586 non-null  float64       \n",
      " 55   onpromotion                           2357586 non-null  float64       \n",
      " 56   ratio_rolling_mean_3_dcoilwtico       2357586 non-null  float64       \n",
      " 57   ratio_rolling_mean_5_dcoilwtico       2357586 non-null  float64       \n",
      " 58   ratio_rolling_mean_7_dcoilwtico       2357586 non-null  float64       \n",
      " 59   ratio_rolling_mean_14_dcoilwtico      2357586 non-null  float64       \n",
      " 60   ratio_rolling_mean_31_dcoilwtico      2357586 non-null  float64       \n",
      " 61   resid_31_dcoilwtico                   2357586 non-null  float64       \n",
      " 62   resid_31_sales_shifted_16             2357586 non-null  float64       \n",
      " 63   resid_31_sales_shifted_31             2357586 non-null  float64       \n",
      " 64   resid_31_sales_shifted_365            2357586 non-null  float64       \n",
      " 65   rolling_mean_3_sales_shifted_16       2357586 non-null  float64       \n",
      " 66   rolling_mean_3_sales_shifted_31       2357586 non-null  float64       \n",
      " 67   rolling_mean_3_sales_shifted_365      2357586 non-null  float64       \n",
      " 68   rolling_mean_7_sales_shifted_16       2357586 non-null  float64       \n",
      " 69   rolling_mean_7_sales_shifted_31       2357586 non-null  float64       \n",
      " 70   rolling_mean_7_sales_shifted_365      2357586 non-null  float64       \n",
      " 71   rolling_mean_14_sales_shifted_16      2357586 non-null  float64       \n",
      " 72   rolling_mean_14_sales_shifted_31      2357586 non-null  float64       \n",
      " 73   rolling_mean_14_sales_shifted_365     2357586 non-null  float64       \n",
      " 74   rolling_mean_31_sales_shifted_16      2357586 non-null  float64       \n",
      " 75   rolling_mean_31_sales_shifted_31      2357586 non-null  float64       \n",
      " 76   rolling_mean_31_sales_shifted_365     2357586 non-null  float64       \n",
      " 77   rolling_std_3_dcoilwtico              2357586 non-null  float64       \n",
      " 78   rolling_std_3_sales_shifted_16        2357586 non-null  float64       \n",
      " 79   rolling_std_3_sales_shifted_31        2357586 non-null  float64       \n",
      " 80   rolling_std_3_sales_shifted_365       2357586 non-null  float64       \n",
      " 81   rolling_std_5_dcoilwtico              2357586 non-null  float64       \n",
      " 82   rolling_std_5_sales_shifted_16        2357586 non-null  float64       \n",
      " 83   rolling_std_5_sales_shifted_31        2357586 non-null  float64       \n",
      " 84   rolling_std_5_sales_shifted_365       2357586 non-null  float64       \n",
      " 85   rolling_std_7_dcoilwtico              2357586 non-null  float64       \n",
      " 86   rolling_std_7_sales_shifted_16        2357586 non-null  float64       \n",
      " 87   rolling_std_7_sales_shifted_31        2357586 non-null  float64       \n",
      " 88   rolling_std_7_sales_shifted_365       2357586 non-null  float64       \n",
      " 89   rolling_std_14_dcoilwtico             2357586 non-null  float64       \n",
      " 90   rolling_std_14_sales_shifted_16       2357586 non-null  float64       \n",
      " 91   rolling_std_14_sales_shifted_31       2357586 non-null  float64       \n",
      " 92   rolling_std_14_sales_shifted_365      2357586 non-null  float64       \n",
      " 93   rolling_std_31_dcoilwtico             2357586 non-null  float64       \n",
      " 94   rolling_std_31_sales_shifted_16       2357586 non-null  float64       \n",
      " 95   rolling_std_31_sales_shifted_31       2357586 non-null  float64       \n",
      " 96   rolling_std_31_sales_shifted_365      2357586 non-null  float64       \n",
      " 97   seasonal_31_dcoilwtico                2357586 non-null  float64       \n",
      " 98   seasonal_31_sales_shifted_16          2357586 non-null  float64       \n",
      " 99   seasonal_31_sales_shifted_31          2357586 non-null  float64       \n",
      " 100  seasonal_31_sales_shifted_365         2357586 non-null  float64       \n",
      " 101  store_nbr                             2357586 non-null  int64         \n",
      " 102  trend_31_sales_shifted_16             2357586 non-null  float64       \n",
      " 103  trend_31_sales_shifted_365            2357586 non-null  float64       \n",
      " 104  type_encoded                          2357586 non-null  float64       \n",
      " 105  yearly_max_sales                      2357586 non-null  float64       \n",
      " 106  yearly_max_transactions               2357586 non-null  float64       \n",
      " 107  yearly_mean_sales                     2357586 non-null  float64       \n",
      " 108  yearly_mean_transactions              2357586 non-null  float64       \n",
      " 109  yearly_min_sales                      2357586 non-null  float64       \n",
      " 110  yearly_min_transactions               2357586 non-null  float64       \n",
      " 111  yearly_std_sales                      2357586 non-null  float64       \n",
      " 112  yearly_std_transactions               2357586 non-null  float64       \n",
      " 113  1_days_after_holiday                  2357586 non-null  int64         \n",
      " 114  1_days_before_holiday                 2357586 non-null  int64         \n",
      " 115  3_days_after_holiday                  2357586 non-null  int64         \n",
      " 116  3_days_before_holiday                 2357586 non-null  int64         \n",
      " 117  7_days_before_holiday                 2357586 non-null  int64         \n",
      " 118  14_days_before_holiday                2357586 non-null  int64         \n",
      " 119  31_days_before_holiday                2357586 non-null  int64         \n",
      " 120  dayofweek_0                           2357586 non-null  float64       \n",
      " 121  dayofweek_1                           2357586 non-null  float64       \n",
      " 122  dayofweek_2                           2357586 non-null  float64       \n",
      " 123  dayofweek_3                           2357586 non-null  float64       \n",
      " 124  dayofweek_4                           2357586 non-null  float64       \n",
      " 125  dayofweek_5                           2357586 non-null  float64       \n",
      " 126  dayofweek_6                           2357586 non-null  float64       \n",
      " 127  is_fall                               2357586 non-null  int32         \n",
      " 128  is_spring                             2357586 non-null  int32         \n",
      " 129  is_summer                             2357586 non-null  int32         \n",
      " 130  is_weekend                            2357586 non-null  int64         \n",
      " 131  is_winter                             2357586 non-null  int32         \n",
      " 132  month_1                               2357586 non-null  float64       \n",
      " 133  month_2                               2357586 non-null  float64       \n",
      " 134  month_3                               2357586 non-null  float64       \n",
      " 135  month_4                               2357586 non-null  float64       \n",
      " 136  month_5                               2357586 non-null  float64       \n",
      " 137  month_6                               2357586 non-null  float64       \n",
      " 138  month_7                               2357586 non-null  float64       \n",
      " 139  month_8                               2357586 non-null  float64       \n",
      " 140  month_9                               2357586 non-null  float64       \n",
      " 141  month_10                              2357586 non-null  float64       \n",
      " 142  month_11                              2357586 non-null  float64       \n",
      " 143  month_12                              2357586 non-null  float64       \n",
      " 144  year_2013                             2357586 non-null  float64       \n",
      " 145  year_2014                             2357586 non-null  float64       \n",
      " 146  year_2015                             2357586 non-null  float64       \n",
      " 147  year_2016                             2357586 non-null  float64       \n",
      " 148  year_2017                             2357586 non-null  float64       \n",
      " 149  sales_log                             2357586 non-null  float64       \n",
      "dtypes: datetime64[ns](1), float64(132), int32(5), int64(9), object(3)\n",
      "memory usage: 2.6+ GB\n",
      "None\n",
      "ID columns are removed from data: 5\n",
      "Data is split into X and y:\n",
      " \tX: (2357586, 144) \n",
      " \ty: (2357586,)\n"
     ]
    },
    {
     "data": {
      "image/png": "[encoded data removed]",
      "text/plain": [
       "<Figure size 1500x750 with 1 Axes>"
      ]
     },
     "metadata": {},
     "output_type": "display_data"
    }
   ],
   "source": [
    "# feature importance\n",
    "eda_imp = EDA_Preprocessor(regressor.data, keep_cols=regressor.keep_cols, drop_cols=[], problem=\"regression\", target_col=\"sales_log\")\n",
    "df_imp = eda_imp.get_feature_importance(model=model, no_features_in_plot=30)"
   ]
  },
  {
   "cell_type": "code",
   "execution_count": 100,
   "metadata": {},
   "outputs": [
    {
     "data": {
      "text/html": [
       "<div>\n",
       "<style scoped>\n",
       "    .dataframe tbody tr th:only-of-type {\n",
       "        vertical-align: middle;\n",
       "    }\n",
       "\n",
       "    .dataframe tbody tr th {\n",
       "        vertical-align: top;\n",
       "    }\n",
       "\n",
       "    .dataframe thead th {\n",
       "        text-align: right;\n",
       "    }\n",
       "</style>\n",
       "<table border=\"1\" class=\"dataframe\">\n",
       "  <thead>\n",
       "    <tr style=\"text-align: right;\">\n",
       "      <th></th>\n",
       "      <th>feature</th>\n",
       "      <th>importance</th>\n",
       "    </tr>\n",
       "  </thead>\n",
       "  <tbody>\n",
       "    <tr>\n",
       "      <th>69</th>\n",
       "      <td>locale_encoded</td>\n",
       "      <td>0.0033</td>\n",
       "    </tr>\n",
       "    <tr>\n",
       "      <th>70</th>\n",
       "      <td>rolling_mean_14_sales_shifted_31</td>\n",
       "      <td>0.0033</td>\n",
       "    </tr>\n",
       "    <tr>\n",
       "      <th>71</th>\n",
       "      <td>year_2015</td>\n",
       "      <td>0.0033</td>\n",
       "    </tr>\n",
       "    <tr>\n",
       "      <th>72</th>\n",
       "      <td>year_2017</td>\n",
       "      <td>0.0033</td>\n",
       "    </tr>\n",
       "    <tr>\n",
       "      <th>73</th>\n",
       "      <td>diff_rolling_mean_14_sales_16_vs_31</td>\n",
       "      <td>0.0030</td>\n",
       "    </tr>\n",
       "    <tr>\n",
       "      <th>...</th>\n",
       "      <td>...</td>\n",
       "      <td>...</td>\n",
       "    </tr>\n",
       "    <tr>\n",
       "      <th>139</th>\n",
       "      <td>fft_real_1_dcoilwtico</td>\n",
       "      <td>0.0000</td>\n",
       "    </tr>\n",
       "    <tr>\n",
       "      <th>140</th>\n",
       "      <td>is_fall</td>\n",
       "      <td>0.0000</td>\n",
       "    </tr>\n",
       "    <tr>\n",
       "      <th>141</th>\n",
       "      <td>is_summer</td>\n",
       "      <td>0.0000</td>\n",
       "    </tr>\n",
       "    <tr>\n",
       "      <th>142</th>\n",
       "      <td>fft_real_2_dcoilwtico</td>\n",
       "      <td>0.0000</td>\n",
       "    </tr>\n",
       "    <tr>\n",
       "      <th>143</th>\n",
       "      <td>month_3</td>\n",
       "      <td>0.0000</td>\n",
       "    </tr>\n",
       "  </tbody>\n",
       "</table>\n",
       "<p>75 rows × 2 columns</p>\n",
       "</div>"
      ],
      "text/plain": [
       "                                 feature  importance\n",
       "69                        locale_encoded      0.0033\n",
       "70      rolling_mean_14_sales_shifted_31      0.0033\n",
       "71                             year_2015      0.0033\n",
       "72                             year_2017      0.0033\n",
       "73   diff_rolling_mean_14_sales_16_vs_31      0.0030\n",
       "..                                   ...         ...\n",
       "139                fft_real_1_dcoilwtico      0.0000\n",
       "140                              is_fall      0.0000\n",
       "141                            is_summer      0.0000\n",
       "142                fft_real_2_dcoilwtico      0.0000\n",
       "143                              month_3      0.0000\n",
       "\n",
       "[75 rows x 2 columns]"
      ]
     },
     "execution_count": 100,
     "metadata": {},
     "output_type": "execute_result"
    }
   ],
   "source": [
    "df_imp.tail(75)"
   ]
  },
  {
   "cell_type": "code",
   "execution_count": 101,
   "metadata": {},
   "outputs": [
    {
     "data": {
      "text/plain": [
       "65"
      ]
     },
     "execution_count": 101,
     "metadata": {},
     "output_type": "execute_result"
    }
   ],
   "source": [
    "# set drop features\n",
    "low_imp = df_imp[df_imp.importance <= 0.0025].feature.tolist()\n",
    "len(low_imp)"
   ]
  },
  {
   "cell_type": "code",
   "execution_count": 102,
   "metadata": {},
   "outputs": [
    {
     "name": "stdout",
     "output_type": "stream",
     "text": [
      "Data is split into X and y:\n",
      " \tX: (2357586, 79) \n",
      " \ty: (2357586,)\n"
     ]
    }
   ],
   "source": [
    "# drop columns\n",
    "regressor.drop_cols(low_imp)"
   ]
  },
  {
   "cell_type": "markdown",
   "metadata": {},
   "source": [
    "## Default Scores"
   ]
  },
  {
   "cell_type": "code",
   "execution_count": 103,
   "metadata": {},
   "outputs": [],
   "source": [
    "# set train / test\n",
    "def set_train_test(split_date, verbose=False):\n",
    "    # set indexes\n",
    "    train_index = regressor.data[regressor.data['date'] < split_date].index\n",
    "    val_index = regressor.data[(regressor.data['date'] >= split_date)].index\n",
    "    if verbose:\n",
    "        print(len(train_index), len(val_index))\n",
    "    # generate train & validation\n",
    "    regressor.X_train = eda.df.loc[train_index, regressor.features]\n",
    "    regressor.X_test = eda.df.loc[val_index, regressor.features]\n",
    "    regressor.y_train = eda.df.loc[train_index, regressor.target]\n",
    "    regressor.y_test = eda.df.loc[val_index, regressor.target]"
   ]
  },
  {
   "cell_type": "code",
   "execution_count": 104,
   "metadata": {},
   "outputs": [],
   "source": [
    "# default model\n",
    "model = CatBoostRegressor(silent=True, random_state=42)"
   ]
  },
  {
   "cell_type": "code",
   "execution_count": 109,
   "metadata": {},
   "outputs": [
    {
     "name": "stdout",
     "output_type": "stream",
     "text": [
      "(53, 3)\n"
     ]
    },
    {
     "data": {
      "text/html": [
       "<div>\n",
       "<style scoped>\n",
       "    .dataframe tbody tr th:only-of-type {\n",
       "        vertical-align: middle;\n",
       "    }\n",
       "\n",
       "    .dataframe tbody tr th {\n",
       "        vertical-align: top;\n",
       "    }\n",
       "\n",
       "    .dataframe thead th {\n",
       "        text-align: right;\n",
       "    }\n",
       "</style>\n",
       "<table border=\"1\" class=\"dataframe\">\n",
       "  <thead>\n",
       "    <tr style=\"text-align: right;\">\n",
       "      <th></th>\n",
       "      <th>store_nbr</th>\n",
       "      <th>family</th>\n",
       "      <th>postprocess</th>\n",
       "    </tr>\n",
       "  </thead>\n",
       "  <tbody>\n",
       "    <tr>\n",
       "      <th>0</th>\n",
       "      <td>1</td>\n",
       "      <td>BABY CARE</td>\n",
       "      <td>1</td>\n",
       "    </tr>\n",
       "  </tbody>\n",
       "</table>\n",
       "</div>"
      ],
      "text/plain": [
       "   store_nbr     family  postprocess\n",
       "0          1  BABY CARE            1"
      ]
     },
     "execution_count": 109,
     "metadata": {},
     "output_type": "execute_result"
    }
   ],
   "source": [
    "# postprocessing rule\n",
    "df_sum = df_all.groupby([\"store_nbr\", \"family\"]).agg({\"sales\": \"sum\"}).reset_index()\n",
    "df_sum = df_sum[df_sum.sales == 0].reset_index(drop=True)\n",
    "df_sum.drop(columns=[\"sales\"], inplace=True)\n",
    "df_sum[\"postprocess\"] = 1\n",
    "df_all = df_all.merge(df_sum, on=[\"store_nbr\", \"family\"], how=\"left\")\n",
    "df_all[\"postprocess\"] = df_all[\"postprocess\"].fillna(0)\n",
    "print(df_sum.shape)\n",
    "df_sum.head(1)"
   ]
  },
  {
   "cell_type": "code",
   "execution_count": 110,
   "metadata": {},
   "outputs": [
    {
     "name": "stdout",
     "output_type": "stream",
     "text": [
      "postprocess\n",
      "0.0    2315131\n",
      "1.0      70967\n",
      "Name: count, dtype: int64\n"
     ]
    }
   ],
   "source": [
    "# postprocess value counts\n",
    "print(df_all.postprocess.value_counts())"
   ]
  },
  {
   "cell_type": "code",
   "execution_count": 111,
   "metadata": {},
   "outputs": [
    {
     "name": "stdout",
     "output_type": "stream",
     "text": [
      "2329074 28512\n",
      "0    4353\n",
      "1    1250\n",
      "2     918\n",
      "3     806\n",
      "4     639\n",
      "Name: count, dtype: int64\n",
      "0    4353\n",
      "1    1250\n",
      "2     918\n",
      "3     806\n",
      "4     639\n",
      "Name: count, dtype: int64\n",
      "{'model': '', 'R2': 0.93452, 'MAE': 91.59982, 'SMAPE': 35.86793, 'RMSE': 319.43864, 'RMSLE': 0.4479, 'sample_size': 28512}\n"
     ]
    }
   ],
   "source": [
    "# validation score: 2017 AUG\n",
    "split_date = '2017-07-31'\n",
    "set_train_test(split_date, True)\n",
    "regressor.score_in_test(model)\n",
    "y = regressor.data.loc[regressor.y_test.index, \"sales\"].replace({0.1:0}).reset_index(drop=True)\n",
    "pred_test = pd.Series(np.exp(regressor.pred_test)).apply(lambda x: round(x) if x >= 0.55 else 0)\n",
    "pred_test.index = regressor.y_test.index\n",
    "# postprocess\n",
    "print(pred_test.value_counts()[:5])\n",
    "postprocess_indexes = regressor.X_test[regressor.X_test.index.isin(df_all[df_all.postprocess == 1].index)].index\n",
    "pred_test.loc[postprocess_indexes] = 0\n",
    "pred_test.reset_index(drop=True, inplace=True)\n",
    "print(pred_test.value_counts()[:5])\n",
    "print(regression_metrics(y, pred_test))"
   ]
  },
  {
   "cell_type": "code",
   "execution_count": null,
   "metadata": {},
   "outputs": [],
   "source": [
    "# loop default: store\n",
    "if \"type\" in regressor.data.columns:\n",
    "    regressor.data.drop(columns=[\"type\", \"locale\"], inplace=True)\n",
    "\n",
    "pred_list = []\n",
    "idx_lists = []\n",
    "models = []\n",
    "target = regressor.data[(regressor.data.date >= split_date)].sales.replace({0.1:0})\n",
    "for store_i in tqdm(regressor.data.store_nbr.unique(), total=len(regressor.data.store_nbr.unique())):   \n",
    "    X_slice_train = regressor.data[(regressor.data.store_nbr == store_i) & (regressor.data.date < split_date)].drop(columns=[\"date\", 'store_nbr', 'family', \"sales\", \"sales_log\"]).rename(columns = lambda x:re.sub('[^A-Za-z0-9_]+', '', x))\n",
    "    y_slice_train = regressor.data.loc[X_slice_train.index, \"sales_log\"]\n",
    "    X_slice_test = regressor.data[(regressor.data.store_nbr == store_i) & (regressor.data.date >= split_date)].drop(columns=[\"date\", 'store_nbr', 'family', \"sales\", \"sales_log\"]).rename(columns = lambda x:re.sub('[^A-Za-z0-9_]+', '', x))\n",
    "    y_slice_test = regressor.data.loc[X_slice_test.index, \"sales\"]\n",
    "    model = CatBoostRegressor(silent=True, random_state=42)      \n",
    "    model.fit(X_slice_train, y_slice_train)\n",
    "    models.append(model)\n",
    "    preds = pd.Series(model.predict(X_slice_test)).apply(np.exp).apply(lambda x: round(x) if x >= 0.55 else 0) #.apply(round) # TODO: let's try log!\n",
    "    pred_list.append(preds)\n",
    "    idx_lists.append(y_slice_test.index)\n",
    "    scores = regression_metrics(y_slice_test, preds)\n",
    "    print(f\"{store_i:3}:\", scores)\n",
    "preds = pd.Series([val for sublist in pred_list for val in sublist], index=[idx for sublist in idx_lists for idx in sublist])\n",
    "print(regression_metrics(target.loc[preds.index], preds))"
   ]
  },
  {
   "cell_type": "code",
   "execution_count": null,
   "metadata": {},
   "outputs": [],
   "source": [
    "# loop default: store & family\n",
    "df_all.drop(columns=[\"type\", \"locale\"], inplace=True)\n",
    "df_all = df_all.sort_values(by=['date', 'store_nbr', 'family'])\n",
    "\n",
    "pred_list = []\n",
    "idx_lists = []\n",
    "models = []\n",
    "target = df_all[(df_all.date >= split_date)].sales\n",
    "for store_i, family_i in tqdm(product(df_all.store_nbr.unique(), df_all.family.unique()), total=len(df_all.store_nbr.unique()) * len(df_all.family.unique())):   \n",
    "    X_slice_train = df_all[(df_all.store_nbr == store_i) & (df_all.family == family_i) & (df_all.date < split_date)].drop(columns=[\"date\", 'store_nbr', 'family', \"sales\"]).rename(columns = lambda x:re.sub('[^A-Za-z0-9_]+', '', x))\n",
    "    y_slice_train = df_all.loc[X_slice_train.index, \"sales\"].replace({0:0.1}).apply(np.log) # TODO: let's try log!\n",
    "    X_slice_test = df_all[(df_all.store_nbr == store_i) & (df_all.family == family_i) & (df_all.date >= split_date)].drop(columns=[\"date\", 'store_nbr', 'family', \"sales\"]).rename(columns = lambda x:re.sub('[^A-Za-z0-9_]+', '', x))\n",
    "    y_slice_test = df_all.loc[X_slice_test.index, \"sales\"]\n",
    "    if y_slice_train.nunique() == 1:\n",
    "        preds = pd.Series([0]*len(X_slice_test))\n",
    "    else:\n",
    "        model = CatBoostRegressor(silent=True, random_state=14)      \n",
    "        model.fit(X_slice_train, y_slice_train)\n",
    "        models.append(model)\n",
    "        preds = pd.Series(model.predict(X_slice_test)).apply(np.exp).apply(lambda x: round(x) if x >= 0.5 else 0) #.apply(round) # TODO: let's try log!\n",
    "    pred_list.append(preds)\n",
    "    idx_lists.append(y_slice_test.index)\n",
    "    scores = regression_metrics(y_slice_test, preds)\n",
    "    print(f\"{store_i:3} - {family_i:15}:\", scores)\n",
    "preds = pd.Series([val for sublist in pred_list for val in sublist], index=[idx for sublist in idx_lists for idx in sublist])\n",
    "print(regression_metrics(target.loc[preds.index], preds))"
   ]
  },
  {
   "cell_type": "markdown",
   "metadata": {},
   "source": [
    "## Hypertune"
   ]
  },
  {
   "cell_type": "code",
   "execution_count": null,
   "metadata": {},
   "outputs": [],
   "source": [
    "\n",
    "regressor.score_in_test(model)\n",
    "y = regressor.data.loc[regressor.y_test.index, \"sales\"].replace({0.1:0}).reset_index(drop=True)\n",
    "pred_test = pd.Series(np.exp(regressor.pred_test)).apply(lambda x: round(x) if x >= 0.55 else 0)\n",
    "pred_test.index = regressor.y_test.index\n",
    "# postprocess\n",
    "print(pred_test.value_counts()[:5])\n",
    "postprocess_indexes = regressor.X_test[regressor.X_test.index.isin(df_all[df_all.postprocess == 1].index)].index\n",
    "pred_test.loc[postprocess_indexes] = 0\n",
    "pred_test.reset_index(drop=True, inplace=True)\n",
    "print(pred_test.value_counts()[:5])\n",
    "print(regression_metrics(y, pred_test))"
   ]
  },
  {
   "cell_type": "code",
   "execution_count": null,
   "metadata": {},
   "outputs": [],
   "source": [
    "regressor.X_test"
   ]
  },
  {
   "cell_type": "code",
   "execution_count": null,
   "metadata": {},
   "outputs": [],
   "source": [
    "# optuna tuning\n",
    "split_date = '2017-07-31'\n",
    "set_train_test(split_date, False)\n",
    "y = regressor.data.loc[regressor.y_test.index, \"sales\"].replace({0.1:0}).reset_index(drop=True)\n",
    "\n",
    "def objective(trial):\n",
    "    # catboost\n",
    "    param = {\n",
    "        'iterations': trial.suggest_int('iterations', 100, 1000),\n",
    "        'depth': trial.suggest_int('depth', 4, 10),\n",
    "        'learning_rate': trial.suggest_loguniform('learning_rate', 0.001, 0.3),\n",
    "        'l2_leaf_reg': trial.suggest_loguniform('l2_leaf_reg', 1, 10),\n",
    "        'min_data_in_leaf': trial.suggest_int('min_data_in_leaf', 1, 100),\n",
    "        'subsample': trial.suggest_float('subsample', 0.5, 1),\n",
    "        'colsample_bylevel': trial.suggest_float('colsample_bylevel', 0.5, 1),\n",
    "        'border_count': trial.suggest_int('border_count', 32, 255),\n",
    "        'random_strength': trial.suggest_int('random_strength', 0, 100),\n",
    "        'bagging_temperature': trial.suggest_loguniform('bagging_temperature', 0.01, 1.0),\n",
    "    }\n",
    "    # check score    \n",
    "    model = CatBoostRegressor(**param, silent=True, random_state=42)\n",
    "    regressor.score_in_test(model)\n",
    "    pred_test = pd.Series(np.exp(regressor.pred_test)).apply(lambda x: round(x) if x >= 0.55 else 0)\n",
    "    pred_test.index = regressor.y_test.index\n",
    "    # postprocess\n",
    "    postprocess_indexes = regressor.X_test[regressor.X_test.index.isin(df_all[df_all.postprocess == 1].index)].index\n",
    "    pred_test.loc[postprocess_indexes] = 0\n",
    "    pred_test.reset_index(drop=True, inplace=True)   \n",
    "    scores = regression_metrics(y, pred_test)\n",
    "    return scores[\"RMSLE\"]\n",
    "\n",
    "# create a study for every ilce\n",
    "study = optuna.create_study(direction='minimize')\n",
    "study.optimize(objective, n_trials=1500, timeout=18000)\n",
    "print('Number of finished trials:', len(study.trials))\n",
    "print(f'Best trial for {i}:', study.best_trial.params)\n",
    "model = CatBoostRegressor(**study.best_trial.params, silent=True, random_state=42)\n",
    "models.append(model)"
   ]
  },
  {
   "cell_type": "markdown",
   "metadata": {},
   "source": [
    "# Inference"
   ]
  },
  {
   "cell_type": "code",
   "execution_count": null,
   "metadata": {},
   "outputs": [],
   "source": [
    "# load sample submission\n",
    "sample_submission = pd.read_csv(\"./data/sample_submission.csv\", sep=\",\")\n",
    "print(sample_submission.shape)\n",
    "sample_submission.head(1)"
   ]
  },
  {
   "cell_type": "code",
   "execution_count": null,
   "metadata": {},
   "outputs": [],
   "source": [
    "# test data\n",
    "df_test[\"id\"] = sample_submission.id\n",
    "print(df_test.shape)\n",
    "df_test.head(1)"
   ]
  },
  {
   "cell_type": "code",
   "execution_count": null,
   "metadata": {},
   "outputs": [],
   "source": [
    "# train model\n",
    "params = {'iterations': 750, 'depth': 9, 'learning_rate': 0.29921765363191793, 'l2_leaf_reg': 4.7854817154540745, 'min_data_in_leaf': 88, 'subsample': 0.964372409117212, 'colsample_bylevel': 0.6734620866468853, 'border_count': 215, 'random_strength': 0, 'bagging_temperature': 0.11427943907226452}\n",
    "model = CatBoostRegressor(**params, silent=True, random_state=42)\n",
    "model.fit(eda.df.loc[train_index, :][regressor.features], eda.df.loc[train_index, :].sales_log)"
   ]
  },
  {
   "cell_type": "code",
   "execution_count": null,
   "metadata": {},
   "outputs": [],
   "source": [
    "# straight inference\n",
    "df_pred = eda.df.loc[test_index, :][[\"date\", \"store_nbr\", \"family\"]].reset_index(drop=True)\n",
    "pred_test = model.predict(eda.df.loc[test_index, :][regressor.features])\n",
    "df_pred[\"sales\"] = pd.Series(np.exp(pred_test)).apply(lambda x: round(x) if x >= 0.55 else 0)\n",
    "print(df_pred[\"sales\"].value_counts()[:5])"
   ]
  },
  {
   "cell_type": "code",
   "execution_count": null,
   "metadata": {},
   "outputs": [],
   "source": [
    "# postprocess\n",
    "df_pred = df_pred.merge(df_sum, on=[\"store_nbr\", \"family\"], how=\"left\")\n",
    "df_pred.postprocess = df_pred.postprocess.fillna(0)\n",
    "df_pred.sales = np.where(df_pred.postprocess == 1, 0, df_pred.sales)"
   ]
  },
  {
   "cell_type": "code",
   "execution_count": null,
   "metadata": {},
   "outputs": [],
   "source": [
    "# loop inference\n",
    "pred_frames = []\n",
    "for store_i, family_i in tqdm(product(df_all.store_nbr.unique(), df_all.family.unique()), total=len(df_all.store_nbr.unique()) * len(df_all.family.unique())): \n",
    "    X_slice_test = df_all[(df_all.store_nbr == store_i) & (df_all.family == family_i) & (df_all.date >= '2017-07-31')].rename(columns = lambda x:re.sub('[^A-Za-z0-9_]+', '', x))\n",
    "    df_preds = X_slice_test[[\"date\", \"store_nbr\", \"family\"]]\n",
    "    df_preds.date = df_preds.date.astype(str)\n",
    "    final_preds = pd.Series(models[i].predict(X_slice_test.drop(columns=[\"date\", 'store_nbr', 'family', \"sales\"]))).apply(np.exp).apply(lambda x: round(x) if x >= 0.75 else 0) #.apply(round)\n",
    "    final_preds.index = X_slice_test.index\n",
    "    df_preds[\"sales\"] = final_preds\n",
    "    pred_frames.append(df_preds)\n",
    "df_preds = pd.concat(pred_frames)\n",
    "df_preds"
   ]
  },
  {
   "cell_type": "code",
   "execution_count": null,
   "metadata": {},
   "outputs": [],
   "source": [
    "# save predictions\n",
    "df_test = df_test.merge(df_pred, on=[\"date\",\"store_nbr\",\"family\"], how=\"left\")\n",
    "df_test[[\"id\", \"sales\"]].to_csv(\"./data/submission.csv\", index = False)"
   ]
  },
  {
   "cell_type": "code",
   "execution_count": null,
   "metadata": {},
   "outputs": [],
   "source": [
    "df_test"
   ]
  }
 ],
 "metadata": {
  "kernelspec": {
   "display_name": "ml_structured_env",
   "language": "python",
   "name": "python3"
  },
  "language_info": {
   "codemirror_mode": {
    "name": "ipython",
    "version": 3
   },
   "file_extension": ".py",
   "mimetype": "text/x-python",
   "name": "python",
   "nbconvert_exporter": "python",
   "pygments_lexer": "ipython3",
   "version": "3.9.7"
  }
 },
 "nbformat": 4,
 "nbformat_minor": 2
}
